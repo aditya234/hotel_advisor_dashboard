{
 "cells": [
  {
   "cell_type": "code",
   "execution_count": 13,
   "metadata": {},
   "outputs": [],
   "source": [
    "import pandas as pd\n",
    "import numpy as np\n",
    "import matplotlib.pyplot as plt\n",
    "import json\n",
    "import math"
   ]
  },
  {
   "cell_type": "code",
   "execution_count": 14,
   "metadata": {},
   "outputs": [],
   "source": [
    "f1 = open('./data/hotels/tokyo_hotels.json', \"r\")\n",
    "data1 = json.loads(f1.read())\n",
    "f1.close()\n",
    "\n",
    "f2 = open('./data/hotels/london_hotels.json', \"r\")\n",
    "data2 = json.loads(f2.read())\n",
    "f2.close()\n",
    "\n",
    "f3 = open('./data/hotels/singapore_hotels.json', \"r\")\n",
    "data3 = json.loads(f3.read())\n",
    "f3.close()\n",
    "\n",
    "f4 = open('./data/hotels/new_york_hotels.json', \"r\")\n",
    "data4 = json.loads(f4.read())\n",
    "f4.close()"
   ]
  },
  {
   "cell_type": "code",
   "execution_count": 15,
   "outputs": [],
   "source": [
    "df = None\n",
    "\n",
    "\n",
    "def add_city(json_data, city):\n",
    "    global df\n",
    "    df_new = pd.json_normalize(json_data)\n",
    "    df_new['city'] = city\n",
    "    if df is None:\n",
    "        df = df_new\n",
    "    else:\n",
    "        df = df.append(df_new, ignore_index=True)\n",
    "    return df"
   ],
   "metadata": {
    "collapsed": false,
    "pycharm": {
     "name": "#%%\n"
    }
   }
  },
  {
   "cell_type": "code",
   "execution_count": 16,
   "outputs": [
    {
     "data": {
      "text/plain": "                                             hotel_name rating   review_count  \\\n0                       Daiwa Roynet Hotel Tokyo Ariake    4.0     81 reviews   \n1                    Hotel Metropolitan Tokyo Ikebukuro    4.0  1,859 reviews   \n2                            ONSEN RYOKAN YUEN SHINJUKU    4.5     86 reviews   \n3                      Rembrandt Style Tokyo Nishikasai    4.0    461 reviews   \n4                           HOTEL UNIZO Ginza-nanachome    3.5     86 reviews   \n...                                                 ...    ...            ...   \n4283                                   TBA Times Square    1.5      8 reviews   \n4284                             Casa Cipriani New York    5.0       1 review   \n4285  Courtyard New York Downtown Manhattan / Financ...    2.5      7 reviews   \n4286            Best Western Premier Empire State Hotel    4.5      6 reviews   \n4287  Residence Inn New York Downtown Manhattan/fina...    3.0      4 reviews   \n\n                                           hotel_rank  \\\n0                            #4 of 6 hotels in Ariake   \n1                          #4 of 67 hotels in Toshima   \n2                       #19 of 107 hotels in Shinjuku   \n3                          #4 of 18 hotels in Edogawa   \n4                           #27 of 36 hotels in Ginza   \n...                                               ...   \n4283  #175 of 290 Speciality lodging in New York City   \n4284              #444 of 531 hotels in New York City   \n4285              #479 of 531 hotels in New York City   \n4286   #43 of 290 Speciality lodging in New York City   \n4287              #472 of 531 hotels in New York City   \n\n                                              amenities  \\\n0     [Free High Speed Internet (WiFi), Wifi, Restau...   \n1     [Paid private parking on-site, Free High Speed...   \n2     [Free High Speed Internet (WiFi), Wifi, Hot ba...   \n3     [Paid private parking on-site, Free High Speed...   \n4     [Free High Speed Internet (WiFi), Hot bath, Co...   \n...                                                 ...   \n4283  [Free High Speed Internet (WiFi), Wifi, Fitnes...   \n4284  [Valet parking, Free internet, Rooftop pool, F...   \n4285  [Paid public parking nearby, Free High Speed I...   \n4286                                                 []   \n4287  [Valet parking, Free High Speed Internet (WiFi...   \n\n                               languages                    hotel_class  \\\n0                      English, Japanese             [Trendy, Business]   \n1             English, Chinese, Japanese                [Family, Quiet]   \n2     English, Chinese, Japanese, Korean                             []   \n3     English, Chinese, Japanese, Nepali             [Modern, Business]   \n4                      English, Japanese  [Business, Centrally Located]   \n...                                  ...                            ...   \n4283                                None                             []   \n4284                                None                             []   \n4285           English, Spanish, Chinese                             []   \n4286                                None                             []   \n4287           English, Spanish, Chinese                             []   \n\n      price best_price_source restraunts_nearby attractions_nearby  \\\n0      None              None                94                  6   \n1      None              None              1705                 82   \n2      7662     ZenHotels.com               817                 79   \n3      None              None               305                  4   \n4      None              None              3098                375   \n...     ...               ...               ...                ...   \n4283   8643       Booking.com               469                151   \n4284  59609         Agoda.com               142                 39   \n4285   8471           Expedia               401                 66   \n4286   8555           Expedia               544                103   \n4287   8732        Hotels.com               400                 66   \n\n     good_for_walkers_out_of_100                                 top_cuisines  \\\n0                             94  [Seafood, Contemporary, Fast food, Italian]   \n1                             98     [Japanese, Japanese, Japanese, Japanese]   \n2                             98            [Barbecue, Asian, Japanese, Cafe]   \n3                             87                   [Mexican, Asian, Japanese]   \n4                            100             [Barbecue, Bar, Pub, Steakhouse]   \n...                          ...                                          ...   \n4283                         100          [American, Mexican, Italian, Asian]   \n4284                         100        [Irish, American, American, American]   \n4285                         100      [Italian, Japanese, American, American]   \n4286                         100          [Indian, American, American, Asian]   \n4287                         100      [Italian, Japanese, American, American]   \n\n                                          lat_long_link  \\\n0         3-7-3, Ariake, Koto 135-0063 Tokyo Prefecture   \n1     1-6-1 Nishiikebukuro, Toshima 171-8505 Tokyo P...   \n2     5-3-18 Shinjuku, Shinjuku 160-0022 Tokyo Prefe...   \n3     6-17-9 Nishikasai, Edogawa 134-0088 Tokyo Pref...   \n4         7-10-9, Ginza, Chuo 104-0061 Tokyo Prefecture   \n...                                                 ...   \n4283        340 W 40th St, New York City, NY 10018-1404   \n4284          10 South St, New York City, NY 10004-1921   \n4285         215 Pearl St, New York City, NY 10038-4916   \n4286         16 E 30th St, New York City, NY 10016-7002   \n4287         215 Pearl St, New York City, NY 10038-4916   \n\n                 best_features_as_per_reviews  \\\n0     [Location, Cleanliness, Service, Value]   \n1     [Location, Cleanliness, Service, Value]   \n2     [Location, Cleanliness, Service, Value]   \n3     [Location, Cleanliness, Service, Value]   \n4     [Location, Cleanliness, Service, Value]   \n...                                       ...   \n4283               [Location, Service, Value]   \n4284         [Location, Cleanliness, Service]   \n4285  [Location, Cleanliness, Service, Value]   \n4286  [Location, Cleanliness, Service, Value]   \n4287                                [Service]   \n\n                                            restaurants      city  \n0     [{'name': 'Akarie', 'cusines': [], 'reviews': ...     Tokyo  \n1     [{'name': 'Sakura Cafe & Restaurant Ikebukuro'...     Tokyo  \n2     [{'name': 'Sakuratei', 'cusines': ['', 'Health...     Tokyo  \n3     [{'name': 'Fontaine', 'cusines': [], 'reviews'...     Tokyo  \n4     [{'name': 'La Gioconda', 'cusines': ['', 'Cent...     Tokyo  \n...                                                 ...       ...  \n4283                                                NaN  New York  \n4284                                                NaN  New York  \n4285                                                NaN  New York  \n4286                                                NaN  New York  \n4287                                                NaN  New York  \n\n[4288 rows x 17 columns]",
      "text/html": "<div>\n<style scoped>\n    .dataframe tbody tr th:only-of-type {\n        vertical-align: middle;\n    }\n\n    .dataframe tbody tr th {\n        vertical-align: top;\n    }\n\n    .dataframe thead th {\n        text-align: right;\n    }\n</style>\n<table border=\"1\" class=\"dataframe\">\n  <thead>\n    <tr style=\"text-align: right;\">\n      <th></th>\n      <th>hotel_name</th>\n      <th>rating</th>\n      <th>review_count</th>\n      <th>hotel_rank</th>\n      <th>amenities</th>\n      <th>languages</th>\n      <th>hotel_class</th>\n      <th>price</th>\n      <th>best_price_source</th>\n      <th>restraunts_nearby</th>\n      <th>attractions_nearby</th>\n      <th>good_for_walkers_out_of_100</th>\n      <th>top_cuisines</th>\n      <th>lat_long_link</th>\n      <th>best_features_as_per_reviews</th>\n      <th>restaurants</th>\n      <th>city</th>\n    </tr>\n  </thead>\n  <tbody>\n    <tr>\n      <th>0</th>\n      <td>Daiwa Roynet Hotel Tokyo Ariake</td>\n      <td>4.0</td>\n      <td>81 reviews</td>\n      <td>#4 of 6 hotels in Ariake</td>\n      <td>[Free High Speed Internet (WiFi), Wifi, Restau...</td>\n      <td>English, Japanese</td>\n      <td>[Trendy, Business]</td>\n      <td>None</td>\n      <td>None</td>\n      <td>94</td>\n      <td>6</td>\n      <td>94</td>\n      <td>[Seafood, Contemporary, Fast food, Italian]</td>\n      <td>3-7-3, Ariake, Koto 135-0063 Tokyo Prefecture</td>\n      <td>[Location, Cleanliness, Service, Value]</td>\n      <td>[{'name': 'Akarie', 'cusines': [], 'reviews': ...</td>\n      <td>Tokyo</td>\n    </tr>\n    <tr>\n      <th>1</th>\n      <td>Hotel Metropolitan Tokyo Ikebukuro</td>\n      <td>4.0</td>\n      <td>1,859 reviews</td>\n      <td>#4 of 67 hotels in Toshima</td>\n      <td>[Paid private parking on-site, Free High Speed...</td>\n      <td>English, Chinese, Japanese</td>\n      <td>[Family, Quiet]</td>\n      <td>None</td>\n      <td>None</td>\n      <td>1705</td>\n      <td>82</td>\n      <td>98</td>\n      <td>[Japanese, Japanese, Japanese, Japanese]</td>\n      <td>1-6-1 Nishiikebukuro, Toshima 171-8505 Tokyo P...</td>\n      <td>[Location, Cleanliness, Service, Value]</td>\n      <td>[{'name': 'Sakura Cafe &amp; Restaurant Ikebukuro'...</td>\n      <td>Tokyo</td>\n    </tr>\n    <tr>\n      <th>2</th>\n      <td>ONSEN RYOKAN YUEN SHINJUKU</td>\n      <td>4.5</td>\n      <td>86 reviews</td>\n      <td>#19 of 107 hotels in Shinjuku</td>\n      <td>[Free High Speed Internet (WiFi), Wifi, Hot ba...</td>\n      <td>English, Chinese, Japanese, Korean</td>\n      <td>[]</td>\n      <td>7662</td>\n      <td>ZenHotels.com</td>\n      <td>817</td>\n      <td>79</td>\n      <td>98</td>\n      <td>[Barbecue, Asian, Japanese, Cafe]</td>\n      <td>5-3-18 Shinjuku, Shinjuku 160-0022 Tokyo Prefe...</td>\n      <td>[Location, Cleanliness, Service, Value]</td>\n      <td>[{'name': 'Sakuratei', 'cusines': ['', 'Health...</td>\n      <td>Tokyo</td>\n    </tr>\n    <tr>\n      <th>3</th>\n      <td>Rembrandt Style Tokyo Nishikasai</td>\n      <td>4.0</td>\n      <td>461 reviews</td>\n      <td>#4 of 18 hotels in Edogawa</td>\n      <td>[Paid private parking on-site, Free High Speed...</td>\n      <td>English, Chinese, Japanese, Nepali</td>\n      <td>[Modern, Business]</td>\n      <td>None</td>\n      <td>None</td>\n      <td>305</td>\n      <td>4</td>\n      <td>87</td>\n      <td>[Mexican, Asian, Japanese]</td>\n      <td>6-17-9 Nishikasai, Edogawa 134-0088 Tokyo Pref...</td>\n      <td>[Location, Cleanliness, Service, Value]</td>\n      <td>[{'name': 'Fontaine', 'cusines': [], 'reviews'...</td>\n      <td>Tokyo</td>\n    </tr>\n    <tr>\n      <th>4</th>\n      <td>HOTEL UNIZO Ginza-nanachome</td>\n      <td>3.5</td>\n      <td>86 reviews</td>\n      <td>#27 of 36 hotels in Ginza</td>\n      <td>[Free High Speed Internet (WiFi), Hot bath, Co...</td>\n      <td>English, Japanese</td>\n      <td>[Business, Centrally Located]</td>\n      <td>None</td>\n      <td>None</td>\n      <td>3098</td>\n      <td>375</td>\n      <td>100</td>\n      <td>[Barbecue, Bar, Pub, Steakhouse]</td>\n      <td>7-10-9, Ginza, Chuo 104-0061 Tokyo Prefecture</td>\n      <td>[Location, Cleanliness, Service, Value]</td>\n      <td>[{'name': 'La Gioconda', 'cusines': ['', 'Cent...</td>\n      <td>Tokyo</td>\n    </tr>\n    <tr>\n      <th>...</th>\n      <td>...</td>\n      <td>...</td>\n      <td>...</td>\n      <td>...</td>\n      <td>...</td>\n      <td>...</td>\n      <td>...</td>\n      <td>...</td>\n      <td>...</td>\n      <td>...</td>\n      <td>...</td>\n      <td>...</td>\n      <td>...</td>\n      <td>...</td>\n      <td>...</td>\n      <td>...</td>\n      <td>...</td>\n    </tr>\n    <tr>\n      <th>4283</th>\n      <td>TBA Times Square</td>\n      <td>1.5</td>\n      <td>8 reviews</td>\n      <td>#175 of 290 Speciality lodging in New York City</td>\n      <td>[Free High Speed Internet (WiFi), Wifi, Fitnes...</td>\n      <td>None</td>\n      <td>[]</td>\n      <td>8643</td>\n      <td>Booking.com</td>\n      <td>469</td>\n      <td>151</td>\n      <td>100</td>\n      <td>[American, Mexican, Italian, Asian]</td>\n      <td>340 W 40th St, New York City, NY 10018-1404</td>\n      <td>[Location, Service, Value]</td>\n      <td>NaN</td>\n      <td>New York</td>\n    </tr>\n    <tr>\n      <th>4284</th>\n      <td>Casa Cipriani New York</td>\n      <td>5.0</td>\n      <td>1 review</td>\n      <td>#444 of 531 hotels in New York City</td>\n      <td>[Valet parking, Free internet, Rooftop pool, F...</td>\n      <td>None</td>\n      <td>[]</td>\n      <td>59609</td>\n      <td>Agoda.com</td>\n      <td>142</td>\n      <td>39</td>\n      <td>100</td>\n      <td>[Irish, American, American, American]</td>\n      <td>10 South St, New York City, NY 10004-1921</td>\n      <td>[Location, Cleanliness, Service]</td>\n      <td>NaN</td>\n      <td>New York</td>\n    </tr>\n    <tr>\n      <th>4285</th>\n      <td>Courtyard New York Downtown Manhattan / Financ...</td>\n      <td>2.5</td>\n      <td>7 reviews</td>\n      <td>#479 of 531 hotels in New York City</td>\n      <td>[Paid public parking nearby, Free High Speed I...</td>\n      <td>English, Spanish, Chinese</td>\n      <td>[]</td>\n      <td>8471</td>\n      <td>Expedia</td>\n      <td>401</td>\n      <td>66</td>\n      <td>100</td>\n      <td>[Italian, Japanese, American, American]</td>\n      <td>215 Pearl St, New York City, NY 10038-4916</td>\n      <td>[Location, Cleanliness, Service, Value]</td>\n      <td>NaN</td>\n      <td>New York</td>\n    </tr>\n    <tr>\n      <th>4286</th>\n      <td>Best Western Premier Empire State Hotel</td>\n      <td>4.5</td>\n      <td>6 reviews</td>\n      <td>#43 of 290 Speciality lodging in New York City</td>\n      <td>[]</td>\n      <td>None</td>\n      <td>[]</td>\n      <td>8555</td>\n      <td>Expedia</td>\n      <td>544</td>\n      <td>103</td>\n      <td>100</td>\n      <td>[Indian, American, American, Asian]</td>\n      <td>16 E 30th St, New York City, NY 10016-7002</td>\n      <td>[Location, Cleanliness, Service, Value]</td>\n      <td>NaN</td>\n      <td>New York</td>\n    </tr>\n    <tr>\n      <th>4287</th>\n      <td>Residence Inn New York Downtown Manhattan/fina...</td>\n      <td>3.0</td>\n      <td>4 reviews</td>\n      <td>#472 of 531 hotels in New York City</td>\n      <td>[Valet parking, Free High Speed Internet (WiFi...</td>\n      <td>English, Spanish, Chinese</td>\n      <td>[]</td>\n      <td>8732</td>\n      <td>Hotels.com</td>\n      <td>400</td>\n      <td>66</td>\n      <td>100</td>\n      <td>[Italian, Japanese, American, American]</td>\n      <td>215 Pearl St, New York City, NY 10038-4916</td>\n      <td>[Service]</td>\n      <td>NaN</td>\n      <td>New York</td>\n    </tr>\n  </tbody>\n</table>\n<p>4288 rows × 17 columns</p>\n</div>"
     },
     "execution_count": 16,
     "metadata": {},
     "output_type": "execute_result"
    }
   ],
   "source": [
    "add_city(data1, 'Tokyo')\n",
    "add_city(data2, 'London')\n",
    "add_city(data3, 'Singapore')\n",
    "add_city(data4, 'New York')"
   ],
   "metadata": {
    "collapsed": false,
    "pycharm": {
     "name": "#%%\n"
    }
   }
  },
  {
   "cell_type": "code",
   "execution_count": 17,
   "outputs": [
    {
     "data": {
      "text/plain": "London       2247\nTokyo        1523\nSingapore     259\nNew York      259\nName: city, dtype: int64"
     },
     "execution_count": 17,
     "metadata": {},
     "output_type": "execute_result"
    }
   ],
   "source": [
    "df.city.value_counts()"
   ],
   "metadata": {
    "collapsed": false,
    "pycharm": {
     "name": "#%%\n"
    }
   }
  },
  {
   "cell_type": "code",
   "execution_count": 18,
   "outputs": [
    {
     "data": {
      "text/plain": "                           hotel_name rating review_count hotel_rank  \\\n0     Daiwa Roynet Hotel Tokyo Ariake    4.0           81          4   \n1  Hotel Metropolitan Tokyo Ikebukuro    4.0        1,859          4   \n2          ONSEN RYOKAN YUEN SHINJUKU    4.5           86         19   \n3    Rembrandt Style Tokyo Nishikasai    4.0          461          4   \n4         HOTEL UNIZO Ginza-nanachome    3.5           86         27   \n\n                                           amenities  \\\n0  [Free High Speed Internet (WiFi), Wifi, Restau...   \n1  [Paid private parking on-site, Free High Speed...   \n2  [Free High Speed Internet (WiFi), Wifi, Hot ba...   \n3  [Paid private parking on-site, Free High Speed...   \n4  [Free High Speed Internet (WiFi), Hot bath, Co...   \n\n                              languages                    hotel_class price  \\\n0                   [English, Japanese]             [Trendy, Business]  None   \n1          [English, Chinese, Japanese]                [Family, Quiet]  None   \n2  [English, Chinese, Japanese, Korean]                             []  7662   \n3  [English, Chinese, Japanese, Nepali]             [Modern, Business]  None   \n4                   [English, Japanese]  [Business, Centrally Located]  None   \n\n  best_price_source restraunts_nearby attractions_nearby  \\\n0              None                94                  6   \n1              None              1705                 82   \n2     ZenHotels.com               817                 79   \n3              None               305                  4   \n4              None              3098                375   \n\n  good_for_walkers_out_of_100  \\\n0                          94   \n1                          98   \n2                          98   \n3                          87   \n4                         100   \n\n                                       lat_long_link  \\\n0      3-7-3, Ariake, Koto 135-0063 Tokyo Prefecture   \n1  1-6-1 Nishiikebukuro, Toshima 171-8505 Tokyo P...   \n2  5-3-18 Shinjuku, Shinjuku 160-0022 Tokyo Prefe...   \n3  6-17-9 Nishikasai, Edogawa 134-0088 Tokyo Pref...   \n4      7-10-9, Ginza, Chuo 104-0061 Tokyo Prefecture   \n\n              best_features_as_per_reviews  \\\n0  [Location, Cleanliness, Service, Value]   \n1  [Location, Cleanliness, Service, Value]   \n2  [Location, Cleanliness, Service, Value]   \n3  [Location, Cleanliness, Service, Value]   \n4  [Location, Cleanliness, Service, Value]   \n\n                                         restaurants   city  \n0  [{'name': 'Akarie', 'cusines': [], 'reviews': ...  Tokyo  \n1  [{'name': 'Sakura Cafe & Restaurant Ikebukuro'...  Tokyo  \n2  [{'name': 'Sakuratei', 'cusines': ['', 'Health...  Tokyo  \n3  [{'name': 'Fontaine', 'cusines': [], 'reviews'...  Tokyo  \n4  [{'name': 'La Gioconda', 'cusines': ['', 'Cent...  Tokyo  ",
      "text/html": "<div>\n<style scoped>\n    .dataframe tbody tr th:only-of-type {\n        vertical-align: middle;\n    }\n\n    .dataframe tbody tr th {\n        vertical-align: top;\n    }\n\n    .dataframe thead th {\n        text-align: right;\n    }\n</style>\n<table border=\"1\" class=\"dataframe\">\n  <thead>\n    <tr style=\"text-align: right;\">\n      <th></th>\n      <th>hotel_name</th>\n      <th>rating</th>\n      <th>review_count</th>\n      <th>hotel_rank</th>\n      <th>amenities</th>\n      <th>languages</th>\n      <th>hotel_class</th>\n      <th>price</th>\n      <th>best_price_source</th>\n      <th>restraunts_nearby</th>\n      <th>attractions_nearby</th>\n      <th>good_for_walkers_out_of_100</th>\n      <th>lat_long_link</th>\n      <th>best_features_as_per_reviews</th>\n      <th>restaurants</th>\n      <th>city</th>\n    </tr>\n  </thead>\n  <tbody>\n    <tr>\n      <th>0</th>\n      <td>Daiwa Roynet Hotel Tokyo Ariake</td>\n      <td>4.0</td>\n      <td>81</td>\n      <td>4</td>\n      <td>[Free High Speed Internet (WiFi), Wifi, Restau...</td>\n      <td>[English, Japanese]</td>\n      <td>[Trendy, Business]</td>\n      <td>None</td>\n      <td>None</td>\n      <td>94</td>\n      <td>6</td>\n      <td>94</td>\n      <td>3-7-3, Ariake, Koto 135-0063 Tokyo Prefecture</td>\n      <td>[Location, Cleanliness, Service, Value]</td>\n      <td>[{'name': 'Akarie', 'cusines': [], 'reviews': ...</td>\n      <td>Tokyo</td>\n    </tr>\n    <tr>\n      <th>1</th>\n      <td>Hotel Metropolitan Tokyo Ikebukuro</td>\n      <td>4.0</td>\n      <td>1,859</td>\n      <td>4</td>\n      <td>[Paid private parking on-site, Free High Speed...</td>\n      <td>[English, Chinese, Japanese]</td>\n      <td>[Family, Quiet]</td>\n      <td>None</td>\n      <td>None</td>\n      <td>1705</td>\n      <td>82</td>\n      <td>98</td>\n      <td>1-6-1 Nishiikebukuro, Toshima 171-8505 Tokyo P...</td>\n      <td>[Location, Cleanliness, Service, Value]</td>\n      <td>[{'name': 'Sakura Cafe &amp; Restaurant Ikebukuro'...</td>\n      <td>Tokyo</td>\n    </tr>\n    <tr>\n      <th>2</th>\n      <td>ONSEN RYOKAN YUEN SHINJUKU</td>\n      <td>4.5</td>\n      <td>86</td>\n      <td>19</td>\n      <td>[Free High Speed Internet (WiFi), Wifi, Hot ba...</td>\n      <td>[English, Chinese, Japanese, Korean]</td>\n      <td>[]</td>\n      <td>7662</td>\n      <td>ZenHotels.com</td>\n      <td>817</td>\n      <td>79</td>\n      <td>98</td>\n      <td>5-3-18 Shinjuku, Shinjuku 160-0022 Tokyo Prefe...</td>\n      <td>[Location, Cleanliness, Service, Value]</td>\n      <td>[{'name': 'Sakuratei', 'cusines': ['', 'Health...</td>\n      <td>Tokyo</td>\n    </tr>\n    <tr>\n      <th>3</th>\n      <td>Rembrandt Style Tokyo Nishikasai</td>\n      <td>4.0</td>\n      <td>461</td>\n      <td>4</td>\n      <td>[Paid private parking on-site, Free High Speed...</td>\n      <td>[English, Chinese, Japanese, Nepali]</td>\n      <td>[Modern, Business]</td>\n      <td>None</td>\n      <td>None</td>\n      <td>305</td>\n      <td>4</td>\n      <td>87</td>\n      <td>6-17-9 Nishikasai, Edogawa 134-0088 Tokyo Pref...</td>\n      <td>[Location, Cleanliness, Service, Value]</td>\n      <td>[{'name': 'Fontaine', 'cusines': [], 'reviews'...</td>\n      <td>Tokyo</td>\n    </tr>\n    <tr>\n      <th>4</th>\n      <td>HOTEL UNIZO Ginza-nanachome</td>\n      <td>3.5</td>\n      <td>86</td>\n      <td>27</td>\n      <td>[Free High Speed Internet (WiFi), Hot bath, Co...</td>\n      <td>[English, Japanese]</td>\n      <td>[Business, Centrally Located]</td>\n      <td>None</td>\n      <td>None</td>\n      <td>3098</td>\n      <td>375</td>\n      <td>100</td>\n      <td>7-10-9, Ginza, Chuo 104-0061 Tokyo Prefecture</td>\n      <td>[Location, Cleanliness, Service, Value]</td>\n      <td>[{'name': 'La Gioconda', 'cusines': ['', 'Cent...</td>\n      <td>Tokyo</td>\n    </tr>\n  </tbody>\n</table>\n</div>"
     },
     "execution_count": 18,
     "metadata": {},
     "output_type": "execute_result"
    }
   ],
   "source": [
    "df = df.drop(['top_cuisines'], axis=1)\n",
    "\n",
    "df.languages = df.languages.apply(lambda x: (str(x)).split(\", \"))\n",
    "\n",
    "df.review_count = df.review_count.apply(lambda x: (str(x)).split()[0])\n",
    "\n",
    "df.hotel_rank = df.hotel_rank.apply(lambda x: (str(x)).split()[0][1:])\n",
    "df.head()"
   ],
   "metadata": {
    "collapsed": false,
    "pycharm": {
     "name": "#%%\n"
    }
   }
  },
  {
   "cell_type": "code",
   "execution_count": 19,
   "outputs": [
    {
     "data": {
      "text/plain": "                           hotel_name rating review_count hotel_rank  \\\n0     Daiwa Roynet Hotel Tokyo Ariake    4.0           81          4   \n1  Hotel Metropolitan Tokyo Ikebukuro    4.0        1,859          4   \n2          ONSEN RYOKAN YUEN SHINJUKU    4.5           86         19   \n3    Rembrandt Style Tokyo Nishikasai    4.0          461          4   \n4         HOTEL UNIZO Ginza-nanachome    3.5           86         27   \n\n                                           amenities  \\\n0  [Free High Speed Internet (WiFi), Wifi, Restau...   \n1  [Paid private parking on-site, Free High Speed...   \n2  [Free High Speed Internet (WiFi), Wifi, Hot ba...   \n3  [Paid private parking on-site, Free High Speed...   \n4  [Free High Speed Internet (WiFi), Hot bath, Co...   \n\n                              languages                    hotel_class price  \\\n0                   [English, Japanese]             [Trendy, Business]  None   \n1          [English, Chinese, Japanese]                [Family, Quiet]  None   \n2  [English, Chinese, Japanese, Korean]                             []  7662   \n3  [English, Chinese, Japanese, Nepali]             [Modern, Business]  None   \n4                   [English, Japanese]  [Business, Centrally Located]  None   \n\n  best_price_source restraunts_nearby attractions_nearby  \\\n0              None                94                  6   \n1              None              1705                 82   \n2     ZenHotels.com               817                 79   \n3              None               305                  4   \n4              None              3098                375   \n\n  good_for_walkers_out_of_100  \\\n0                          94   \n1                          98   \n2                          98   \n3                          87   \n4                         100   \n\n                                       lat_long_link  \\\n0      3-7-3, Ariake, Koto 135-0063 Tokyo Prefecture   \n1  1-6-1 Nishiikebukuro, Toshima 171-8505 Tokyo P...   \n2  5-3-18 Shinjuku, Shinjuku 160-0022 Tokyo Prefe...   \n3  6-17-9 Nishikasai, Edogawa 134-0088 Tokyo Pref...   \n4      7-10-9, Ginza, Chuo 104-0061 Tokyo Prefecture   \n\n              best_features_as_per_reviews  \\\n0  [Location, Cleanliness, Service, Value]   \n1  [Location, Cleanliness, Service, Value]   \n2  [Location, Cleanliness, Service, Value]   \n3  [Location, Cleanliness, Service, Value]   \n4  [Location, Cleanliness, Service, Value]   \n\n                                         restaurants   city  \\\n0  [{'name': 'Akarie', 'cusines': [], 'reviews': ...  Tokyo   \n1  [{'name': 'Sakura Cafe & Restaurant Ikebukuro'...  Tokyo   \n2  [{'name': 'Sakuratei', 'cusines': ['', 'Health...  Tokyo   \n3  [{'name': 'Fontaine', 'cusines': [], 'reviews'...  Tokyo   \n4  [{'name': 'La Gioconda', 'cusines': ['', 'Cent...  Tokyo   \n\n                                            cuisines  \n0          {'Dining bars': 1, 'Beer restaurants': 1}  \n1  {'Cafe': 1, 'International': 1, 'BarPub': 1, '...  \n2  {'Healthy': 2, 'Asian': 2, 'Japanese': 4, 'Gri...  \n3                     {'Pub': 1, 'Kyoto cuisine': 1}  \n4  {'Central-Italian': 1, 'Italian': 1, 'Tuscan':...  ",
      "text/html": "<div>\n<style scoped>\n    .dataframe tbody tr th:only-of-type {\n        vertical-align: middle;\n    }\n\n    .dataframe tbody tr th {\n        vertical-align: top;\n    }\n\n    .dataframe thead th {\n        text-align: right;\n    }\n</style>\n<table border=\"1\" class=\"dataframe\">\n  <thead>\n    <tr style=\"text-align: right;\">\n      <th></th>\n      <th>hotel_name</th>\n      <th>rating</th>\n      <th>review_count</th>\n      <th>hotel_rank</th>\n      <th>amenities</th>\n      <th>languages</th>\n      <th>hotel_class</th>\n      <th>price</th>\n      <th>best_price_source</th>\n      <th>restraunts_nearby</th>\n      <th>attractions_nearby</th>\n      <th>good_for_walkers_out_of_100</th>\n      <th>lat_long_link</th>\n      <th>best_features_as_per_reviews</th>\n      <th>restaurants</th>\n      <th>city</th>\n      <th>cuisines</th>\n    </tr>\n  </thead>\n  <tbody>\n    <tr>\n      <th>0</th>\n      <td>Daiwa Roynet Hotel Tokyo Ariake</td>\n      <td>4.0</td>\n      <td>81</td>\n      <td>4</td>\n      <td>[Free High Speed Internet (WiFi), Wifi, Restau...</td>\n      <td>[English, Japanese]</td>\n      <td>[Trendy, Business]</td>\n      <td>None</td>\n      <td>None</td>\n      <td>94</td>\n      <td>6</td>\n      <td>94</td>\n      <td>3-7-3, Ariake, Koto 135-0063 Tokyo Prefecture</td>\n      <td>[Location, Cleanliness, Service, Value]</td>\n      <td>[{'name': 'Akarie', 'cusines': [], 'reviews': ...</td>\n      <td>Tokyo</td>\n      <td>{'Dining bars': 1, 'Beer restaurants': 1}</td>\n    </tr>\n    <tr>\n      <th>1</th>\n      <td>Hotel Metropolitan Tokyo Ikebukuro</td>\n      <td>4.0</td>\n      <td>1,859</td>\n      <td>4</td>\n      <td>[Paid private parking on-site, Free High Speed...</td>\n      <td>[English, Chinese, Japanese]</td>\n      <td>[Family, Quiet]</td>\n      <td>None</td>\n      <td>None</td>\n      <td>1705</td>\n      <td>82</td>\n      <td>98</td>\n      <td>1-6-1 Nishiikebukuro, Toshima 171-8505 Tokyo P...</td>\n      <td>[Location, Cleanliness, Service, Value]</td>\n      <td>[{'name': 'Sakura Cafe &amp; Restaurant Ikebukuro'...</td>\n      <td>Tokyo</td>\n      <td>{'Cafe': 1, 'International': 1, 'BarPub': 1, '...</td>\n    </tr>\n    <tr>\n      <th>2</th>\n      <td>ONSEN RYOKAN YUEN SHINJUKU</td>\n      <td>4.5</td>\n      <td>86</td>\n      <td>19</td>\n      <td>[Free High Speed Internet (WiFi), Wifi, Hot ba...</td>\n      <td>[English, Chinese, Japanese, Korean]</td>\n      <td>[]</td>\n      <td>7662</td>\n      <td>ZenHotels.com</td>\n      <td>817</td>\n      <td>79</td>\n      <td>98</td>\n      <td>5-3-18 Shinjuku, Shinjuku 160-0022 Tokyo Prefe...</td>\n      <td>[Location, Cleanliness, Service, Value]</td>\n      <td>[{'name': 'Sakuratei', 'cusines': ['', 'Health...</td>\n      <td>Tokyo</td>\n      <td>{'Healthy': 2, 'Asian': 2, 'Japanese': 4, 'Gri...</td>\n    </tr>\n    <tr>\n      <th>3</th>\n      <td>Rembrandt Style Tokyo Nishikasai</td>\n      <td>4.0</td>\n      <td>461</td>\n      <td>4</td>\n      <td>[Paid private parking on-site, Free High Speed...</td>\n      <td>[English, Chinese, Japanese, Nepali]</td>\n      <td>[Modern, Business]</td>\n      <td>None</td>\n      <td>None</td>\n      <td>305</td>\n      <td>4</td>\n      <td>87</td>\n      <td>6-17-9 Nishikasai, Edogawa 134-0088 Tokyo Pref...</td>\n      <td>[Location, Cleanliness, Service, Value]</td>\n      <td>[{'name': 'Fontaine', 'cusines': [], 'reviews'...</td>\n      <td>Tokyo</td>\n      <td>{'Pub': 1, 'Kyoto cuisine': 1}</td>\n    </tr>\n    <tr>\n      <th>4</th>\n      <td>HOTEL UNIZO Ginza-nanachome</td>\n      <td>3.5</td>\n      <td>86</td>\n      <td>27</td>\n      <td>[Free High Speed Internet (WiFi), Hot bath, Co...</td>\n      <td>[English, Japanese]</td>\n      <td>[Business, Centrally Located]</td>\n      <td>None</td>\n      <td>None</td>\n      <td>3098</td>\n      <td>375</td>\n      <td>100</td>\n      <td>7-10-9, Ginza, Chuo 104-0061 Tokyo Prefecture</td>\n      <td>[Location, Cleanliness, Service, Value]</td>\n      <td>[{'name': 'La Gioconda', 'cusines': ['', 'Cent...</td>\n      <td>Tokyo</td>\n      <td>{'Central-Italian': 1, 'Italian': 1, 'Tuscan':...</td>\n    </tr>\n  </tbody>\n</table>\n</div>"
     },
     "execution_count": 19,
     "metadata": {},
     "output_type": "execute_result"
    }
   ],
   "source": [
    "def group_cusines(restaurant_list):\n",
    "    cuisines = {}\n",
    "    if type(restaurant_list) == list:\n",
    "        for restaurant in restaurant_list:\n",
    "            for cuisine in restaurant['cusines']:\n",
    "                cuisine = cuisine.replace(\", \", \"\")\n",
    "                cuisine = cuisine.replace(\",\", \"\")\n",
    "                cuisine = cuisine.strip()\n",
    "                if len(cuisine) > 2:\n",
    "                    if cuisine in cuisines.keys():\n",
    "                        cuisines[cuisine] += 1\n",
    "                    else:\n",
    "                        cuisines[cuisine] = 1\n",
    "        # sorting in descending order\n",
    "        sorted(cuisines.items(), key=lambda x: x[1], reverse=True)\n",
    "    return cuisines\n",
    "\n",
    "\n",
    "df['cuisines'] = df.restaurants.apply(group_cusines)\n",
    "df.head()"
   ],
   "metadata": {
    "collapsed": false,
    "pycharm": {
     "name": "#%%\n"
    }
   }
  },
  {
   "cell_type": "code",
   "execution_count": 20,
   "outputs": [
    {
     "data": {
      "text/plain": "                           hotel_name rating review_count hotel_rank  \\\n0     Daiwa Roynet Hotel Tokyo Ariake    4.0           81          4   \n1  Hotel Metropolitan Tokyo Ikebukuro    4.0        1,859          4   \n2          ONSEN RYOKAN YUEN SHINJUKU    4.5           86         19   \n3    Rembrandt Style Tokyo Nishikasai    4.0          461          4   \n4         HOTEL UNIZO Ginza-nanachome    3.5           86         27   \n\n                                           amenities  \\\n0  [Free High Speed Internet (WiFi), Wifi, Restau...   \n1  [Paid private parking on-site, Free High Speed...   \n2  [Free High Speed Internet (WiFi), Wifi, Hot ba...   \n3  [Paid private parking on-site, Free High Speed...   \n4  [Free High Speed Internet (WiFi), Hot bath, Co...   \n\n                              languages                    hotel_class price  \\\n0                   [English, Japanese]             [Trendy, Business]  None   \n1          [English, Chinese, Japanese]                [Family, Quiet]  None   \n2  [English, Chinese, Japanese, Korean]                             []  7662   \n3  [English, Chinese, Japanese, Nepali]             [Modern, Business]  None   \n4                   [English, Japanese]  [Business, Centrally Located]  None   \n\n  best_price_source restraunts_nearby attractions_nearby  \\\n0              None                94                  6   \n1              None              1705                 82   \n2     ZenHotels.com               817                 79   \n3              None               305                  4   \n4              None              3098                375   \n\n  good_for_walkers_out_of_100  \\\n0                          94   \n1                          98   \n2                          98   \n3                          87   \n4                         100   \n\n                                       lat_long_link  \\\n0      3-7-3, Ariake, Koto 135-0063 Tokyo Prefecture   \n1  1-6-1 Nishiikebukuro, Toshima 171-8505 Tokyo P...   \n2  5-3-18 Shinjuku, Shinjuku 160-0022 Tokyo Prefe...   \n3  6-17-9 Nishikasai, Edogawa 134-0088 Tokyo Pref...   \n4      7-10-9, Ginza, Chuo 104-0061 Tokyo Prefecture   \n\n              best_features_as_per_reviews   city  \\\n0  [Location, Cleanliness, Service, Value]  Tokyo   \n1  [Location, Cleanliness, Service, Value]  Tokyo   \n2  [Location, Cleanliness, Service, Value]  Tokyo   \n3  [Location, Cleanliness, Service, Value]  Tokyo   \n4  [Location, Cleanliness, Service, Value]  Tokyo   \n\n                                            cuisines  \\\n0          {'Dining bars': 1, 'Beer restaurants': 1}   \n1  {'Cafe': 1, 'International': 1, 'BarPub': 1, '...   \n2  {'Healthy': 2, 'Asian': 2, 'Japanese': 4, 'Gri...   \n3                     {'Pub': 1, 'Kyoto cuisine': 1}   \n4  {'Central-Italian': 1, 'Italian': 1, 'Tuscan':...   \n\n                                    restaurant_names  \n0  [Akarie, The Roof, Hibiya Matsumotoro Tokyo Bi...  \n1  [Sakura Cafe & Restaurant Ikebukuro, Cross Din...  \n2  [Sakuratei, Kakatojo, Encounter by Unplan, Pha...  \n3  [Fontaine, Cafe Dining Palm Tree, Uttori, Koso...  \n4  [La Gioconda, Tempura Yasuda, Ginza M's Cafe, ...  ",
      "text/html": "<div>\n<style scoped>\n    .dataframe tbody tr th:only-of-type {\n        vertical-align: middle;\n    }\n\n    .dataframe tbody tr th {\n        vertical-align: top;\n    }\n\n    .dataframe thead th {\n        text-align: right;\n    }\n</style>\n<table border=\"1\" class=\"dataframe\">\n  <thead>\n    <tr style=\"text-align: right;\">\n      <th></th>\n      <th>hotel_name</th>\n      <th>rating</th>\n      <th>review_count</th>\n      <th>hotel_rank</th>\n      <th>amenities</th>\n      <th>languages</th>\n      <th>hotel_class</th>\n      <th>price</th>\n      <th>best_price_source</th>\n      <th>restraunts_nearby</th>\n      <th>attractions_nearby</th>\n      <th>good_for_walkers_out_of_100</th>\n      <th>lat_long_link</th>\n      <th>best_features_as_per_reviews</th>\n      <th>city</th>\n      <th>cuisines</th>\n      <th>restaurant_names</th>\n    </tr>\n  </thead>\n  <tbody>\n    <tr>\n      <th>0</th>\n      <td>Daiwa Roynet Hotel Tokyo Ariake</td>\n      <td>4.0</td>\n      <td>81</td>\n      <td>4</td>\n      <td>[Free High Speed Internet (WiFi), Wifi, Restau...</td>\n      <td>[English, Japanese]</td>\n      <td>[Trendy, Business]</td>\n      <td>None</td>\n      <td>None</td>\n      <td>94</td>\n      <td>6</td>\n      <td>94</td>\n      <td>3-7-3, Ariake, Koto 135-0063 Tokyo Prefecture</td>\n      <td>[Location, Cleanliness, Service, Value]</td>\n      <td>Tokyo</td>\n      <td>{'Dining bars': 1, 'Beer restaurants': 1}</td>\n      <td>[Akarie, The Roof, Hibiya Matsumotoro Tokyo Bi...</td>\n    </tr>\n    <tr>\n      <th>1</th>\n      <td>Hotel Metropolitan Tokyo Ikebukuro</td>\n      <td>4.0</td>\n      <td>1,859</td>\n      <td>4</td>\n      <td>[Paid private parking on-site, Free High Speed...</td>\n      <td>[English, Chinese, Japanese]</td>\n      <td>[Family, Quiet]</td>\n      <td>None</td>\n      <td>None</td>\n      <td>1705</td>\n      <td>82</td>\n      <td>98</td>\n      <td>1-6-1 Nishiikebukuro, Toshima 171-8505 Tokyo P...</td>\n      <td>[Location, Cleanliness, Service, Value]</td>\n      <td>Tokyo</td>\n      <td>{'Cafe': 1, 'International': 1, 'BarPub': 1, '...</td>\n      <td>[Sakura Cafe &amp; Restaurant Ikebukuro, Cross Din...</td>\n    </tr>\n    <tr>\n      <th>2</th>\n      <td>ONSEN RYOKAN YUEN SHINJUKU</td>\n      <td>4.5</td>\n      <td>86</td>\n      <td>19</td>\n      <td>[Free High Speed Internet (WiFi), Wifi, Hot ba...</td>\n      <td>[English, Chinese, Japanese, Korean]</td>\n      <td>[]</td>\n      <td>7662</td>\n      <td>ZenHotels.com</td>\n      <td>817</td>\n      <td>79</td>\n      <td>98</td>\n      <td>5-3-18 Shinjuku, Shinjuku 160-0022 Tokyo Prefe...</td>\n      <td>[Location, Cleanliness, Service, Value]</td>\n      <td>Tokyo</td>\n      <td>{'Healthy': 2, 'Asian': 2, 'Japanese': 4, 'Gri...</td>\n      <td>[Sakuratei, Kakatojo, Encounter by Unplan, Pha...</td>\n    </tr>\n    <tr>\n      <th>3</th>\n      <td>Rembrandt Style Tokyo Nishikasai</td>\n      <td>4.0</td>\n      <td>461</td>\n      <td>4</td>\n      <td>[Paid private parking on-site, Free High Speed...</td>\n      <td>[English, Chinese, Japanese, Nepali]</td>\n      <td>[Modern, Business]</td>\n      <td>None</td>\n      <td>None</td>\n      <td>305</td>\n      <td>4</td>\n      <td>87</td>\n      <td>6-17-9 Nishikasai, Edogawa 134-0088 Tokyo Pref...</td>\n      <td>[Location, Cleanliness, Service, Value]</td>\n      <td>Tokyo</td>\n      <td>{'Pub': 1, 'Kyoto cuisine': 1}</td>\n      <td>[Fontaine, Cafe Dining Palm Tree, Uttori, Koso...</td>\n    </tr>\n    <tr>\n      <th>4</th>\n      <td>HOTEL UNIZO Ginza-nanachome</td>\n      <td>3.5</td>\n      <td>86</td>\n      <td>27</td>\n      <td>[Free High Speed Internet (WiFi), Hot bath, Co...</td>\n      <td>[English, Japanese]</td>\n      <td>[Business, Centrally Located]</td>\n      <td>None</td>\n      <td>None</td>\n      <td>3098</td>\n      <td>375</td>\n      <td>100</td>\n      <td>7-10-9, Ginza, Chuo 104-0061 Tokyo Prefecture</td>\n      <td>[Location, Cleanliness, Service, Value]</td>\n      <td>Tokyo</td>\n      <td>{'Central-Italian': 1, 'Italian': 1, 'Tuscan':...</td>\n      <td>[La Gioconda, Tempura Yasuda, Ginza M's Cafe, ...</td>\n    </tr>\n  </tbody>\n</table>\n</div>"
     },
     "execution_count": 20,
     "metadata": {},
     "output_type": "execute_result"
    }
   ],
   "source": [
    "def restaurant_names(restaurant_list):\n",
    "    restaurants = []\n",
    "    if type(restaurant_list) == list:\n",
    "        for restaurant in restaurant_list:\n",
    "            restaurants.append(restaurant['name'])\n",
    "    return restaurants\n",
    "\n",
    "\n",
    "df['restaurant_names'] = df.restaurants.apply(restaurant_names)\n",
    "df = df.drop(['restaurants'], axis=1)\n",
    "df.head()"
   ],
   "metadata": {
    "collapsed": false,
    "pycharm": {
     "name": "#%%\n"
    }
   }
  },
  {
   "cell_type": "code",
   "execution_count": 21,
   "outputs": [],
   "source": [
    "def isfloat(num):\n",
    "    if num is None or num is np.nan:\n",
    "        return False\n",
    "    try:\n",
    "        float(num)\n",
    "        return True\n",
    "    except ValueError:\n",
    "        return False\n",
    "\n",
    "\n",
    "def isint(num):\n",
    "    if num is None or num is np.nan:\n",
    "        return False\n",
    "    try:\n",
    "        int(num)\n",
    "        return True\n",
    "    except ValueError:\n",
    "        return False"
   ],
   "metadata": {
    "collapsed": false,
    "pycharm": {
     "name": "#%%\n"
    }
   }
  },
  {
   "cell_type": "code",
   "execution_count": 22,
   "outputs": [
    {
     "name": "stdout",
     "output_type": "stream",
     "text": [
      "<class 'pandas.core.frame.DataFrame'>\n",
      "RangeIndex: 4288 entries, 0 to 4287\n",
      "Data columns (total 17 columns):\n",
      " #   Column                        Non-Null Count  Dtype  \n",
      "---  ------                        --------------  -----  \n",
      " 0   hotel_name                    4288 non-null   object \n",
      " 1   rating                        1671 non-null   float64\n",
      " 2   review_count                  1666 non-null   float64\n",
      " 3   hotel_rank                    1566 non-null   float64\n",
      " 4   amenities                     4288 non-null   object \n",
      " 5   languages                     4288 non-null   object \n",
      " 6   hotel_class                   4288 non-null   object \n",
      " 7   price                         231 non-null    float64\n",
      " 8   best_price_source             231 non-null    object \n",
      " 9   restraunts_nearby             3800 non-null   float64\n",
      " 10  attractions_nearby            3800 non-null   float64\n",
      " 11  good_for_walkers_out_of_100   3800 non-null   float64\n",
      " 12  lat_long_link                 3932 non-null   object \n",
      " 13  best_features_as_per_reviews  4288 non-null   object \n",
      " 14  city                          4288 non-null   object \n",
      " 15  cuisines                      4288 non-null   object \n",
      " 16  restaurant_names              4288 non-null   object \n",
      "dtypes: float64(7), object(10)\n",
      "memory usage: 569.6+ KB\n"
     ]
    }
   ],
   "source": [
    "df.rating = df.rating.apply(lambda x: float(x) if isfloat(x) else np.nan)\n",
    "df.review_count = df.review_count.apply(lambda x: int(x) if isint(x) else np.nan)\n",
    "df.hotel_rank = df.hotel_rank.apply(lambda x: int(x) if isint(x) else np.nan)\n",
    "df.price = df.price.apply(lambda x: float(x) if isfloat(x) else np.nan)\n",
    "df.restraunts_nearby = df.restraunts_nearby.apply(lambda x: int(x) if isint(x) else np.nan)\n",
    "df.attractions_nearby = df.attractions_nearby.apply(lambda x: int(x) if isint(x) else np.nan)\n",
    "df.good_for_walkers_out_of_100 = df.good_for_walkers_out_of_100.apply(lambda x: int(x) if isint(x) else np.nan)\n",
    "df.info()"
   ],
   "metadata": {
    "collapsed": false,
    "pycharm": {
     "name": "#%%\n"
    }
   }
  },
  {
   "cell_type": "code",
   "execution_count": 23,
   "outputs": [
    {
     "data": {
      "text/plain": "                           hotel_name  rating  review_count  hotel_rank  \\\n0     Daiwa Roynet Hotel Tokyo Ariake     4.0          81.0         4.0   \n1  Hotel Metropolitan Tokyo Ikebukuro     4.0           NaN         4.0   \n2          ONSEN RYOKAN YUEN SHINJUKU     4.5          86.0        19.0   \n3    Rembrandt Style Tokyo Nishikasai     4.0         461.0         4.0   \n4         HOTEL UNIZO Ginza-nanachome     3.5          86.0        27.0   \n\n                                           amenities  \\\n0  [Free High Speed Internet (WiFi), Wifi, Restau...   \n1  [Paid private parking on-site, Free High Speed...   \n2  [Free High Speed Internet (WiFi), Wifi, Hot ba...   \n3  [Paid private parking on-site, Free High Speed...   \n4  [Free High Speed Internet (WiFi), Hot bath, Co...   \n\n                              languages                    hotel_class  \\\n0                   [English, Japanese]             [Trendy, Business]   \n1          [English, Chinese, Japanese]                [Family, Quiet]   \n2  [English, Chinese, Japanese, Korean]                             []   \n3  [English, Chinese, Japanese, Nepali]             [Modern, Business]   \n4                   [English, Japanese]  [Business, Centrally Located]   \n\n    price best_price_source  restraunts_nearby  attractions_nearby  \\\n0     NaN              None               94.0                 6.0   \n1     NaN              None             1705.0                82.0   \n2  7662.0     ZenHotels.com              817.0                79.0   \n3     NaN              None              305.0                 4.0   \n4     NaN              None             3098.0               375.0   \n\n   good_for_walkers_out_of_100  \\\n0                         94.0   \n1                         98.0   \n2                         98.0   \n3                         87.0   \n4                        100.0   \n\n                                       lat_long_link  \\\n0      3-7-3, Ariake, Koto 135-0063 Tokyo Prefecture   \n1  1-6-1 Nishiikebukuro, Toshima 171-8505 Tokyo P...   \n2  5-3-18 Shinjuku, Shinjuku 160-0022 Tokyo Prefe...   \n3  6-17-9 Nishikasai, Edogawa 134-0088 Tokyo Pref...   \n4      7-10-9, Ginza, Chuo 104-0061 Tokyo Prefecture   \n\n              best_features_as_per_reviews   city  \\\n0  [Location, Cleanliness, Service, Value]  Tokyo   \n1  [Location, Cleanliness, Service, Value]  Tokyo   \n2  [Location, Cleanliness, Service, Value]  Tokyo   \n3  [Location, Cleanliness, Service, Value]  Tokyo   \n4  [Location, Cleanliness, Service, Value]  Tokyo   \n\n                                            cuisines  \\\n0          {'Dining bars': 1, 'Beer restaurants': 1}   \n1  {'Cafe': 1, 'International': 1, 'BarPub': 1, '...   \n2  {'Healthy': 2, 'Asian': 2, 'Japanese': 4, 'Gri...   \n3                     {'Pub': 1, 'Kyoto cuisine': 1}   \n4  {'Central-Italian': 1, 'Italian': 1, 'Tuscan':...   \n\n                                    restaurant_names  \n0  [Akarie, The Roof, Hibiya Matsumotoro Tokyo Bi...  \n1  [Sakura Cafe & Restaurant Ikebukuro, Cross Din...  \n2  [Sakuratei, Kakatojo, Encounter by Unplan, Pha...  \n3  [Fontaine, Cafe Dining Palm Tree, Uttori, Koso...  \n4  [La Gioconda, Tempura Yasuda, Ginza M's Cafe, ...  ",
      "text/html": "<div>\n<style scoped>\n    .dataframe tbody tr th:only-of-type {\n        vertical-align: middle;\n    }\n\n    .dataframe tbody tr th {\n        vertical-align: top;\n    }\n\n    .dataframe thead th {\n        text-align: right;\n    }\n</style>\n<table border=\"1\" class=\"dataframe\">\n  <thead>\n    <tr style=\"text-align: right;\">\n      <th></th>\n      <th>hotel_name</th>\n      <th>rating</th>\n      <th>review_count</th>\n      <th>hotel_rank</th>\n      <th>amenities</th>\n      <th>languages</th>\n      <th>hotel_class</th>\n      <th>price</th>\n      <th>best_price_source</th>\n      <th>restraunts_nearby</th>\n      <th>attractions_nearby</th>\n      <th>good_for_walkers_out_of_100</th>\n      <th>lat_long_link</th>\n      <th>best_features_as_per_reviews</th>\n      <th>city</th>\n      <th>cuisines</th>\n      <th>restaurant_names</th>\n    </tr>\n  </thead>\n  <tbody>\n    <tr>\n      <th>0</th>\n      <td>Daiwa Roynet Hotel Tokyo Ariake</td>\n      <td>4.0</td>\n      <td>81.0</td>\n      <td>4.0</td>\n      <td>[Free High Speed Internet (WiFi), Wifi, Restau...</td>\n      <td>[English, Japanese]</td>\n      <td>[Trendy, Business]</td>\n      <td>NaN</td>\n      <td>None</td>\n      <td>94.0</td>\n      <td>6.0</td>\n      <td>94.0</td>\n      <td>3-7-3, Ariake, Koto 135-0063 Tokyo Prefecture</td>\n      <td>[Location, Cleanliness, Service, Value]</td>\n      <td>Tokyo</td>\n      <td>{'Dining bars': 1, 'Beer restaurants': 1}</td>\n      <td>[Akarie, The Roof, Hibiya Matsumotoro Tokyo Bi...</td>\n    </tr>\n    <tr>\n      <th>1</th>\n      <td>Hotel Metropolitan Tokyo Ikebukuro</td>\n      <td>4.0</td>\n      <td>NaN</td>\n      <td>4.0</td>\n      <td>[Paid private parking on-site, Free High Speed...</td>\n      <td>[English, Chinese, Japanese]</td>\n      <td>[Family, Quiet]</td>\n      <td>NaN</td>\n      <td>None</td>\n      <td>1705.0</td>\n      <td>82.0</td>\n      <td>98.0</td>\n      <td>1-6-1 Nishiikebukuro, Toshima 171-8505 Tokyo P...</td>\n      <td>[Location, Cleanliness, Service, Value]</td>\n      <td>Tokyo</td>\n      <td>{'Cafe': 1, 'International': 1, 'BarPub': 1, '...</td>\n      <td>[Sakura Cafe &amp; Restaurant Ikebukuro, Cross Din...</td>\n    </tr>\n    <tr>\n      <th>2</th>\n      <td>ONSEN RYOKAN YUEN SHINJUKU</td>\n      <td>4.5</td>\n      <td>86.0</td>\n      <td>19.0</td>\n      <td>[Free High Speed Internet (WiFi), Wifi, Hot ba...</td>\n      <td>[English, Chinese, Japanese, Korean]</td>\n      <td>[]</td>\n      <td>7662.0</td>\n      <td>ZenHotels.com</td>\n      <td>817.0</td>\n      <td>79.0</td>\n      <td>98.0</td>\n      <td>5-3-18 Shinjuku, Shinjuku 160-0022 Tokyo Prefe...</td>\n      <td>[Location, Cleanliness, Service, Value]</td>\n      <td>Tokyo</td>\n      <td>{'Healthy': 2, 'Asian': 2, 'Japanese': 4, 'Gri...</td>\n      <td>[Sakuratei, Kakatojo, Encounter by Unplan, Pha...</td>\n    </tr>\n    <tr>\n      <th>3</th>\n      <td>Rembrandt Style Tokyo Nishikasai</td>\n      <td>4.0</td>\n      <td>461.0</td>\n      <td>4.0</td>\n      <td>[Paid private parking on-site, Free High Speed...</td>\n      <td>[English, Chinese, Japanese, Nepali]</td>\n      <td>[Modern, Business]</td>\n      <td>NaN</td>\n      <td>None</td>\n      <td>305.0</td>\n      <td>4.0</td>\n      <td>87.0</td>\n      <td>6-17-9 Nishikasai, Edogawa 134-0088 Tokyo Pref...</td>\n      <td>[Location, Cleanliness, Service, Value]</td>\n      <td>Tokyo</td>\n      <td>{'Pub': 1, 'Kyoto cuisine': 1}</td>\n      <td>[Fontaine, Cafe Dining Palm Tree, Uttori, Koso...</td>\n    </tr>\n    <tr>\n      <th>4</th>\n      <td>HOTEL UNIZO Ginza-nanachome</td>\n      <td>3.5</td>\n      <td>86.0</td>\n      <td>27.0</td>\n      <td>[Free High Speed Internet (WiFi), Hot bath, Co...</td>\n      <td>[English, Japanese]</td>\n      <td>[Business, Centrally Located]</td>\n      <td>NaN</td>\n      <td>None</td>\n      <td>3098.0</td>\n      <td>375.0</td>\n      <td>100.0</td>\n      <td>7-10-9, Ginza, Chuo 104-0061 Tokyo Prefecture</td>\n      <td>[Location, Cleanliness, Service, Value]</td>\n      <td>Tokyo</td>\n      <td>{'Central-Italian': 1, 'Italian': 1, 'Tuscan':...</td>\n      <td>[La Gioconda, Tempura Yasuda, Ginza M's Cafe, ...</td>\n    </tr>\n  </tbody>\n</table>\n</div>"
     },
     "execution_count": 23,
     "metadata": {},
     "output_type": "execute_result"
    }
   ],
   "source": [
    "df.head()"
   ],
   "metadata": {
    "collapsed": false,
    "pycharm": {
     "name": "#%%\n"
    }
   }
  },
  {
   "cell_type": "code",
   "execution_count": 24,
   "outputs": [],
   "source": [
    "# filters\n",
    "def set_amenity_filter(dFrame, amenity_list):\n",
    "    mask = dFrame.amenities.apply(lambda x: any(item for item in amenity_list if item in x))\n",
    "    return dFrame[mask]\n",
    "\n",
    "\n",
    "def set_language_filter(dFrame, language_list):\n",
    "    mask = dFrame.languages.apply(lambda x: any(item for item in language_list if item in x))\n",
    "    return dFrame[mask]\n",
    "\n",
    "\n",
    "def set_class_filter(dFrame, class_list):\n",
    "    mask = dFrame.hotel_class.apply(lambda x: any(item for item in class_list if item in x))\n",
    "    return dFrame[mask]\n",
    "\n",
    "\n",
    "def set_cuisine_filter(dFrame, cuisine_list):\n",
    "    mask = dFrame.cuisines.apply(lambda x: any(item for item in cuisine_list if item in x.keys()))\n",
    "    return dFrame[mask]\n",
    "\n",
    "\n",
    "def set_rating_filter(dFrame, min_rating):\n",
    "    return dFrame[dFrame.rating >= min_rating]\n",
    "\n",
    "\n",
    "def set_review_filter(dFrame, min_reviews):\n",
    "    return dFrame[dFrame.review_count >= min_reviews]\n",
    "\n",
    "\n",
    "def set_rank_filter(dFrame, max_rank):\n",
    "    return dFrame[dFrame.hotel_rank <= max_rank]\n",
    "\n",
    "\n",
    "def set_price_filter(dFrame, max_price):\n",
    "    return dFrame[dFrame.price <= max_price]\n",
    "\n",
    "\n",
    "def set_restraunts_nearby_filter(dFrame, min_restraunts_nearby):\n",
    "    return dFrame[dFrame.restraunts_nearby >= min_restraunts_nearby]\n",
    "\n",
    "\n",
    "def set_attractions_nearby_filter(dFrame, min_attractions_nearby):\n",
    "    return dFrame[dFrame.attractions_nearby >= min_attractions_nearby]\n",
    "\n",
    "\n",
    "def set_good_for_walkers_out_of_100_filter(dFrame, min_good_for_walkers_out_of_100):\n",
    "    return dFrame[dFrame.good_for_walkers_out_of_100 <= min_good_for_walkers_out_of_100]\n",
    "\n",
    "\n",
    "def set_city_filter(dFrame, cities):\n",
    "    return dFrame[dFrame.city.isin(cities)]"
   ],
   "metadata": {
    "collapsed": false,
    "pycharm": {
     "name": "#%%\n"
    }
   }
  },
  {
   "cell_type": "code",
   "execution_count": 25,
   "outputs": [],
   "source": [
    "# sorting df\n",
    "def sort_df(dFrame):\n",
    "    result = dFrame.sort_values(by=['price'],ascending=True)\n",
    "    result = result.sort_values(by=['hotel_rank'],ascending=True)\n",
    "    result = result.sort_values(by=['rating'],ascending=False)\n",
    "    return result"
   ],
   "metadata": {
    "collapsed": false,
    "pycharm": {
     "name": "#%%\n"
    }
   }
  },
  {
   "cell_type": "code",
   "execution_count": 26,
   "outputs": [
    {
     "data": {
      "text/plain": "                                             hotel_name  rating  review_count  \\\n3734       Crashpads Shoreditch the Club Row Collection     5.0           2.0   \n4213                                      My City House     5.0           1.0   \n46                                       Guest House En     5.0           9.0   \n1620                                 48 Roger Apartment     5.0           1.0   \n79                                  Dormy Inn Ikebukuro     5.0           4.0   \n...                                                 ...     ...           ...   \n4252                              My Favorite Place B&B     NaN           NaN   \n4253  Madison Avenue Luxury Apartments Next To Times...     NaN           NaN   \n4255                              Idyllic New York Apt.     NaN           NaN   \n4256                                  Soho Garden Hotel     NaN           NaN   \n4271                               The Lodging New York     NaN           NaN   \n\n      hotel_rank                                          amenities languages  \\\n3734       332.0                                                 []    [None]   \n4213        83.0                                                 []    [None]   \n46          45.0  [Free High Speed Internet (WiFi), Bar / lounge...    [None]   \n1620       445.0                                                 []    [None]   \n79          44.0                                                 []    [None]   \n...          ...                                                ...       ...   \n4252         NaN                                                 []    [None]   \n4253         NaN                                                 []    [None]   \n4255         NaN                                                 []    [None]   \n4256         NaN                                                 []    [None]   \n4271         NaN                                                 []    [None]   \n\n     hotel_class  price best_price_source  restraunts_nearby  \\\n3734          []    NaN              None              336.0   \n4213          []    NaN              None              579.0   \n46            []    NaN              None              800.0   \n1620          []    NaN              None               74.0   \n79            []    NaN              None              721.0   \n...          ...    ...               ...                ...   \n4252          []    NaN              None               84.0   \n4253          []    NaN              None              551.0   \n4255          []    NaN              None              140.0   \n4256          []    NaN              None              421.0   \n4271          []    NaN              None              318.0   \n\n      attractions_nearby  good_for_walkers_out_of_100  \\\n3734                91.0                        100.0   \n4213               181.0                        100.0   \n46                 145.0                        100.0   \n1620                16.0                         80.0   \n79                  61.0                         95.0   \n...                  ...                          ...   \n4252                 3.0                         92.0   \n4253                89.0                        100.0   \n4255                 7.0                         62.0   \n4256               131.0                        100.0   \n4271                50.0                        100.0   \n\n                                          lat_long_link  \\\n3734                 9A Club Row, London E1 6JX England   \n4213       West 47th & 9th Ave, New York City, NY 10036   \n46    1-3-3 Hanakawado, Taito 111-0033 Tokyo Prefecture   \n1620  Flat 48 Rogers Estate Globe Road, London E2 0J...   \n79    3-11-1 Higashiikebukuro, Toshima 171-0014 Toky...   \n...                                                 ...   \n4252         East 116TH Street, New York City, NY 10026   \n4253                            New York City, NY 10016   \n4255  50-44 47 St 2nd Floor, New York City, NY 11377...   \n4256              416 Broadway, New York City, NY 10013   \n4271              West 52nd St, New York City, NY 10019   \n\n     best_features_as_per_reviews      city cuisines restaurant_names  \n3734                           []    London       {}               []  \n4213                           []  New York       {}               []  \n46                             []     Tokyo       {}               []  \n1620   [Location, Service, Value]    London       {}               []  \n79                             []     Tokyo       {}               []  \n...                           ...       ...      ...              ...  \n4252                           []  New York       {}               []  \n4253                           []  New York       {}               []  \n4255                           []  New York       {}               []  \n4256                           []  New York       {}               []  \n4271                           []  New York       {}               []  \n\n[4288 rows x 17 columns]",
      "text/html": "<div>\n<style scoped>\n    .dataframe tbody tr th:only-of-type {\n        vertical-align: middle;\n    }\n\n    .dataframe tbody tr th {\n        vertical-align: top;\n    }\n\n    .dataframe thead th {\n        text-align: right;\n    }\n</style>\n<table border=\"1\" class=\"dataframe\">\n  <thead>\n    <tr style=\"text-align: right;\">\n      <th></th>\n      <th>hotel_name</th>\n      <th>rating</th>\n      <th>review_count</th>\n      <th>hotel_rank</th>\n      <th>amenities</th>\n      <th>languages</th>\n      <th>hotel_class</th>\n      <th>price</th>\n      <th>best_price_source</th>\n      <th>restraunts_nearby</th>\n      <th>attractions_nearby</th>\n      <th>good_for_walkers_out_of_100</th>\n      <th>lat_long_link</th>\n      <th>best_features_as_per_reviews</th>\n      <th>city</th>\n      <th>cuisines</th>\n      <th>restaurant_names</th>\n    </tr>\n  </thead>\n  <tbody>\n    <tr>\n      <th>3734</th>\n      <td>Crashpads Shoreditch the Club Row Collection</td>\n      <td>5.0</td>\n      <td>2.0</td>\n      <td>332.0</td>\n      <td>[]</td>\n      <td>[None]</td>\n      <td>[]</td>\n      <td>NaN</td>\n      <td>None</td>\n      <td>336.0</td>\n      <td>91.0</td>\n      <td>100.0</td>\n      <td>9A Club Row, London E1 6JX England</td>\n      <td>[]</td>\n      <td>London</td>\n      <td>{}</td>\n      <td>[]</td>\n    </tr>\n    <tr>\n      <th>4213</th>\n      <td>My City House</td>\n      <td>5.0</td>\n      <td>1.0</td>\n      <td>83.0</td>\n      <td>[]</td>\n      <td>[None]</td>\n      <td>[]</td>\n      <td>NaN</td>\n      <td>None</td>\n      <td>579.0</td>\n      <td>181.0</td>\n      <td>100.0</td>\n      <td>West 47th &amp; 9th Ave, New York City, NY 10036</td>\n      <td>[]</td>\n      <td>New York</td>\n      <td>{}</td>\n      <td>[]</td>\n    </tr>\n    <tr>\n      <th>46</th>\n      <td>Guest House En</td>\n      <td>5.0</td>\n      <td>9.0</td>\n      <td>45.0</td>\n      <td>[Free High Speed Internet (WiFi), Bar / lounge...</td>\n      <td>[None]</td>\n      <td>[]</td>\n      <td>NaN</td>\n      <td>None</td>\n      <td>800.0</td>\n      <td>145.0</td>\n      <td>100.0</td>\n      <td>1-3-3 Hanakawado, Taito 111-0033 Tokyo Prefecture</td>\n      <td>[]</td>\n      <td>Tokyo</td>\n      <td>{}</td>\n      <td>[]</td>\n    </tr>\n    <tr>\n      <th>1620</th>\n      <td>48 Roger Apartment</td>\n      <td>5.0</td>\n      <td>1.0</td>\n      <td>445.0</td>\n      <td>[]</td>\n      <td>[None]</td>\n      <td>[]</td>\n      <td>NaN</td>\n      <td>None</td>\n      <td>74.0</td>\n      <td>16.0</td>\n      <td>80.0</td>\n      <td>Flat 48 Rogers Estate Globe Road, London E2 0J...</td>\n      <td>[Location, Service, Value]</td>\n      <td>London</td>\n      <td>{}</td>\n      <td>[]</td>\n    </tr>\n    <tr>\n      <th>79</th>\n      <td>Dormy Inn Ikebukuro</td>\n      <td>5.0</td>\n      <td>4.0</td>\n      <td>44.0</td>\n      <td>[]</td>\n      <td>[None]</td>\n      <td>[]</td>\n      <td>NaN</td>\n      <td>None</td>\n      <td>721.0</td>\n      <td>61.0</td>\n      <td>95.0</td>\n      <td>3-11-1 Higashiikebukuro, Toshima 171-0014 Toky...</td>\n      <td>[]</td>\n      <td>Tokyo</td>\n      <td>{}</td>\n      <td>[]</td>\n    </tr>\n    <tr>\n      <th>...</th>\n      <td>...</td>\n      <td>...</td>\n      <td>...</td>\n      <td>...</td>\n      <td>...</td>\n      <td>...</td>\n      <td>...</td>\n      <td>...</td>\n      <td>...</td>\n      <td>...</td>\n      <td>...</td>\n      <td>...</td>\n      <td>...</td>\n      <td>...</td>\n      <td>...</td>\n      <td>...</td>\n      <td>...</td>\n    </tr>\n    <tr>\n      <th>4252</th>\n      <td>My Favorite Place B&amp;B</td>\n      <td>NaN</td>\n      <td>NaN</td>\n      <td>NaN</td>\n      <td>[]</td>\n      <td>[None]</td>\n      <td>[]</td>\n      <td>NaN</td>\n      <td>None</td>\n      <td>84.0</td>\n      <td>3.0</td>\n      <td>92.0</td>\n      <td>East 116TH Street, New York City, NY 10026</td>\n      <td>[]</td>\n      <td>New York</td>\n      <td>{}</td>\n      <td>[]</td>\n    </tr>\n    <tr>\n      <th>4253</th>\n      <td>Madison Avenue Luxury Apartments Next To Times...</td>\n      <td>NaN</td>\n      <td>NaN</td>\n      <td>NaN</td>\n      <td>[]</td>\n      <td>[None]</td>\n      <td>[]</td>\n      <td>NaN</td>\n      <td>None</td>\n      <td>551.0</td>\n      <td>89.0</td>\n      <td>100.0</td>\n      <td>New York City, NY 10016</td>\n      <td>[]</td>\n      <td>New York</td>\n      <td>{}</td>\n      <td>[]</td>\n    </tr>\n    <tr>\n      <th>4255</th>\n      <td>Idyllic New York Apt.</td>\n      <td>NaN</td>\n      <td>NaN</td>\n      <td>NaN</td>\n      <td>[]</td>\n      <td>[None]</td>\n      <td>[]</td>\n      <td>NaN</td>\n      <td>None</td>\n      <td>140.0</td>\n      <td>7.0</td>\n      <td>62.0</td>\n      <td>50-44 47 St 2nd Floor, New York City, NY 11377...</td>\n      <td>[]</td>\n      <td>New York</td>\n      <td>{}</td>\n      <td>[]</td>\n    </tr>\n    <tr>\n      <th>4256</th>\n      <td>Soho Garden Hotel</td>\n      <td>NaN</td>\n      <td>NaN</td>\n      <td>NaN</td>\n      <td>[]</td>\n      <td>[None]</td>\n      <td>[]</td>\n      <td>NaN</td>\n      <td>None</td>\n      <td>421.0</td>\n      <td>131.0</td>\n      <td>100.0</td>\n      <td>416 Broadway, New York City, NY 10013</td>\n      <td>[]</td>\n      <td>New York</td>\n      <td>{}</td>\n      <td>[]</td>\n    </tr>\n    <tr>\n      <th>4271</th>\n      <td>The Lodging New York</td>\n      <td>NaN</td>\n      <td>NaN</td>\n      <td>NaN</td>\n      <td>[]</td>\n      <td>[None]</td>\n      <td>[]</td>\n      <td>NaN</td>\n      <td>None</td>\n      <td>318.0</td>\n      <td>50.0</td>\n      <td>100.0</td>\n      <td>West 52nd St, New York City, NY 10019</td>\n      <td>[]</td>\n      <td>New York</td>\n      <td>{}</td>\n      <td>[]</td>\n    </tr>\n  </tbody>\n</table>\n<p>4288 rows × 17 columns</p>\n</div>"
     },
     "execution_count": 26,
     "metadata": {},
     "output_type": "execute_result"
    }
   ],
   "source": [
    "sort_df(df)"
   ],
   "metadata": {
    "collapsed": false,
    "pycharm": {
     "name": "#%%\n"
    }
   }
  },
  {
   "cell_type": "code",
   "execution_count": 27,
   "outputs": [],
   "source": [
    "# get filter data\n",
    "def get_all_amenities(dFrame):\n",
    "    amenities = {}\n",
    "    for index, row in dFrame.iterrows():\n",
    "        for amenity in row['amenities']:\n",
    "            if amenity in amenities.keys():\n",
    "                amenities[amenity] += 1\n",
    "            else:\n",
    "                amenities[amenity] = 1\n",
    "    return amenities\n",
    "\n",
    "def get_all_languages(dFrame):\n",
    "    languages = {}\n",
    "    for index, row in dFrame.iterrows():\n",
    "        for language in row['languages']:\n",
    "            if language is not None and language != 'None':\n",
    "                if language in languages:\n",
    "                    languages[language] += 1\n",
    "                else:\n",
    "                    languages[language] = 1\n",
    "    # sorting in descending order\n",
    "    languages = sorted(languages.items(), key=lambda x: x[1], reverse=True)\n",
    "    return languages\n",
    "\n",
    "def get_all_classes(dFrame):\n",
    "    classes = {}\n",
    "    for index, row in dFrame.iterrows():\n",
    "        for hotel_class in row['hotel_class']:\n",
    "            if hotel_class in classes:\n",
    "                classes[hotel_class] += 1\n",
    "            else:\n",
    "                classes[hotel_class] = 1\n",
    "    # sorting in descending order\n",
    "    classes = sorted(classes.items(), key=lambda x: x[1], reverse=True)\n",
    "    return classes\n",
    "\n",
    "def get_all_cuisines(dFrame):\n",
    "    cuisines = {}\n",
    "    for index, row in dFrame.iterrows():\n",
    "        for cuisine, count in row['cuisines'].items():\n",
    "            if cuisine in cuisines.keys():\n",
    "                cuisines[cuisine] +=1\n",
    "            else:\n",
    "                cuisines[cuisine] =1\n",
    "    # sorting in descending order\n",
    "    cuisines = sorted(cuisines.items(), key=lambda x: x[1], reverse=True)\n",
    "    return cuisines\n",
    "\n",
    "def get_all_restaurants(dFrame):\n",
    "    restaurants = {}\n",
    "    for index, row in dFrame.iterrows():\n",
    "        for restaurant in row['restaurant_names']:\n",
    "            if restaurant in restaurants:\n",
    "                restaurants[restaurant] +=1\n",
    "            else:\n",
    "                restaurants[restaurant] = 1\n",
    "    # sorting in descending order\n",
    "    restaurants = sorted(restaurants.items(), key=lambda x: x[1], reverse=True)\n",
    "    return restaurants"
   ],
   "metadata": {
    "collapsed": false,
    "pycharm": {
     "name": "#%%\n"
    }
   }
  },
  {
   "cell_type": "code",
   "execution_count": 28,
   "outputs": [
    {
     "data": {
      "text/plain": "40"
     },
     "execution_count": 28,
     "metadata": {},
     "output_type": "execute_result"
    }
   ],
   "source": [
    "int(df.attractions_nearby.mean())"
   ],
   "metadata": {
    "collapsed": false,
    "pycharm": {
     "name": "#%%\n"
    }
   }
  },
  {
   "cell_type": "code",
   "execution_count": 29,
   "outputs": [
    {
     "data": {
      "text/plain": "                                             hotel_name  rating  review_count  \\\n3734       Crashpads Shoreditch the Club Row Collection     5.0           2.0   \n4213                                      My City House     5.0           1.0   \n46                                       Guest House En     5.0           9.0   \n1620                                 48 Roger Apartment     5.0           1.0   \n79                                  Dormy Inn Ikebukuro     5.0           4.0   \n...                                                 ...     ...           ...   \n4252                              My Favorite Place B&B     NaN           NaN   \n4253  Madison Avenue Luxury Apartments Next To Times...     NaN           NaN   \n4255                              Idyllic New York Apt.     NaN           NaN   \n4256                                  Soho Garden Hotel     NaN           NaN   \n4271                               The Lodging New York     NaN           NaN   \n\n      hotel_rank                                          amenities languages  \\\n3734       332.0                                                 []    [None]   \n4213        83.0                                                 []    [None]   \n46          45.0  [Free High Speed Internet (WiFi), Bar / lounge...    [None]   \n1620       445.0                                                 []    [None]   \n79          44.0                                                 []    [None]   \n...          ...                                                ...       ...   \n4252         NaN                                                 []    [None]   \n4253         NaN                                                 []    [None]   \n4255         NaN                                                 []    [None]   \n4256         NaN                                                 []    [None]   \n4271         NaN                                                 []    [None]   \n\n     hotel_class  price best_price_source  restraunts_nearby  \\\n3734          []    NaN              None              336.0   \n4213          []    NaN              None              579.0   \n46            []    NaN              None              800.0   \n1620          []    NaN              None               74.0   \n79            []    NaN              None              721.0   \n...          ...    ...               ...                ...   \n4252          []    NaN              None               84.0   \n4253          []    NaN              None              551.0   \n4255          []    NaN              None              140.0   \n4256          []    NaN              None              421.0   \n4271          []    NaN              None              318.0   \n\n      attractions_nearby  good_for_walkers_out_of_100  \\\n3734                91.0                        100.0   \n4213               181.0                        100.0   \n46                 145.0                        100.0   \n1620                16.0                         80.0   \n79                  61.0                         95.0   \n...                  ...                          ...   \n4252                 3.0                         92.0   \n4253                89.0                        100.0   \n4255                 7.0                         62.0   \n4256               131.0                        100.0   \n4271                50.0                        100.0   \n\n                                          lat_long_link  \\\n3734                 9A Club Row, London E1 6JX England   \n4213       West 47th & 9th Ave, New York City, NY 10036   \n46    1-3-3 Hanakawado, Taito 111-0033 Tokyo Prefecture   \n1620  Flat 48 Rogers Estate Globe Road, London E2 0J...   \n79    3-11-1 Higashiikebukuro, Toshima 171-0014 Toky...   \n...                                                 ...   \n4252         East 116TH Street, New York City, NY 10026   \n4253                            New York City, NY 10016   \n4255  50-44 47 St 2nd Floor, New York City, NY 11377...   \n4256              416 Broadway, New York City, NY 10013   \n4271              West 52nd St, New York City, NY 10019   \n\n     best_features_as_per_reviews      city cuisines restaurant_names  \n3734                           []    London       {}               []  \n4213                           []  New York       {}               []  \n46                             []     Tokyo       {}               []  \n1620   [Location, Service, Value]    London       {}               []  \n79                             []     Tokyo       {}               []  \n...                           ...       ...      ...              ...  \n4252                           []  New York       {}               []  \n4253                           []  New York       {}               []  \n4255                           []  New York       {}               []  \n4256                           []  New York       {}               []  \n4271                           []  New York       {}               []  \n\n[4288 rows x 17 columns]",
      "text/html": "<div>\n<style scoped>\n    .dataframe tbody tr th:only-of-type {\n        vertical-align: middle;\n    }\n\n    .dataframe tbody tr th {\n        vertical-align: top;\n    }\n\n    .dataframe thead th {\n        text-align: right;\n    }\n</style>\n<table border=\"1\" class=\"dataframe\">\n  <thead>\n    <tr style=\"text-align: right;\">\n      <th></th>\n      <th>hotel_name</th>\n      <th>rating</th>\n      <th>review_count</th>\n      <th>hotel_rank</th>\n      <th>amenities</th>\n      <th>languages</th>\n      <th>hotel_class</th>\n      <th>price</th>\n      <th>best_price_source</th>\n      <th>restraunts_nearby</th>\n      <th>attractions_nearby</th>\n      <th>good_for_walkers_out_of_100</th>\n      <th>lat_long_link</th>\n      <th>best_features_as_per_reviews</th>\n      <th>city</th>\n      <th>cuisines</th>\n      <th>restaurant_names</th>\n    </tr>\n  </thead>\n  <tbody>\n    <tr>\n      <th>3734</th>\n      <td>Crashpads Shoreditch the Club Row Collection</td>\n      <td>5.0</td>\n      <td>2.0</td>\n      <td>332.0</td>\n      <td>[]</td>\n      <td>[None]</td>\n      <td>[]</td>\n      <td>NaN</td>\n      <td>None</td>\n      <td>336.0</td>\n      <td>91.0</td>\n      <td>100.0</td>\n      <td>9A Club Row, London E1 6JX England</td>\n      <td>[]</td>\n      <td>London</td>\n      <td>{}</td>\n      <td>[]</td>\n    </tr>\n    <tr>\n      <th>4213</th>\n      <td>My City House</td>\n      <td>5.0</td>\n      <td>1.0</td>\n      <td>83.0</td>\n      <td>[]</td>\n      <td>[None]</td>\n      <td>[]</td>\n      <td>NaN</td>\n      <td>None</td>\n      <td>579.0</td>\n      <td>181.0</td>\n      <td>100.0</td>\n      <td>West 47th &amp; 9th Ave, New York City, NY 10036</td>\n      <td>[]</td>\n      <td>New York</td>\n      <td>{}</td>\n      <td>[]</td>\n    </tr>\n    <tr>\n      <th>46</th>\n      <td>Guest House En</td>\n      <td>5.0</td>\n      <td>9.0</td>\n      <td>45.0</td>\n      <td>[Free High Speed Internet (WiFi), Bar / lounge...</td>\n      <td>[None]</td>\n      <td>[]</td>\n      <td>NaN</td>\n      <td>None</td>\n      <td>800.0</td>\n      <td>145.0</td>\n      <td>100.0</td>\n      <td>1-3-3 Hanakawado, Taito 111-0033 Tokyo Prefecture</td>\n      <td>[]</td>\n      <td>Tokyo</td>\n      <td>{}</td>\n      <td>[]</td>\n    </tr>\n    <tr>\n      <th>1620</th>\n      <td>48 Roger Apartment</td>\n      <td>5.0</td>\n      <td>1.0</td>\n      <td>445.0</td>\n      <td>[]</td>\n      <td>[None]</td>\n      <td>[]</td>\n      <td>NaN</td>\n      <td>None</td>\n      <td>74.0</td>\n      <td>16.0</td>\n      <td>80.0</td>\n      <td>Flat 48 Rogers Estate Globe Road, London E2 0J...</td>\n      <td>[Location, Service, Value]</td>\n      <td>London</td>\n      <td>{}</td>\n      <td>[]</td>\n    </tr>\n    <tr>\n      <th>79</th>\n      <td>Dormy Inn Ikebukuro</td>\n      <td>5.0</td>\n      <td>4.0</td>\n      <td>44.0</td>\n      <td>[]</td>\n      <td>[None]</td>\n      <td>[]</td>\n      <td>NaN</td>\n      <td>None</td>\n      <td>721.0</td>\n      <td>61.0</td>\n      <td>95.0</td>\n      <td>3-11-1 Higashiikebukuro, Toshima 171-0014 Toky...</td>\n      <td>[]</td>\n      <td>Tokyo</td>\n      <td>{}</td>\n      <td>[]</td>\n    </tr>\n    <tr>\n      <th>...</th>\n      <td>...</td>\n      <td>...</td>\n      <td>...</td>\n      <td>...</td>\n      <td>...</td>\n      <td>...</td>\n      <td>...</td>\n      <td>...</td>\n      <td>...</td>\n      <td>...</td>\n      <td>...</td>\n      <td>...</td>\n      <td>...</td>\n      <td>...</td>\n      <td>...</td>\n      <td>...</td>\n      <td>...</td>\n    </tr>\n    <tr>\n      <th>4252</th>\n      <td>My Favorite Place B&amp;B</td>\n      <td>NaN</td>\n      <td>NaN</td>\n      <td>NaN</td>\n      <td>[]</td>\n      <td>[None]</td>\n      <td>[]</td>\n      <td>NaN</td>\n      <td>None</td>\n      <td>84.0</td>\n      <td>3.0</td>\n      <td>92.0</td>\n      <td>East 116TH Street, New York City, NY 10026</td>\n      <td>[]</td>\n      <td>New York</td>\n      <td>{}</td>\n      <td>[]</td>\n    </tr>\n    <tr>\n      <th>4253</th>\n      <td>Madison Avenue Luxury Apartments Next To Times...</td>\n      <td>NaN</td>\n      <td>NaN</td>\n      <td>NaN</td>\n      <td>[]</td>\n      <td>[None]</td>\n      <td>[]</td>\n      <td>NaN</td>\n      <td>None</td>\n      <td>551.0</td>\n      <td>89.0</td>\n      <td>100.0</td>\n      <td>New York City, NY 10016</td>\n      <td>[]</td>\n      <td>New York</td>\n      <td>{}</td>\n      <td>[]</td>\n    </tr>\n    <tr>\n      <th>4255</th>\n      <td>Idyllic New York Apt.</td>\n      <td>NaN</td>\n      <td>NaN</td>\n      <td>NaN</td>\n      <td>[]</td>\n      <td>[None]</td>\n      <td>[]</td>\n      <td>NaN</td>\n      <td>None</td>\n      <td>140.0</td>\n      <td>7.0</td>\n      <td>62.0</td>\n      <td>50-44 47 St 2nd Floor, New York City, NY 11377...</td>\n      <td>[]</td>\n      <td>New York</td>\n      <td>{}</td>\n      <td>[]</td>\n    </tr>\n    <tr>\n      <th>4256</th>\n      <td>Soho Garden Hotel</td>\n      <td>NaN</td>\n      <td>NaN</td>\n      <td>NaN</td>\n      <td>[]</td>\n      <td>[None]</td>\n      <td>[]</td>\n      <td>NaN</td>\n      <td>None</td>\n      <td>421.0</td>\n      <td>131.0</td>\n      <td>100.0</td>\n      <td>416 Broadway, New York City, NY 10013</td>\n      <td>[]</td>\n      <td>New York</td>\n      <td>{}</td>\n      <td>[]</td>\n    </tr>\n    <tr>\n      <th>4271</th>\n      <td>The Lodging New York</td>\n      <td>NaN</td>\n      <td>NaN</td>\n      <td>NaN</td>\n      <td>[]</td>\n      <td>[None]</td>\n      <td>[]</td>\n      <td>NaN</td>\n      <td>None</td>\n      <td>318.0</td>\n      <td>50.0</td>\n      <td>100.0</td>\n      <td>West 52nd St, New York City, NY 10019</td>\n      <td>[]</td>\n      <td>New York</td>\n      <td>{}</td>\n      <td>[]</td>\n    </tr>\n  </tbody>\n</table>\n<p>4288 rows × 17 columns</p>\n</div>"
     },
     "execution_count": 29,
     "metadata": {},
     "output_type": "execute_result"
    }
   ],
   "source": [
    "sort_df(df)"
   ],
   "metadata": {
    "collapsed": false,
    "pycharm": {
     "name": "#%%\n"
    }
   }
  },
  {
   "cell_type": "code",
   "execution_count": 30,
   "outputs": [
    {
     "data": {
      "text/plain": "                           hotel_name  rating   price  review_count  \\\n0     Daiwa Roynet Hotel Tokyo Ariake     4.0     0.0            81   \n1  Hotel Metropolitan Tokyo Ikebukuro     4.0     0.0             0   \n2          ONSEN RYOKAN YUEN SHINJUKU     4.5  7662.0            86   \n3    Rembrandt Style Tokyo Nishikasai     4.0     0.0           461   \n4         HOTEL UNIZO Ginza-nanachome     3.5     0.0            86   \n\n   hotel_rank  \n0           4  \n1           4  \n2          19  \n3           4  \n4          27  ",
      "text/html": "<div>\n<style scoped>\n    .dataframe tbody tr th:only-of-type {\n        vertical-align: middle;\n    }\n\n    .dataframe tbody tr th {\n        vertical-align: top;\n    }\n\n    .dataframe thead th {\n        text-align: right;\n    }\n</style>\n<table border=\"1\" class=\"dataframe\">\n  <thead>\n    <tr style=\"text-align: right;\">\n      <th></th>\n      <th>hotel_name</th>\n      <th>rating</th>\n      <th>price</th>\n      <th>review_count</th>\n      <th>hotel_rank</th>\n    </tr>\n  </thead>\n  <tbody>\n    <tr>\n      <th>0</th>\n      <td>Daiwa Roynet Hotel Tokyo Ariake</td>\n      <td>4.0</td>\n      <td>0.0</td>\n      <td>81</td>\n      <td>4</td>\n    </tr>\n    <tr>\n      <th>1</th>\n      <td>Hotel Metropolitan Tokyo Ikebukuro</td>\n      <td>4.0</td>\n      <td>0.0</td>\n      <td>0</td>\n      <td>4</td>\n    </tr>\n    <tr>\n      <th>2</th>\n      <td>ONSEN RYOKAN YUEN SHINJUKU</td>\n      <td>4.5</td>\n      <td>7662.0</td>\n      <td>86</td>\n      <td>19</td>\n    </tr>\n    <tr>\n      <th>3</th>\n      <td>Rembrandt Style Tokyo Nishikasai</td>\n      <td>4.0</td>\n      <td>0.0</td>\n      <td>461</td>\n      <td>4</td>\n    </tr>\n    <tr>\n      <th>4</th>\n      <td>HOTEL UNIZO Ginza-nanachome</td>\n      <td>3.5</td>\n      <td>0.0</td>\n      <td>86</td>\n      <td>27</td>\n    </tr>\n  </tbody>\n</table>\n</div>"
     },
     "execution_count": 30,
     "metadata": {},
     "output_type": "execute_result"
    }
   ],
   "source": [
    "new_df = df.filter(['hotel_name', 'rating', 'price', 'review_count' ,'hotel_rank'], axis=1)\n",
    "new_df['review_count'] = new_df['review_count'].replace(np.nan, 0)\n",
    "new_df['hotel_rank'] = new_df['hotel_rank'].replace(np.nan, 0)\n",
    "new_df['price'] = new_df['price'].replace(np.nan, 0)\n",
    "new_df['review_count'] = new_df['review_count'].astype(dtype=int,errors ='ignore')\n",
    "new_df['hotel_rank'] = new_df['hotel_rank'].astype(dtype=int, errors='ignore')\n",
    "new_df.head()"
   ],
   "metadata": {
    "collapsed": false,
    "pycharm": {
     "name": "#%%\n"
    }
   }
  },
  {
   "cell_type": "code",
   "execution_count": 35,
   "outputs": [
    {
     "data": {
      "text/plain": "[('Budget', 65),\n ('Business', 36),\n ('Modern', 14),\n ('Family', 12),\n ('Quiet', 10),\n ('Centrally Located', 7),\n ('Mid-range', 7),\n ('Quaint', 6),\n ('Trendy', 3),\n ('Luxury', 1),\n ('Value', 1),\n ('Hidden Gem', 1),\n ('River View', 1),\n ('Great View', 1)]"
     },
     "execution_count": 35,
     "metadata": {},
     "output_type": "execute_result"
    }
   ],
   "source": [
    "get_all_classes(df)"
   ],
   "metadata": {
    "collapsed": false,
    "pycharm": {
     "name": "#%%\n"
    }
   }
  },
  {
   "cell_type": "code",
   "execution_count": 32,
   "outputs": [
    {
     "data": {
      "text/plain": "[('English', 429),\n ('Japanese', 245),\n ('Chinese', 106),\n ('Spanish', 75),\n ('French', 50),\n ('Korean', 36),\n ('Russian', 23),\n ('Italian', 23),\n ('German', 16),\n ('Malay', 13),\n ('Portuguese', 12),\n ('Hindi', 10),\n ('Indonesian', 9),\n ('Polish', 7),\n ('Filipino', 6),\n ('Thai', 6),\n ('Romanian', 5),\n ('Bulgarian', 5),\n ('Arabic', 4),\n ('Danish', 4),\n ('Urdu', 4),\n ('Turkish', 3),\n ('Dutch', 3),\n ('Norwegian', 3),\n ('Lithuanian', 3),\n ('Tamil', 3),\n ('Nepali', 2),\n ('Greek', 2),\n ('Ukrainian', 2),\n ('Croatian', 2),\n ('Czech', 2),\n ('Latvian', 2),\n ('Burmese', 1),\n ('Vietnamese', 1),\n ('Farsi', 1),\n ('Slovenian', 1),\n ('Swahili', 1),\n ('Hungarian', 1),\n ('Swedish', 1),\n ('Estonian', 1),\n ('Catalan', 1)]"
     },
     "execution_count": 32,
     "metadata": {},
     "output_type": "execute_result"
    }
   ],
   "source": [
    "get_all_languages(df)"
   ],
   "metadata": {
    "collapsed": false,
    "pycharm": {
     "name": "#%%\n"
    }
   }
  },
  {
   "cell_type": "code",
   "execution_count": 36,
   "outputs": [
    {
     "name": "stdout",
     "output_type": "stream",
     "text": [
      "<class 'pandas.core.frame.DataFrame'>\n",
      "RangeIndex: 4288 entries, 0 to 4287\n",
      "Data columns (total 17 columns):\n",
      " #   Column                        Non-Null Count  Dtype  \n",
      "---  ------                        --------------  -----  \n",
      " 0   hotel_name                    4288 non-null   object \n",
      " 1   rating                        1671 non-null   float64\n",
      " 2   review_count                  1666 non-null   float64\n",
      " 3   hotel_rank                    1566 non-null   float64\n",
      " 4   amenities                     4288 non-null   object \n",
      " 5   languages                     4288 non-null   object \n",
      " 6   hotel_class                   4288 non-null   object \n",
      " 7   price                         231 non-null    float64\n",
      " 8   best_price_source             231 non-null    object \n",
      " 9   restraunts_nearby             3800 non-null   float64\n",
      " 10  attractions_nearby            3800 non-null   float64\n",
      " 11  good_for_walkers_out_of_100   3800 non-null   float64\n",
      " 12  lat_long_link                 3932 non-null   object \n",
      " 13  best_features_as_per_reviews  4288 non-null   object \n",
      " 14  city                          4288 non-null   object \n",
      " 15  cuisines                      4288 non-null   object \n",
      " 16  restaurant_names              4288 non-null   object \n",
      "dtypes: float64(7), object(10)\n",
      "memory usage: 569.6+ KB\n"
     ]
    }
   ],
   "source": [
    "df.info()"
   ],
   "metadata": {
    "collapsed": false,
    "pycharm": {
     "name": "#%%\n"
    }
   }
  },
  {
   "cell_type": "code",
   "execution_count": 37,
   "outputs": [],
   "source": [
    "'''\n",
    "add_city(data1, 'Tokyo')\n",
    "add_city(data2, 'London')\n",
    "add_city(data3, 'Singapore')\n",
    "add_city(data4, 'New York')\n",
    "'''\n",
    "location_df = pd.read_csv('./data/tokyo_data.csv')\n",
    "temp_df = pd.read_csv('./data/london_data.csv')\n",
    "location_df = location_df.append(temp_df,ignore_index=True)\n",
    "\n",
    "temp_df = pd.read_csv('./data/singapore_data.csv')\n",
    "location_df = location_df.append(temp_df,ignore_index=True)\n",
    "\n",
    "temp_df = pd.read_csv('./data/new_york_data.csv')\n",
    "location_df = location_df.append(temp_df,ignore_index=True)"
   ],
   "metadata": {
    "collapsed": false,
    "pycharm": {
     "name": "#%%\n"
    }
   }
  },
  {
   "cell_type": "code",
   "execution_count": 40,
   "outputs": [],
   "source": [
    "df['lat'] = location_df['lat']\n",
    "df['lon'] = location_df['lon']"
   ],
   "metadata": {
    "collapsed": false,
    "pycharm": {
     "name": "#%%\n"
    }
   }
  },
  {
   "cell_type": "code",
   "execution_count": 41,
   "outputs": [
    {
     "name": "stdout",
     "output_type": "stream",
     "text": [
      "<class 'pandas.core.frame.DataFrame'>\n",
      "RangeIndex: 4288 entries, 0 to 4287\n",
      "Data columns (total 19 columns):\n",
      " #   Column                        Non-Null Count  Dtype  \n",
      "---  ------                        --------------  -----  \n",
      " 0   hotel_name                    4288 non-null   object \n",
      " 1   rating                        1671 non-null   float64\n",
      " 2   review_count                  1666 non-null   float64\n",
      " 3   hotel_rank                    1566 non-null   float64\n",
      " 4   amenities                     4288 non-null   object \n",
      " 5   languages                     4288 non-null   object \n",
      " 6   hotel_class                   4288 non-null   object \n",
      " 7   price                         231 non-null    float64\n",
      " 8   best_price_source             231 non-null    object \n",
      " 9   restraunts_nearby             3800 non-null   float64\n",
      " 10  attractions_nearby            3800 non-null   float64\n",
      " 11  good_for_walkers_out_of_100   3800 non-null   float64\n",
      " 12  lat_long_link                 3932 non-null   object \n",
      " 13  best_features_as_per_reviews  4288 non-null   object \n",
      " 14  city                          4288 non-null   object \n",
      " 15  cuisines                      4288 non-null   object \n",
      " 16  restaurant_names              4288 non-null   object \n",
      " 17  lat                           2199 non-null   float64\n",
      " 18  lon                           2199 non-null   float64\n",
      "dtypes: float64(9), object(10)\n",
      "memory usage: 636.6+ KB\n"
     ]
    }
   ],
   "source": [
    "df.info()"
   ],
   "metadata": {
    "collapsed": false,
    "pycharm": {
     "name": "#%%\n"
    }
   }
  },
  {
   "cell_type": "code",
   "execution_count": 46,
   "outputs": [],
   "source": [
    "df.to_csv('data.csv',header=True, index=False)"
   ],
   "metadata": {
    "collapsed": false,
    "pycharm": {
     "name": "#%%\n"
    }
   }
  },
  {
   "cell_type": "code",
   "execution_count": 49,
   "outputs": [
    {
     "data": {
      "text/plain": "                           hotel_name  rating  review_count  hotel_rank  \\\n0     Daiwa Roynet Hotel Tokyo Ariake     4.0          81.0         4.0   \n1  Hotel Metropolitan Tokyo Ikebukuro     4.0           NaN         4.0   \n2          ONSEN RYOKAN YUEN SHINJUKU     4.5          86.0        19.0   \n3    Rembrandt Style Tokyo Nishikasai     4.0         461.0         4.0   \n4         HOTEL UNIZO Ginza-nanachome     3.5          86.0        27.0   \n\n                                           amenities  \\\n0  ['Free High Speed Internet (WiFi)', 'Wifi', 'R...   \n1  ['Paid private parking on-site', 'Free High Sp...   \n2  ['Free High Speed Internet (WiFi)', 'Wifi', 'H...   \n3  ['Paid private parking on-site', 'Free High Sp...   \n4  ['Free High Speed Internet (WiFi)', 'Hot bath'...   \n\n                                      languages  \\\n0                       ['English', 'Japanese']   \n1            ['English', 'Chinese', 'Japanese']   \n2  ['English', 'Chinese', 'Japanese', 'Korean']   \n3  ['English', 'Chinese', 'Japanese', 'Nepali']   \n4                       ['English', 'Japanese']   \n\n                         hotel_class   price best_price_source  \\\n0             ['Trendy', 'Business']     NaN               NaN   \n1                ['Family', 'Quiet']     NaN               NaN   \n2                                 []  7662.0     ZenHotels.com   \n3             ['Modern', 'Business']     NaN               NaN   \n4  ['Business', 'Centrally Located']     NaN               NaN   \n\n   restraunts_nearby  attractions_nearby  good_for_walkers_out_of_100  \\\n0               94.0                 6.0                         94.0   \n1             1705.0                82.0                         98.0   \n2              817.0                79.0                         98.0   \n3              305.0                 4.0                         87.0   \n4             3098.0               375.0                        100.0   \n\n                                       lat_long_link  \\\n0      3-7-3, Ariake, Koto 135-0063 Tokyo Prefecture   \n1  1-6-1 Nishiikebukuro, Toshima 171-8505 Tokyo P...   \n2  5-3-18 Shinjuku, Shinjuku 160-0022 Tokyo Prefe...   \n3  6-17-9 Nishikasai, Edogawa 134-0088 Tokyo Pref...   \n4      7-10-9, Ginza, Chuo 104-0061 Tokyo Prefecture   \n\n                      best_features_as_per_reviews   city  \\\n0  ['Location', 'Cleanliness', 'Service', 'Value']  Tokyo   \n1  ['Location', 'Cleanliness', 'Service', 'Value']  Tokyo   \n2  ['Location', 'Cleanliness', 'Service', 'Value']  Tokyo   \n3  ['Location', 'Cleanliness', 'Service', 'Value']  Tokyo   \n4  ['Location', 'Cleanliness', 'Service', 'Value']  Tokyo   \n\n                                            cuisines  \\\n0          {'Dining bars': 1, 'Beer restaurants': 1}   \n1  {'Cafe': 1, 'International': 1, 'BarPub': 1, '...   \n2  {'Healthy': 2, 'Asian': 2, 'Japanese': 4, 'Gri...   \n3                     {'Pub': 1, 'Kyoto cuisine': 1}   \n4  {'Central-Italian': 1, 'Italian': 1, 'Tuscan':...   \n\n                                    restaurant_names  lat  lon  \n0  ['Akarie', 'The Roof', 'Hibiya Matsumotoro Tok...  NaN  NaN  \n1  ['Sakura Cafe & Restaurant Ikebukuro', 'Cross ...  NaN  NaN  \n2  ['Sakuratei', 'Kakatojo', 'Encounter by Unplan...  NaN  NaN  \n3  ['Fontaine', 'Cafe Dining Palm Tree', 'Uttori'...  NaN  NaN  \n4  ['La Gioconda', 'Tempura Yasuda', \"Ginza M's C...  NaN  NaN  ",
      "text/html": "<div>\n<style scoped>\n    .dataframe tbody tr th:only-of-type {\n        vertical-align: middle;\n    }\n\n    .dataframe tbody tr th {\n        vertical-align: top;\n    }\n\n    .dataframe thead th {\n        text-align: right;\n    }\n</style>\n<table border=\"1\" class=\"dataframe\">\n  <thead>\n    <tr style=\"text-align: right;\">\n      <th></th>\n      <th>hotel_name</th>\n      <th>rating</th>\n      <th>review_count</th>\n      <th>hotel_rank</th>\n      <th>amenities</th>\n      <th>languages</th>\n      <th>hotel_class</th>\n      <th>price</th>\n      <th>best_price_source</th>\n      <th>restraunts_nearby</th>\n      <th>attractions_nearby</th>\n      <th>good_for_walkers_out_of_100</th>\n      <th>lat_long_link</th>\n      <th>best_features_as_per_reviews</th>\n      <th>city</th>\n      <th>cuisines</th>\n      <th>restaurant_names</th>\n      <th>lat</th>\n      <th>lon</th>\n    </tr>\n  </thead>\n  <tbody>\n    <tr>\n      <th>0</th>\n      <td>Daiwa Roynet Hotel Tokyo Ariake</td>\n      <td>4.0</td>\n      <td>81.0</td>\n      <td>4.0</td>\n      <td>['Free High Speed Internet (WiFi)', 'Wifi', 'R...</td>\n      <td>['English', 'Japanese']</td>\n      <td>['Trendy', 'Business']</td>\n      <td>NaN</td>\n      <td>NaN</td>\n      <td>94.0</td>\n      <td>6.0</td>\n      <td>94.0</td>\n      <td>3-7-3, Ariake, Koto 135-0063 Tokyo Prefecture</td>\n      <td>['Location', 'Cleanliness', 'Service', 'Value']</td>\n      <td>Tokyo</td>\n      <td>{'Dining bars': 1, 'Beer restaurants': 1}</td>\n      <td>['Akarie', 'The Roof', 'Hibiya Matsumotoro Tok...</td>\n      <td>NaN</td>\n      <td>NaN</td>\n    </tr>\n    <tr>\n      <th>1</th>\n      <td>Hotel Metropolitan Tokyo Ikebukuro</td>\n      <td>4.0</td>\n      <td>NaN</td>\n      <td>4.0</td>\n      <td>['Paid private parking on-site', 'Free High Sp...</td>\n      <td>['English', 'Chinese', 'Japanese']</td>\n      <td>['Family', 'Quiet']</td>\n      <td>NaN</td>\n      <td>NaN</td>\n      <td>1705.0</td>\n      <td>82.0</td>\n      <td>98.0</td>\n      <td>1-6-1 Nishiikebukuro, Toshima 171-8505 Tokyo P...</td>\n      <td>['Location', 'Cleanliness', 'Service', 'Value']</td>\n      <td>Tokyo</td>\n      <td>{'Cafe': 1, 'International': 1, 'BarPub': 1, '...</td>\n      <td>['Sakura Cafe &amp; Restaurant Ikebukuro', 'Cross ...</td>\n      <td>NaN</td>\n      <td>NaN</td>\n    </tr>\n    <tr>\n      <th>2</th>\n      <td>ONSEN RYOKAN YUEN SHINJUKU</td>\n      <td>4.5</td>\n      <td>86.0</td>\n      <td>19.0</td>\n      <td>['Free High Speed Internet (WiFi)', 'Wifi', 'H...</td>\n      <td>['English', 'Chinese', 'Japanese', 'Korean']</td>\n      <td>[]</td>\n      <td>7662.0</td>\n      <td>ZenHotels.com</td>\n      <td>817.0</td>\n      <td>79.0</td>\n      <td>98.0</td>\n      <td>5-3-18 Shinjuku, Shinjuku 160-0022 Tokyo Prefe...</td>\n      <td>['Location', 'Cleanliness', 'Service', 'Value']</td>\n      <td>Tokyo</td>\n      <td>{'Healthy': 2, 'Asian': 2, 'Japanese': 4, 'Gri...</td>\n      <td>['Sakuratei', 'Kakatojo', 'Encounter by Unplan...</td>\n      <td>NaN</td>\n      <td>NaN</td>\n    </tr>\n    <tr>\n      <th>3</th>\n      <td>Rembrandt Style Tokyo Nishikasai</td>\n      <td>4.0</td>\n      <td>461.0</td>\n      <td>4.0</td>\n      <td>['Paid private parking on-site', 'Free High Sp...</td>\n      <td>['English', 'Chinese', 'Japanese', 'Nepali']</td>\n      <td>['Modern', 'Business']</td>\n      <td>NaN</td>\n      <td>NaN</td>\n      <td>305.0</td>\n      <td>4.0</td>\n      <td>87.0</td>\n      <td>6-17-9 Nishikasai, Edogawa 134-0088 Tokyo Pref...</td>\n      <td>['Location', 'Cleanliness', 'Service', 'Value']</td>\n      <td>Tokyo</td>\n      <td>{'Pub': 1, 'Kyoto cuisine': 1}</td>\n      <td>['Fontaine', 'Cafe Dining Palm Tree', 'Uttori'...</td>\n      <td>NaN</td>\n      <td>NaN</td>\n    </tr>\n    <tr>\n      <th>4</th>\n      <td>HOTEL UNIZO Ginza-nanachome</td>\n      <td>3.5</td>\n      <td>86.0</td>\n      <td>27.0</td>\n      <td>['Free High Speed Internet (WiFi)', 'Hot bath'...</td>\n      <td>['English', 'Japanese']</td>\n      <td>['Business', 'Centrally Located']</td>\n      <td>NaN</td>\n      <td>NaN</td>\n      <td>3098.0</td>\n      <td>375.0</td>\n      <td>100.0</td>\n      <td>7-10-9, Ginza, Chuo 104-0061 Tokyo Prefecture</td>\n      <td>['Location', 'Cleanliness', 'Service', 'Value']</td>\n      <td>Tokyo</td>\n      <td>{'Central-Italian': 1, 'Italian': 1, 'Tuscan':...</td>\n      <td>['La Gioconda', 'Tempura Yasuda', \"Ginza M's C...</td>\n      <td>NaN</td>\n      <td>NaN</td>\n    </tr>\n  </tbody>\n</table>\n</div>"
     },
     "execution_count": 49,
     "metadata": {},
     "output_type": "execute_result"
    }
   ],
   "source": [
    "new_df = pd.read_csv('./data/data.csv')\n",
    "new_df.head()"
   ],
   "metadata": {
    "collapsed": false,
    "pycharm": {
     "name": "#%%\n"
    }
   }
  },
  {
   "cell_type": "code",
   "execution_count": 61,
   "outputs": [],
   "source": [
    "str(new_df.amenities[0])"
   ],
   "metadata": {
    "collapsed": false,
    "pycharm": {
     "name": "#%%\n"
    }
   }
  },
  {
   "cell_type": "code",
   "execution_count": 55,
   "outputs": [
    {
     "data": {
      "text/plain": "'\"'"
     },
     "execution_count": 55,
     "metadata": {},
     "output_type": "execute_result"
    }
   ],
   "source": [],
   "metadata": {
    "collapsed": false,
    "pycharm": {
     "name": "#%%\n"
    }
   }
  }
 ],
 "metadata": {
  "kernelspec": {
   "display_name": "Python 3",
   "language": "python",
   "name": "python3"
  },
  "language_info": {
   "codemirror_mode": {
    "name": "ipython",
    "version": 3
   },
   "file_extension": ".py",
   "mimetype": "text/x-python",
   "name": "python",
   "nbconvert_exporter": "python",
   "pygments_lexer": "ipython3",
   "version": "3.8.3"
  }
 },
 "nbformat": 4,
 "nbformat_minor": 4
}