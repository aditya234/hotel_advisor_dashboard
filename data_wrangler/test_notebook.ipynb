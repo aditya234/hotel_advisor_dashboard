{
 "cells": [
  {
   "cell_type": "code",
   "execution_count": 1,
   "metadata": {
    "collapsed": true
   },
   "outputs": [],
   "source": [
    "from helpers.data_manager import DashboardDataManager"
   ]
  },
  {
   "cell_type": "code",
   "execution_count": 2,
   "outputs": [],
   "source": [
    "data_manager = DashboardDataManager()"
   ],
   "metadata": {
    "collapsed": false,
    "pycharm": {
     "name": "#%%\n"
    }
   }
  },
  {
   "cell_type": "code",
   "execution_count": 4,
   "outputs": [
    {
     "data": {
      "text/plain": "             lat        lon\n0     139.793260  35.634650\n1     139.702400  35.728070\n2     139.703520  35.693550\n3     139.883330  35.700000\n4      13.137206  49.063738\n...          ...        ...\n4283  -73.992704  40.756537\n4284  -74.011817  40.701309\n4285  -74.006329  40.707226\n4286  -73.985467  40.745435\n4287  -74.006329  40.707226\n\n[3777 rows x 2 columns]",
      "text/html": "<div>\n<style scoped>\n    .dataframe tbody tr th:only-of-type {\n        vertical-align: middle;\n    }\n\n    .dataframe tbody tr th {\n        vertical-align: top;\n    }\n\n    .dataframe thead th {\n        text-align: right;\n    }\n</style>\n<table border=\"1\" class=\"dataframe\">\n  <thead>\n    <tr style=\"text-align: right;\">\n      <th></th>\n      <th>lat</th>\n      <th>lon</th>\n    </tr>\n  </thead>\n  <tbody>\n    <tr>\n      <th>0</th>\n      <td>139.793260</td>\n      <td>35.634650</td>\n    </tr>\n    <tr>\n      <th>1</th>\n      <td>139.702400</td>\n      <td>35.728070</td>\n    </tr>\n    <tr>\n      <th>2</th>\n      <td>139.703520</td>\n      <td>35.693550</td>\n    </tr>\n    <tr>\n      <th>3</th>\n      <td>139.883330</td>\n      <td>35.700000</td>\n    </tr>\n    <tr>\n      <th>4</th>\n      <td>13.137206</td>\n      <td>49.063738</td>\n    </tr>\n    <tr>\n      <th>...</th>\n      <td>...</td>\n      <td>...</td>\n    </tr>\n    <tr>\n      <th>4283</th>\n      <td>-73.992704</td>\n      <td>40.756537</td>\n    </tr>\n    <tr>\n      <th>4284</th>\n      <td>-74.011817</td>\n      <td>40.701309</td>\n    </tr>\n    <tr>\n      <th>4285</th>\n      <td>-74.006329</td>\n      <td>40.707226</td>\n    </tr>\n    <tr>\n      <th>4286</th>\n      <td>-73.985467</td>\n      <td>40.745435</td>\n    </tr>\n    <tr>\n      <th>4287</th>\n      <td>-74.006329</td>\n      <td>40.707226</td>\n    </tr>\n  </tbody>\n</table>\n<p>3777 rows × 2 columns</p>\n</div>"
     },
     "execution_count": 4,
     "metadata": {},
     "output_type": "execute_result"
    }
   ],
   "source": [
    "data_manager.map_df"
   ],
   "metadata": {
    "collapsed": false,
    "pycharm": {
     "name": "#%%\n"
    }
   }
  },
  {
   "cell_type": "code",
   "execution_count": 3,
   "outputs": [
    {
     "data": {
      "text/plain": "                                             hotel_name  rating  review_count  \\\n0                       Daiwa Roynet Hotel Tokyo Ariake     4.0          81.0   \n1                    Hotel Metropolitan Tokyo Ikebukuro     4.0           NaN   \n2                            ONSEN RYOKAN YUEN SHINJUKU     4.5          86.0   \n3                      Rembrandt Style Tokyo Nishikasai     4.0         461.0   \n4                           HOTEL UNIZO Ginza-nanachome     3.5          86.0   \n...                                                 ...     ...           ...   \n4283                                   TBA Times Square     1.5           8.0   \n4284                             Casa Cipriani New York     5.0           1.0   \n4285  Courtyard New York Downtown Manhattan / Financ...     2.5           7.0   \n4286            Best Western Premier Empire State Hotel     4.5           6.0   \n4287  Residence Inn New York Downtown Manhattan/fina...     3.0           4.0   \n\n      hotel_rank                                          amenities  \\\n0            4.0  [Free High Speed Internet (WiFi), Wifi, Restau...   \n1            4.0  [Paid private parking on-site, Free High Speed...   \n2           19.0  [Free High Speed Internet (WiFi), Wifi, Hot ba...   \n3            4.0  [Paid private parking on-site, Free High Speed...   \n4           27.0  [Free High Speed Internet (WiFi), Hot bath, Co...   \n...          ...                                                ...   \n4283       175.0  [Free High Speed Internet (WiFi), Wifi, Fitnes...   \n4284       444.0  [Valet parking, Free internet, Rooftop pool, F...   \n4285       479.0  [Paid public parking nearby, Free High Speed I...   \n4286        43.0                                                 []   \n4287       472.0  [Valet parking, Free High Speed Internet (WiFi...   \n\n                                 languages                    hotel_class  \\\n0                      [English, Japanese]             [Trendy, Business]   \n1             [English, Chinese, Japanese]                [Family, Quiet]   \n2     [English, Chinese, Japanese, Korean]                             []   \n3     [English, Chinese, Japanese, Nepali]             [Modern, Business]   \n4                      [English, Japanese]  [Business, Centrally Located]   \n...                                    ...                            ...   \n4283                                [None]                             []   \n4284                                [None]                             []   \n4285           [English, Spanish, Chinese]                             []   \n4286                                [None]                             []   \n4287           [English, Spanish, Chinese]                             []   \n\n        price best_price_source  restraunts_nearby  attractions_nearby  \\\n0         NaN              None               94.0                 6.0   \n1         NaN              None             1705.0                82.0   \n2      7662.0     ZenHotels.com              817.0                79.0   \n3         NaN              None              305.0                 4.0   \n4         NaN              None             3098.0               375.0   \n...       ...               ...                ...                 ...   \n4283   8643.0       Booking.com              469.0               151.0   \n4284  59609.0         Agoda.com              142.0                39.0   \n4285   8471.0           Expedia              401.0                66.0   \n4286   8555.0           Expedia              544.0               103.0   \n4287   8732.0        Hotels.com              400.0                66.0   \n\n      good_for_walkers_out_of_100  \\\n0                            94.0   \n1                            98.0   \n2                            98.0   \n3                            87.0   \n4                           100.0   \n...                           ...   \n4283                        100.0   \n4284                        100.0   \n4285                        100.0   \n4286                        100.0   \n4287                        100.0   \n\n                                          lat_long_link  \\\n0         3-7-3, Ariake, Koto 135-0063 Tokyo Prefecture   \n1     1-6-1 Nishiikebukuro, Toshima 171-8505 Tokyo P...   \n2     5-3-18 Shinjuku, Shinjuku 160-0022 Tokyo Prefe...   \n3     6-17-9 Nishikasai, Edogawa 134-0088 Tokyo Pref...   \n4         7-10-9, Ginza, Chuo 104-0061 Tokyo Prefecture   \n...                                                 ...   \n4283        340 W 40th St, New York City, NY 10018-1404   \n4284          10 South St, New York City, NY 10004-1921   \n4285         215 Pearl St, New York City, NY 10038-4916   \n4286         16 E 30th St, New York City, NY 10016-7002   \n4287         215 Pearl St, New York City, NY 10038-4916   \n\n                 best_features_as_per_reviews      city         lat  \\\n0     [Location, Cleanliness, Service, Value]     Tokyo  139.793260   \n1     [Location, Cleanliness, Service, Value]     Tokyo  139.702400   \n2     [Location, Cleanliness, Service, Value]     Tokyo  139.703520   \n3     [Location, Cleanliness, Service, Value]     Tokyo  139.883330   \n4     [Location, Cleanliness, Service, Value]     Tokyo   13.137206   \n...                                       ...       ...         ...   \n4283               [Location, Service, Value]  New York  -73.992704   \n4284         [Location, Cleanliness, Service]  New York  -74.011817   \n4285  [Location, Cleanliness, Service, Value]  New York  -74.006329   \n4286  [Location, Cleanliness, Service, Value]  New York  -73.985467   \n4287                                [Service]  New York  -74.006329   \n\n            lon                                           cuisines  \\\n0     35.634650          {'Dining bars': 1, 'Beer restaurants': 1}   \n1     35.728070  {'Cafe': 1, 'International': 1, 'BarPub': 1, '...   \n2     35.693550  {'Healthy': 2, 'Asian': 2, 'Japanese': 4, 'Gri...   \n3     35.700000                     {'Pub': 1, 'Kyoto cuisine': 1}   \n4     49.063738  {'Central-Italian': 1, 'Italian': 1, 'Tuscan':...   \n...         ...                                                ...   \n4283  40.756537                                                 {}   \n4284  40.701309                                                 {}   \n4285  40.707226                                                 {}   \n4286  40.745435                                                 {}   \n4287  40.707226                                                 {}   \n\n                                       restaurant_names  \n0     [Akarie, The Roof, Hibiya Matsumotoro Tokyo Bi...  \n1     [Sakura Cafe & Restaurant Ikebukuro, Cross Din...  \n2     [Sakuratei, Kakatojo, Encounter by Unplan, Pha...  \n3     [Fontaine, Cafe Dining Palm Tree, Uttori, Koso...  \n4     [La Gioconda, Tempura Yasuda, Ginza M's Cafe, ...  \n...                                                 ...  \n4283                                                 []  \n4284                                                 []  \n4285                                                 []  \n4286                                                 []  \n4287                                                 []  \n\n[4288 rows x 19 columns]",
      "text/html": "<div>\n<style scoped>\n    .dataframe tbody tr th:only-of-type {\n        vertical-align: middle;\n    }\n\n    .dataframe tbody tr th {\n        vertical-align: top;\n    }\n\n    .dataframe thead th {\n        text-align: right;\n    }\n</style>\n<table border=\"1\" class=\"dataframe\">\n  <thead>\n    <tr style=\"text-align: right;\">\n      <th></th>\n      <th>hotel_name</th>\n      <th>rating</th>\n      <th>review_count</th>\n      <th>hotel_rank</th>\n      <th>amenities</th>\n      <th>languages</th>\n      <th>hotel_class</th>\n      <th>price</th>\n      <th>best_price_source</th>\n      <th>restraunts_nearby</th>\n      <th>attractions_nearby</th>\n      <th>good_for_walkers_out_of_100</th>\n      <th>lat_long_link</th>\n      <th>best_features_as_per_reviews</th>\n      <th>city</th>\n      <th>lat</th>\n      <th>lon</th>\n      <th>cuisines</th>\n      <th>restaurant_names</th>\n    </tr>\n  </thead>\n  <tbody>\n    <tr>\n      <th>0</th>\n      <td>Daiwa Roynet Hotel Tokyo Ariake</td>\n      <td>4.0</td>\n      <td>81.0</td>\n      <td>4.0</td>\n      <td>[Free High Speed Internet (WiFi), Wifi, Restau...</td>\n      <td>[English, Japanese]</td>\n      <td>[Trendy, Business]</td>\n      <td>NaN</td>\n      <td>None</td>\n      <td>94.0</td>\n      <td>6.0</td>\n      <td>94.0</td>\n      <td>3-7-3, Ariake, Koto 135-0063 Tokyo Prefecture</td>\n      <td>[Location, Cleanliness, Service, Value]</td>\n      <td>Tokyo</td>\n      <td>139.793260</td>\n      <td>35.634650</td>\n      <td>{'Dining bars': 1, 'Beer restaurants': 1}</td>\n      <td>[Akarie, The Roof, Hibiya Matsumotoro Tokyo Bi...</td>\n    </tr>\n    <tr>\n      <th>1</th>\n      <td>Hotel Metropolitan Tokyo Ikebukuro</td>\n      <td>4.0</td>\n      <td>NaN</td>\n      <td>4.0</td>\n      <td>[Paid private parking on-site, Free High Speed...</td>\n      <td>[English, Chinese, Japanese]</td>\n      <td>[Family, Quiet]</td>\n      <td>NaN</td>\n      <td>None</td>\n      <td>1705.0</td>\n      <td>82.0</td>\n      <td>98.0</td>\n      <td>1-6-1 Nishiikebukuro, Toshima 171-8505 Tokyo P...</td>\n      <td>[Location, Cleanliness, Service, Value]</td>\n      <td>Tokyo</td>\n      <td>139.702400</td>\n      <td>35.728070</td>\n      <td>{'Cafe': 1, 'International': 1, 'BarPub': 1, '...</td>\n      <td>[Sakura Cafe &amp; Restaurant Ikebukuro, Cross Din...</td>\n    </tr>\n    <tr>\n      <th>2</th>\n      <td>ONSEN RYOKAN YUEN SHINJUKU</td>\n      <td>4.5</td>\n      <td>86.0</td>\n      <td>19.0</td>\n      <td>[Free High Speed Internet (WiFi), Wifi, Hot ba...</td>\n      <td>[English, Chinese, Japanese, Korean]</td>\n      <td>[]</td>\n      <td>7662.0</td>\n      <td>ZenHotels.com</td>\n      <td>817.0</td>\n      <td>79.0</td>\n      <td>98.0</td>\n      <td>5-3-18 Shinjuku, Shinjuku 160-0022 Tokyo Prefe...</td>\n      <td>[Location, Cleanliness, Service, Value]</td>\n      <td>Tokyo</td>\n      <td>139.703520</td>\n      <td>35.693550</td>\n      <td>{'Healthy': 2, 'Asian': 2, 'Japanese': 4, 'Gri...</td>\n      <td>[Sakuratei, Kakatojo, Encounter by Unplan, Pha...</td>\n    </tr>\n    <tr>\n      <th>3</th>\n      <td>Rembrandt Style Tokyo Nishikasai</td>\n      <td>4.0</td>\n      <td>461.0</td>\n      <td>4.0</td>\n      <td>[Paid private parking on-site, Free High Speed...</td>\n      <td>[English, Chinese, Japanese, Nepali]</td>\n      <td>[Modern, Business]</td>\n      <td>NaN</td>\n      <td>None</td>\n      <td>305.0</td>\n      <td>4.0</td>\n      <td>87.0</td>\n      <td>6-17-9 Nishikasai, Edogawa 134-0088 Tokyo Pref...</td>\n      <td>[Location, Cleanliness, Service, Value]</td>\n      <td>Tokyo</td>\n      <td>139.883330</td>\n      <td>35.700000</td>\n      <td>{'Pub': 1, 'Kyoto cuisine': 1}</td>\n      <td>[Fontaine, Cafe Dining Palm Tree, Uttori, Koso...</td>\n    </tr>\n    <tr>\n      <th>4</th>\n      <td>HOTEL UNIZO Ginza-nanachome</td>\n      <td>3.5</td>\n      <td>86.0</td>\n      <td>27.0</td>\n      <td>[Free High Speed Internet (WiFi), Hot bath, Co...</td>\n      <td>[English, Japanese]</td>\n      <td>[Business, Centrally Located]</td>\n      <td>NaN</td>\n      <td>None</td>\n      <td>3098.0</td>\n      <td>375.0</td>\n      <td>100.0</td>\n      <td>7-10-9, Ginza, Chuo 104-0061 Tokyo Prefecture</td>\n      <td>[Location, Cleanliness, Service, Value]</td>\n      <td>Tokyo</td>\n      <td>13.137206</td>\n      <td>49.063738</td>\n      <td>{'Central-Italian': 1, 'Italian': 1, 'Tuscan':...</td>\n      <td>[La Gioconda, Tempura Yasuda, Ginza M's Cafe, ...</td>\n    </tr>\n    <tr>\n      <th>...</th>\n      <td>...</td>\n      <td>...</td>\n      <td>...</td>\n      <td>...</td>\n      <td>...</td>\n      <td>...</td>\n      <td>...</td>\n      <td>...</td>\n      <td>...</td>\n      <td>...</td>\n      <td>...</td>\n      <td>...</td>\n      <td>...</td>\n      <td>...</td>\n      <td>...</td>\n      <td>...</td>\n      <td>...</td>\n      <td>...</td>\n      <td>...</td>\n    </tr>\n    <tr>\n      <th>4283</th>\n      <td>TBA Times Square</td>\n      <td>1.5</td>\n      <td>8.0</td>\n      <td>175.0</td>\n      <td>[Free High Speed Internet (WiFi), Wifi, Fitnes...</td>\n      <td>[None]</td>\n      <td>[]</td>\n      <td>8643.0</td>\n      <td>Booking.com</td>\n      <td>469.0</td>\n      <td>151.0</td>\n      <td>100.0</td>\n      <td>340 W 40th St, New York City, NY 10018-1404</td>\n      <td>[Location, Service, Value]</td>\n      <td>New York</td>\n      <td>-73.992704</td>\n      <td>40.756537</td>\n      <td>{}</td>\n      <td>[]</td>\n    </tr>\n    <tr>\n      <th>4284</th>\n      <td>Casa Cipriani New York</td>\n      <td>5.0</td>\n      <td>1.0</td>\n      <td>444.0</td>\n      <td>[Valet parking, Free internet, Rooftop pool, F...</td>\n      <td>[None]</td>\n      <td>[]</td>\n      <td>59609.0</td>\n      <td>Agoda.com</td>\n      <td>142.0</td>\n      <td>39.0</td>\n      <td>100.0</td>\n      <td>10 South St, New York City, NY 10004-1921</td>\n      <td>[Location, Cleanliness, Service]</td>\n      <td>New York</td>\n      <td>-74.011817</td>\n      <td>40.701309</td>\n      <td>{}</td>\n      <td>[]</td>\n    </tr>\n    <tr>\n      <th>4285</th>\n      <td>Courtyard New York Downtown Manhattan / Financ...</td>\n      <td>2.5</td>\n      <td>7.0</td>\n      <td>479.0</td>\n      <td>[Paid public parking nearby, Free High Speed I...</td>\n      <td>[English, Spanish, Chinese]</td>\n      <td>[]</td>\n      <td>8471.0</td>\n      <td>Expedia</td>\n      <td>401.0</td>\n      <td>66.0</td>\n      <td>100.0</td>\n      <td>215 Pearl St, New York City, NY 10038-4916</td>\n      <td>[Location, Cleanliness, Service, Value]</td>\n      <td>New York</td>\n      <td>-74.006329</td>\n      <td>40.707226</td>\n      <td>{}</td>\n      <td>[]</td>\n    </tr>\n    <tr>\n      <th>4286</th>\n      <td>Best Western Premier Empire State Hotel</td>\n      <td>4.5</td>\n      <td>6.0</td>\n      <td>43.0</td>\n      <td>[]</td>\n      <td>[None]</td>\n      <td>[]</td>\n      <td>8555.0</td>\n      <td>Expedia</td>\n      <td>544.0</td>\n      <td>103.0</td>\n      <td>100.0</td>\n      <td>16 E 30th St, New York City, NY 10016-7002</td>\n      <td>[Location, Cleanliness, Service, Value]</td>\n      <td>New York</td>\n      <td>-73.985467</td>\n      <td>40.745435</td>\n      <td>{}</td>\n      <td>[]</td>\n    </tr>\n    <tr>\n      <th>4287</th>\n      <td>Residence Inn New York Downtown Manhattan/fina...</td>\n      <td>3.0</td>\n      <td>4.0</td>\n      <td>472.0</td>\n      <td>[Valet parking, Free High Speed Internet (WiFi...</td>\n      <td>[English, Spanish, Chinese]</td>\n      <td>[]</td>\n      <td>8732.0</td>\n      <td>Hotels.com</td>\n      <td>400.0</td>\n      <td>66.0</td>\n      <td>100.0</td>\n      <td>215 Pearl St, New York City, NY 10038-4916</td>\n      <td>[Service]</td>\n      <td>New York</td>\n      <td>-74.006329</td>\n      <td>40.707226</td>\n      <td>{}</td>\n      <td>[]</td>\n    </tr>\n  </tbody>\n</table>\n<p>4288 rows × 19 columns</p>\n</div>"
     },
     "execution_count": 3,
     "metadata": {},
     "output_type": "execute_result"
    }
   ],
   "source": [
    "data_manager.data"
   ],
   "metadata": {
    "collapsed": false,
    "pycharm": {
     "name": "#%%\n"
    }
   }
  },
  {
   "cell_type": "code",
   "execution_count": null,
   "outputs": [],
   "source": [],
   "metadata": {
    "collapsed": false,
    "pycharm": {
     "name": "#%%\n"
    }
   }
  }
 ],
 "metadata": {
  "kernelspec": {
   "display_name": "Python 3",
   "language": "python",
   "name": "python3"
  },
  "language_info": {
   "codemirror_mode": {
    "name": "ipython",
    "version": 2
   },
   "file_extension": ".py",
   "mimetype": "text/x-python",
   "name": "python",
   "nbconvert_exporter": "python",
   "pygments_lexer": "ipython2",
   "version": "2.7.6"
  }
 },
 "nbformat": 4,
 "nbformat_minor": 0
}