{
 "cells": [
  {
   "cell_type": "code",
   "execution_count": 33,
   "metadata": {},
   "outputs": [],
   "source": [
    "import pandas as pd\n",
    "import numpy as np\n",
    "import matplotlib.pyplot as plt\n",
    "import json\n",
    "import math\n",
    "from hotel import Hotel, Restaurant, HotelList"
   ]
  },
  {
   "cell_type": "code",
   "execution_count": 34,
   "metadata": {},
   "outputs": [],
   "source": [
    "f1 = open('./data/tokyo_hotels.json', \"r\")\n",
    "data1 = json.loads(f1.read())\n",
    "f1.close()\n",
    "\n",
    "f2 = open('./data/london_hotels.json', \"r\")\n",
    "data2 = json.loads(f2.read())\n",
    "f2.close()\n",
    "\n",
    "f3 = open('./data/singapore_hotels.json', \"r\")\n",
    "data3 = json.loads(f3.read())\n",
    "f3.close()"
   ]
  },
  {
   "cell_type": "code",
   "execution_count": 35,
   "outputs": [],
   "source": [
    "df = None\n",
    "\n",
    "\n",
    "def add_city(json_data, city):\n",
    "    global df\n",
    "    df_new = pd.json_normalize(json_data)\n",
    "    df_new['city'] = city\n",
    "    if df is None:\n",
    "        df = df_new\n",
    "    else:\n",
    "        df = df.append(df_new, ignore_index=True)\n",
    "    return df"
   ],
   "metadata": {
    "collapsed": false,
    "pycharm": {
     "name": "#%%\n"
    }
   }
  },
  {
   "cell_type": "code",
   "execution_count": 36,
   "outputs": [
    {
     "data": {
      "text/plain": "                             hotel_name rating review_count  \\\n0                 Hotel Mystays Kameido    3.5  267 reviews   \n1                Zenriren Yoyogino Yado    4.0   28 reviews   \n2     Tokyo Bay Ariake Washington Hotel    3.5  682 reviews   \n3                    THE BLOSSOM HIBIYA    4.0   31 reviews   \n4                Nippon Seinenkan Hotel    4.5  169 reviews   \n...                                 ...    ...          ...   \n4009     Wink Capsule Hostel @ Downtown    5.0    5 reviews   \n4010            Snooze Inn Dickson Road    3.0    7 reviews   \n4011     La Mode Sophia Hotel Singapore    3.0    3 reviews   \n4012                 Hotel NuVe Stellar    3.0     1 review   \n4013             Gallop Hill Top Resort    4.0    3 reviews   \n\n                                       hotel_rank  \\\n0                       #1 of 3 hotels in Kameido   \n1                   #1 of 3 B&Bs / Inns in Yoyogi   \n2                        #3 of 6 hotels in Ariake   \n3                    #8 of 19 hotels in Shimbashi   \n4                    #4 of 107 hotels in Shinjuku   \n...                                           ...   \n4009  #132 of 372 Speciality lodging in Singapore   \n4010  #227 of 372 Speciality lodging in Singapore   \n4011           #33 of 95 B&Bs / Inns in Singapore   \n4012              #281 of 369 hotels in Singapore   \n4013           #22 of 95 B&Bs / Inns in Singapore   \n\n                                              amenities  \\\n0     [Parking, Free High Speed Internet (WiFi), Hot...   \n1                       [Hot bath, Shuttle bus service]   \n2     [Paid public parking on-site, Free High Speed ...   \n3     [Free High Speed Internet (WiFi), Fitness Cent...   \n4     [Paid public parking on-site, Free High Speed ...   \n...                                                 ...   \n4009  [Electric vehicle charging station, Street par...   \n4010  [Free High Speed Internet (WiFi), Free breakfa...   \n4011  [Free public parking nearby, Free High Speed I...   \n4012  [Free parking, Parking, Free High Speed Intern...   \n4013                                                 []   \n\n                                languages  \\\n0                       English, Japanese   \n1                                Japanese   \n2                       English, Japanese   \n3      English, Chinese, Japanese, Korean   \n4                       English, Japanese   \n...                                   ...   \n4009                                 None   \n4010                                 None   \n4011  English, Chinese, Indonesian, Malay   \n4012    English, Chinese, Filipino, Malay   \n4013                                 None   \n\n                                                reviews       hotel_class  \\\n0     [Share,  , Worst hotel never had such a terrib...          [Budget]   \n1     [Share,  , This hotel is rather hard to find. ...                []   \n2     [Share,  , I stayed at the Tokyo Bay Ariake Wa...          [Family]   \n3     [Share,  , Cons: No microwave in rooms even at...                []   \n4     [Share,  , definitely recommend this hotel. gr...  [Family, Modern]   \n...                                                 ...               ...   \n4009  [Share,  , free wifi, Chinatown, Chinatown, co...                []   \n4010  [Share,  , Hi everyone, this is my experience....                []   \n4011  [Share,  , free parking, free wifi, near the a...          [Budget]   \n4012  [Share,  , free wifi was included, Little Indi...                []   \n4013  [Share,  , free WIFI, orchard road, fast & fre...                []   \n\n     price best_price_source restraunts_nearby attractions_nearby  \\\n0     None              None               324                  9   \n1     None              None               490                 24   \n2     None              None                86                  6   \n3     7282     ZenHotels.com              3429                209   \n4     None              None               222                 33   \n...    ...               ...               ...                ...   \n4009  None              None               840                 96   \n4010  None              None               300                 48   \n4011  None              None                58                  5   \n4012  None              None               324                 23   \n4013  None              None                60                  9   \n\n     good_for_walkers_out_of_100                              top_cuisines  \\\n0                             82                 [Japanese, Italian, Cafe]   \n1                            100       [Japanese, Japanese, Japanese, Bar]   \n2                             96  [Seafood, Cafe, Contemporary, Fast food]   \n3                            100            [Barbecue, Bar, Pub, Japanese]   \n4                             96     [American, French, Japanese, Italian]   \n...                          ...                                       ...   \n4009                         100    [Steakhouse, French, French, Japanese]   \n4010                         100             [Indian, Asian, Cafe, Indian]   \n4011                          50      [French, Italian, Cafe, Singaporean]   \n4012                         100        [Indian, Seafood, Indian, Chinese]   \n4013                          67  [American, Steakhouse, Seafood, Italian]   \n\n                                            restaurants       city  \n0     [{'name': 'Yozen', 'cusines': ['', 'Mongolian'...      Tokyo  \n1     [{'name': 'Sakuratei', 'cusines': ['', 'Japane...      Tokyo  \n2     [{'name': 'Georgetown', 'cusines': [], 'review...      Tokyo  \n3     [{'name': 'Masaya Shimbashi Store', 'cusines':...      Tokyo  \n4     [{'name': 'Goo ITALIANO', 'cusines': [], 'revi...      Tokyo  \n...                                                 ...        ...  \n4009                                                NaN  Singapore  \n4010                                                NaN  Singapore  \n4011                                                NaN  Singapore  \n4012                                                NaN  Singapore  \n4013                                                NaN  Singapore  \n\n[4014 rows x 16 columns]",
      "text/html": "<div>\n<style scoped>\n    .dataframe tbody tr th:only-of-type {\n        vertical-align: middle;\n    }\n\n    .dataframe tbody tr th {\n        vertical-align: top;\n    }\n\n    .dataframe thead th {\n        text-align: right;\n    }\n</style>\n<table border=\"1\" class=\"dataframe\">\n  <thead>\n    <tr style=\"text-align: right;\">\n      <th></th>\n      <th>hotel_name</th>\n      <th>rating</th>\n      <th>review_count</th>\n      <th>hotel_rank</th>\n      <th>amenities</th>\n      <th>languages</th>\n      <th>reviews</th>\n      <th>hotel_class</th>\n      <th>price</th>\n      <th>best_price_source</th>\n      <th>restraunts_nearby</th>\n      <th>attractions_nearby</th>\n      <th>good_for_walkers_out_of_100</th>\n      <th>top_cuisines</th>\n      <th>restaurants</th>\n      <th>city</th>\n    </tr>\n  </thead>\n  <tbody>\n    <tr>\n      <th>0</th>\n      <td>Hotel Mystays Kameido</td>\n      <td>3.5</td>\n      <td>267 reviews</td>\n      <td>#1 of 3 hotels in Kameido</td>\n      <td>[Parking, Free High Speed Internet (WiFi), Hot...</td>\n      <td>English, Japanese</td>\n      <td>[Share,  , Worst hotel never had such a terrib...</td>\n      <td>[Budget]</td>\n      <td>None</td>\n      <td>None</td>\n      <td>324</td>\n      <td>9</td>\n      <td>82</td>\n      <td>[Japanese, Italian, Cafe]</td>\n      <td>[{'name': 'Yozen', 'cusines': ['', 'Mongolian'...</td>\n      <td>Tokyo</td>\n    </tr>\n    <tr>\n      <th>1</th>\n      <td>Zenriren Yoyogino Yado</td>\n      <td>4.0</td>\n      <td>28 reviews</td>\n      <td>#1 of 3 B&amp;Bs / Inns in Yoyogi</td>\n      <td>[Hot bath, Shuttle bus service]</td>\n      <td>Japanese</td>\n      <td>[Share,  , This hotel is rather hard to find. ...</td>\n      <td>[]</td>\n      <td>None</td>\n      <td>None</td>\n      <td>490</td>\n      <td>24</td>\n      <td>100</td>\n      <td>[Japanese, Japanese, Japanese, Bar]</td>\n      <td>[{'name': 'Sakuratei', 'cusines': ['', 'Japane...</td>\n      <td>Tokyo</td>\n    </tr>\n    <tr>\n      <th>2</th>\n      <td>Tokyo Bay Ariake Washington Hotel</td>\n      <td>3.5</td>\n      <td>682 reviews</td>\n      <td>#3 of 6 hotels in Ariake</td>\n      <td>[Paid public parking on-site, Free High Speed ...</td>\n      <td>English, Japanese</td>\n      <td>[Share,  , I stayed at the Tokyo Bay Ariake Wa...</td>\n      <td>[Family]</td>\n      <td>None</td>\n      <td>None</td>\n      <td>86</td>\n      <td>6</td>\n      <td>96</td>\n      <td>[Seafood, Cafe, Contemporary, Fast food]</td>\n      <td>[{'name': 'Georgetown', 'cusines': [], 'review...</td>\n      <td>Tokyo</td>\n    </tr>\n    <tr>\n      <th>3</th>\n      <td>THE BLOSSOM HIBIYA</td>\n      <td>4.0</td>\n      <td>31 reviews</td>\n      <td>#8 of 19 hotels in Shimbashi</td>\n      <td>[Free High Speed Internet (WiFi), Fitness Cent...</td>\n      <td>English, Chinese, Japanese, Korean</td>\n      <td>[Share,  , Cons: No microwave in rooms even at...</td>\n      <td>[]</td>\n      <td>7282</td>\n      <td>ZenHotels.com</td>\n      <td>3429</td>\n      <td>209</td>\n      <td>100</td>\n      <td>[Barbecue, Bar, Pub, Japanese]</td>\n      <td>[{'name': 'Masaya Shimbashi Store', 'cusines':...</td>\n      <td>Tokyo</td>\n    </tr>\n    <tr>\n      <th>4</th>\n      <td>Nippon Seinenkan Hotel</td>\n      <td>4.5</td>\n      <td>169 reviews</td>\n      <td>#4 of 107 hotels in Shinjuku</td>\n      <td>[Paid public parking on-site, Free High Speed ...</td>\n      <td>English, Japanese</td>\n      <td>[Share,  , definitely recommend this hotel. gr...</td>\n      <td>[Family, Modern]</td>\n      <td>None</td>\n      <td>None</td>\n      <td>222</td>\n      <td>33</td>\n      <td>96</td>\n      <td>[American, French, Japanese, Italian]</td>\n      <td>[{'name': 'Goo ITALIANO', 'cusines': [], 'revi...</td>\n      <td>Tokyo</td>\n    </tr>\n    <tr>\n      <th>...</th>\n      <td>...</td>\n      <td>...</td>\n      <td>...</td>\n      <td>...</td>\n      <td>...</td>\n      <td>...</td>\n      <td>...</td>\n      <td>...</td>\n      <td>...</td>\n      <td>...</td>\n      <td>...</td>\n      <td>...</td>\n      <td>...</td>\n      <td>...</td>\n      <td>...</td>\n      <td>...</td>\n    </tr>\n    <tr>\n      <th>4009</th>\n      <td>Wink Capsule Hostel @ Downtown</td>\n      <td>5.0</td>\n      <td>5 reviews</td>\n      <td>#132 of 372 Speciality lodging in Singapore</td>\n      <td>[Electric vehicle charging station, Street par...</td>\n      <td>None</td>\n      <td>[Share,  , free wifi, Chinatown, Chinatown, co...</td>\n      <td>[]</td>\n      <td>None</td>\n      <td>None</td>\n      <td>840</td>\n      <td>96</td>\n      <td>100</td>\n      <td>[Steakhouse, French, French, Japanese]</td>\n      <td>NaN</td>\n      <td>Singapore</td>\n    </tr>\n    <tr>\n      <th>4010</th>\n      <td>Snooze Inn Dickson Road</td>\n      <td>3.0</td>\n      <td>7 reviews</td>\n      <td>#227 of 372 Speciality lodging in Singapore</td>\n      <td>[Free High Speed Internet (WiFi), Free breakfa...</td>\n      <td>None</td>\n      <td>[Share,  , Hi everyone, this is my experience....</td>\n      <td>[]</td>\n      <td>None</td>\n      <td>None</td>\n      <td>300</td>\n      <td>48</td>\n      <td>100</td>\n      <td>[Indian, Asian, Cafe, Indian]</td>\n      <td>NaN</td>\n      <td>Singapore</td>\n    </tr>\n    <tr>\n      <th>4011</th>\n      <td>La Mode Sophia Hotel Singapore</td>\n      <td>3.0</td>\n      <td>3 reviews</td>\n      <td>#33 of 95 B&amp;Bs / Inns in Singapore</td>\n      <td>[Free public parking nearby, Free High Speed I...</td>\n      <td>English, Chinese, Indonesian, Malay</td>\n      <td>[Share,  , free parking, free wifi, near the a...</td>\n      <td>[Budget]</td>\n      <td>None</td>\n      <td>None</td>\n      <td>58</td>\n      <td>5</td>\n      <td>50</td>\n      <td>[French, Italian, Cafe, Singaporean]</td>\n      <td>NaN</td>\n      <td>Singapore</td>\n    </tr>\n    <tr>\n      <th>4012</th>\n      <td>Hotel NuVe Stellar</td>\n      <td>3.0</td>\n      <td>1 review</td>\n      <td>#281 of 369 hotels in Singapore</td>\n      <td>[Free parking, Parking, Free High Speed Intern...</td>\n      <td>English, Chinese, Filipino, Malay</td>\n      <td>[Share,  , free wifi was included, Little Indi...</td>\n      <td>[]</td>\n      <td>None</td>\n      <td>None</td>\n      <td>324</td>\n      <td>23</td>\n      <td>100</td>\n      <td>[Indian, Seafood, Indian, Chinese]</td>\n      <td>NaN</td>\n      <td>Singapore</td>\n    </tr>\n    <tr>\n      <th>4013</th>\n      <td>Gallop Hill Top Resort</td>\n      <td>4.0</td>\n      <td>3 reviews</td>\n      <td>#22 of 95 B&amp;Bs / Inns in Singapore</td>\n      <td>[]</td>\n      <td>None</td>\n      <td>[Share,  , free WIFI, orchard road, fast &amp; fre...</td>\n      <td>[]</td>\n      <td>None</td>\n      <td>None</td>\n      <td>60</td>\n      <td>9</td>\n      <td>67</td>\n      <td>[American, Steakhouse, Seafood, Italian]</td>\n      <td>NaN</td>\n      <td>Singapore</td>\n    </tr>\n  </tbody>\n</table>\n<p>4014 rows × 16 columns</p>\n</div>"
     },
     "execution_count": 36,
     "metadata": {},
     "output_type": "execute_result"
    }
   ],
   "source": [
    "add_city(data1, 'Tokyo')\n",
    "add_city(data2, 'London')\n",
    "add_city(data3, 'Singapore')"
   ],
   "metadata": {
    "collapsed": false,
    "pycharm": {
     "name": "#%%\n"
    }
   }
  },
  {
   "cell_type": "code",
   "execution_count": 37,
   "outputs": [
    {
     "data": {
      "text/plain": "London       2245\nTokyo        1514\nSingapore     255\nName: city, dtype: int64"
     },
     "execution_count": 37,
     "metadata": {},
     "output_type": "execute_result"
    }
   ],
   "source": [
    "df.city.value_counts()"
   ],
   "metadata": {
    "collapsed": false,
    "pycharm": {
     "name": "#%%\n"
    }
   }
  },
  {
   "cell_type": "code",
   "execution_count": 38,
   "outputs": [
    {
     "data": {
      "text/plain": "                          hotel_name rating review_count hotel_rank  \\\n0              Hotel Mystays Kameido    3.5          267          1   \n1             Zenriren Yoyogino Yado    4.0           28          1   \n2  Tokyo Bay Ariake Washington Hotel    3.5          682          3   \n3                 THE BLOSSOM HIBIYA    4.0           31          8   \n4             Nippon Seinenkan Hotel    4.5          169          4   \n\n                                           amenities  \\\n0  [Parking, Free High Speed Internet (WiFi), Hot...   \n1                    [Hot bath, Shuttle bus service]   \n2  [Paid public parking on-site, Free High Speed ...   \n3  [Free High Speed Internet (WiFi), Fitness Cent...   \n4  [Paid public parking on-site, Free High Speed ...   \n\n                              languages       hotel_class price  \\\n0                   [English, Japanese]          [Budget]  None   \n1                            [Japanese]                []  None   \n2                   [English, Japanese]          [Family]  None   \n3  [English, Chinese, Japanese, Korean]                []  7282   \n4                   [English, Japanese]  [Family, Modern]  None   \n\n  best_price_source restraunts_nearby attractions_nearby  \\\n0              None               324                  9   \n1              None               490                 24   \n2              None                86                  6   \n3     ZenHotels.com              3429                209   \n4              None               222                 33   \n\n  good_for_walkers_out_of_100  \\\n0                          82   \n1                         100   \n2                          96   \n3                         100   \n4                          96   \n\n                                         restaurants   city  \n0  [{'name': 'Yozen', 'cusines': ['', 'Mongolian'...  Tokyo  \n1  [{'name': 'Sakuratei', 'cusines': ['', 'Japane...  Tokyo  \n2  [{'name': 'Georgetown', 'cusines': [], 'review...  Tokyo  \n3  [{'name': 'Masaya Shimbashi Store', 'cusines':...  Tokyo  \n4  [{'name': 'Goo ITALIANO', 'cusines': [], 'revi...  Tokyo  ",
      "text/html": "<div>\n<style scoped>\n    .dataframe tbody tr th:only-of-type {\n        vertical-align: middle;\n    }\n\n    .dataframe tbody tr th {\n        vertical-align: top;\n    }\n\n    .dataframe thead th {\n        text-align: right;\n    }\n</style>\n<table border=\"1\" class=\"dataframe\">\n  <thead>\n    <tr style=\"text-align: right;\">\n      <th></th>\n      <th>hotel_name</th>\n      <th>rating</th>\n      <th>review_count</th>\n      <th>hotel_rank</th>\n      <th>amenities</th>\n      <th>languages</th>\n      <th>hotel_class</th>\n      <th>price</th>\n      <th>best_price_source</th>\n      <th>restraunts_nearby</th>\n      <th>attractions_nearby</th>\n      <th>good_for_walkers_out_of_100</th>\n      <th>restaurants</th>\n      <th>city</th>\n    </tr>\n  </thead>\n  <tbody>\n    <tr>\n      <th>0</th>\n      <td>Hotel Mystays Kameido</td>\n      <td>3.5</td>\n      <td>267</td>\n      <td>1</td>\n      <td>[Parking, Free High Speed Internet (WiFi), Hot...</td>\n      <td>[English, Japanese]</td>\n      <td>[Budget]</td>\n      <td>None</td>\n      <td>None</td>\n      <td>324</td>\n      <td>9</td>\n      <td>82</td>\n      <td>[{'name': 'Yozen', 'cusines': ['', 'Mongolian'...</td>\n      <td>Tokyo</td>\n    </tr>\n    <tr>\n      <th>1</th>\n      <td>Zenriren Yoyogino Yado</td>\n      <td>4.0</td>\n      <td>28</td>\n      <td>1</td>\n      <td>[Hot bath, Shuttle bus service]</td>\n      <td>[Japanese]</td>\n      <td>[]</td>\n      <td>None</td>\n      <td>None</td>\n      <td>490</td>\n      <td>24</td>\n      <td>100</td>\n      <td>[{'name': 'Sakuratei', 'cusines': ['', 'Japane...</td>\n      <td>Tokyo</td>\n    </tr>\n    <tr>\n      <th>2</th>\n      <td>Tokyo Bay Ariake Washington Hotel</td>\n      <td>3.5</td>\n      <td>682</td>\n      <td>3</td>\n      <td>[Paid public parking on-site, Free High Speed ...</td>\n      <td>[English, Japanese]</td>\n      <td>[Family]</td>\n      <td>None</td>\n      <td>None</td>\n      <td>86</td>\n      <td>6</td>\n      <td>96</td>\n      <td>[{'name': 'Georgetown', 'cusines': [], 'review...</td>\n      <td>Tokyo</td>\n    </tr>\n    <tr>\n      <th>3</th>\n      <td>THE BLOSSOM HIBIYA</td>\n      <td>4.0</td>\n      <td>31</td>\n      <td>8</td>\n      <td>[Free High Speed Internet (WiFi), Fitness Cent...</td>\n      <td>[English, Chinese, Japanese, Korean]</td>\n      <td>[]</td>\n      <td>7282</td>\n      <td>ZenHotels.com</td>\n      <td>3429</td>\n      <td>209</td>\n      <td>100</td>\n      <td>[{'name': 'Masaya Shimbashi Store', 'cusines':...</td>\n      <td>Tokyo</td>\n    </tr>\n    <tr>\n      <th>4</th>\n      <td>Nippon Seinenkan Hotel</td>\n      <td>4.5</td>\n      <td>169</td>\n      <td>4</td>\n      <td>[Paid public parking on-site, Free High Speed ...</td>\n      <td>[English, Japanese]</td>\n      <td>[Family, Modern]</td>\n      <td>None</td>\n      <td>None</td>\n      <td>222</td>\n      <td>33</td>\n      <td>96</td>\n      <td>[{'name': 'Goo ITALIANO', 'cusines': [], 'revi...</td>\n      <td>Tokyo</td>\n    </tr>\n  </tbody>\n</table>\n</div>"
     },
     "execution_count": 38,
     "metadata": {},
     "output_type": "execute_result"
    }
   ],
   "source": [
    "df = df.drop(['reviews', 'top_cuisines'], axis=1)\n",
    "\n",
    "df.languages = df.languages.apply(lambda x: (str(x)).split(\", \"))\n",
    "\n",
    "df.review_count = df.review_count.apply(lambda x: (str(x)).split()[0])\n",
    "\n",
    "df.hotel_rank = df.hotel_rank.apply(lambda x: (str(x)).split()[0][1:])\n",
    "df.head()"
   ],
   "metadata": {
    "collapsed": false,
    "pycharm": {
     "name": "#%%\n"
    }
   }
  },
  {
   "cell_type": "code",
   "execution_count": 39,
   "outputs": [
    {
     "data": {
      "text/plain": "                          hotel_name rating review_count hotel_rank  \\\n0              Hotel Mystays Kameido    3.5          267          1   \n1             Zenriren Yoyogino Yado    4.0           28          1   \n2  Tokyo Bay Ariake Washington Hotel    3.5          682          3   \n3                 THE BLOSSOM HIBIYA    4.0           31          8   \n4             Nippon Seinenkan Hotel    4.5          169          4   \n\n                                           amenities  \\\n0  [Parking, Free High Speed Internet (WiFi), Hot...   \n1                    [Hot bath, Shuttle bus service]   \n2  [Paid public parking on-site, Free High Speed ...   \n3  [Free High Speed Internet (WiFi), Fitness Cent...   \n4  [Paid public parking on-site, Free High Speed ...   \n\n                              languages       hotel_class price  \\\n0                   [English, Japanese]          [Budget]  None   \n1                            [Japanese]                []  None   \n2                   [English, Japanese]          [Family]  None   \n3  [English, Chinese, Japanese, Korean]                []  7282   \n4                   [English, Japanese]  [Family, Modern]  None   \n\n  best_price_source restraunts_nearby attractions_nearby  \\\n0              None               324                  9   \n1              None               490                 24   \n2              None                86                  6   \n3     ZenHotels.com              3429                209   \n4              None               222                 33   \n\n  good_for_walkers_out_of_100  \\\n0                          82   \n1                         100   \n2                          96   \n3                         100   \n4                          96   \n\n                                         restaurants   city  \\\n0  [{'name': 'Yozen', 'cusines': ['', 'Mongolian'...  Tokyo   \n1  [{'name': 'Sakuratei', 'cusines': ['', 'Japane...  Tokyo   \n2  [{'name': 'Georgetown', 'cusines': [], 'review...  Tokyo   \n3  [{'name': 'Masaya Shimbashi Store', 'cusines':...  Tokyo   \n4  [{'name': 'Goo ITALIANO', 'cusines': [], 'revi...  Tokyo   \n\n                                            cuisines  \n0  {'Mongolian': 1, 'Japanese Fusion': 1, 'Asian'...  \n1  {'Japanese': 3, 'Grill': 1, 'Asian': 2, 'Healt...  \n2              {'Dining bars': 2, 'Contemporary': 1}  \n3  {'Japanese Fusion': 1, 'Dining bars': 2, 'Japa...  \n4  {'Asian': 4, 'Indian': 1, 'Japanese': 4, 'Gril...  ",
      "text/html": "<div>\n<style scoped>\n    .dataframe tbody tr th:only-of-type {\n        vertical-align: middle;\n    }\n\n    .dataframe tbody tr th {\n        vertical-align: top;\n    }\n\n    .dataframe thead th {\n        text-align: right;\n    }\n</style>\n<table border=\"1\" class=\"dataframe\">\n  <thead>\n    <tr style=\"text-align: right;\">\n      <th></th>\n      <th>hotel_name</th>\n      <th>rating</th>\n      <th>review_count</th>\n      <th>hotel_rank</th>\n      <th>amenities</th>\n      <th>languages</th>\n      <th>hotel_class</th>\n      <th>price</th>\n      <th>best_price_source</th>\n      <th>restraunts_nearby</th>\n      <th>attractions_nearby</th>\n      <th>good_for_walkers_out_of_100</th>\n      <th>restaurants</th>\n      <th>city</th>\n      <th>cuisines</th>\n    </tr>\n  </thead>\n  <tbody>\n    <tr>\n      <th>0</th>\n      <td>Hotel Mystays Kameido</td>\n      <td>3.5</td>\n      <td>267</td>\n      <td>1</td>\n      <td>[Parking, Free High Speed Internet (WiFi), Hot...</td>\n      <td>[English, Japanese]</td>\n      <td>[Budget]</td>\n      <td>None</td>\n      <td>None</td>\n      <td>324</td>\n      <td>9</td>\n      <td>82</td>\n      <td>[{'name': 'Yozen', 'cusines': ['', 'Mongolian'...</td>\n      <td>Tokyo</td>\n      <td>{'Mongolian': 1, 'Japanese Fusion': 1, 'Asian'...</td>\n    </tr>\n    <tr>\n      <th>1</th>\n      <td>Zenriren Yoyogino Yado</td>\n      <td>4.0</td>\n      <td>28</td>\n      <td>1</td>\n      <td>[Hot bath, Shuttle bus service]</td>\n      <td>[Japanese]</td>\n      <td>[]</td>\n      <td>None</td>\n      <td>None</td>\n      <td>490</td>\n      <td>24</td>\n      <td>100</td>\n      <td>[{'name': 'Sakuratei', 'cusines': ['', 'Japane...</td>\n      <td>Tokyo</td>\n      <td>{'Japanese': 3, 'Grill': 1, 'Asian': 2, 'Healt...</td>\n    </tr>\n    <tr>\n      <th>2</th>\n      <td>Tokyo Bay Ariake Washington Hotel</td>\n      <td>3.5</td>\n      <td>682</td>\n      <td>3</td>\n      <td>[Paid public parking on-site, Free High Speed ...</td>\n      <td>[English, Japanese]</td>\n      <td>[Family]</td>\n      <td>None</td>\n      <td>None</td>\n      <td>86</td>\n      <td>6</td>\n      <td>96</td>\n      <td>[{'name': 'Georgetown', 'cusines': [], 'review...</td>\n      <td>Tokyo</td>\n      <td>{'Dining bars': 2, 'Contemporary': 1}</td>\n    </tr>\n    <tr>\n      <th>3</th>\n      <td>THE BLOSSOM HIBIYA</td>\n      <td>4.0</td>\n      <td>31</td>\n      <td>8</td>\n      <td>[Free High Speed Internet (WiFi), Fitness Cent...</td>\n      <td>[English, Chinese, Japanese, Korean]</td>\n      <td>[]</td>\n      <td>7282</td>\n      <td>ZenHotels.com</td>\n      <td>3429</td>\n      <td>209</td>\n      <td>100</td>\n      <td>[{'name': 'Masaya Shimbashi Store', 'cusines':...</td>\n      <td>Tokyo</td>\n      <td>{'Japanese Fusion': 1, 'Dining bars': 2, 'Japa...</td>\n    </tr>\n    <tr>\n      <th>4</th>\n      <td>Nippon Seinenkan Hotel</td>\n      <td>4.5</td>\n      <td>169</td>\n      <td>4</td>\n      <td>[Paid public parking on-site, Free High Speed ...</td>\n      <td>[English, Japanese]</td>\n      <td>[Family, Modern]</td>\n      <td>None</td>\n      <td>None</td>\n      <td>222</td>\n      <td>33</td>\n      <td>96</td>\n      <td>[{'name': 'Goo ITALIANO', 'cusines': [], 'revi...</td>\n      <td>Tokyo</td>\n      <td>{'Asian': 4, 'Indian': 1, 'Japanese': 4, 'Gril...</td>\n    </tr>\n  </tbody>\n</table>\n</div>"
     },
     "execution_count": 39,
     "metadata": {},
     "output_type": "execute_result"
    }
   ],
   "source": [
    "def group_cusines(restaurant_list):\n",
    "    cuisines = {}\n",
    "    if type(restaurant_list) == list:\n",
    "        for restaurant in restaurant_list:\n",
    "            for cuisine in restaurant['cusines']:\n",
    "                cuisine = cuisine.replace(\", \", \"\")\n",
    "                cuisine = cuisine.replace(\",\", \"\")\n",
    "                cuisine = cuisine.strip()\n",
    "                if len(cuisine) > 2:\n",
    "                    if cuisine in cuisines.keys():\n",
    "                        cuisines[cuisine] += 1\n",
    "                    else:\n",
    "                        cuisines[cuisine] = 1\n",
    "        # sorting in descending order\n",
    "        sorted(cuisines.items(), key=lambda x: x[1], reverse=True)\n",
    "    return cuisines\n",
    "\n",
    "\n",
    "df['cuisines'] = df.restaurants.apply(group_cusines)\n",
    "df.head()"
   ],
   "metadata": {
    "collapsed": false,
    "pycharm": {
     "name": "#%%\n"
    }
   }
  },
  {
   "cell_type": "code",
   "execution_count": 40,
   "outputs": [
    {
     "data": {
      "text/plain": "                          hotel_name rating review_count hotel_rank  \\\n0              Hotel Mystays Kameido    3.5          267          1   \n1             Zenriren Yoyogino Yado    4.0           28          1   \n2  Tokyo Bay Ariake Washington Hotel    3.5          682          3   \n3                 THE BLOSSOM HIBIYA    4.0           31          8   \n4             Nippon Seinenkan Hotel    4.5          169          4   \n\n                                           amenities  \\\n0  [Parking, Free High Speed Internet (WiFi), Hot...   \n1                    [Hot bath, Shuttle bus service]   \n2  [Paid public parking on-site, Free High Speed ...   \n3  [Free High Speed Internet (WiFi), Fitness Cent...   \n4  [Paid public parking on-site, Free High Speed ...   \n\n                              languages       hotel_class price  \\\n0                   [English, Japanese]          [Budget]  None   \n1                            [Japanese]                []  None   \n2                   [English, Japanese]          [Family]  None   \n3  [English, Chinese, Japanese, Korean]                []  7282   \n4                   [English, Japanese]  [Family, Modern]  None   \n\n  best_price_source restraunts_nearby attractions_nearby  \\\n0              None               324                  9   \n1              None               490                 24   \n2              None                86                  6   \n3     ZenHotels.com              3429                209   \n4              None               222                 33   \n\n  good_for_walkers_out_of_100   city  \\\n0                          82  Tokyo   \n1                         100  Tokyo   \n2                          96  Tokyo   \n3                         100  Tokyo   \n4                          96  Tokyo   \n\n                                            cuisines  \\\n0  {'Mongolian': 1, 'Japanese Fusion': 1, 'Asian'...   \n1  {'Japanese': 3, 'Grill': 1, 'Asian': 2, 'Healt...   \n2              {'Dining bars': 2, 'Contemporary': 1}   \n3  {'Japanese Fusion': 1, 'Dining bars': 2, 'Japa...   \n4  {'Asian': 4, 'Indian': 1, 'Japanese': 4, 'Gril...   \n\n                                    restaurant_names  \n0  [Yozen, Yumcha Tavern Hongkongtei Kameido, Mus...  \n1  [Sakuratei, Street Pasta Company, Cafe Nook, Y...  \n2  [Georgetown, Seafood Restaurant Mexico, Tokyo ...  \n3  [Masaya Shimbashi Store, Sotoroku, Daisan Haru...  \n4  [Goo ITALIANO, Stadium Cafe, East Wind, Isomiy...  ",
      "text/html": "<div>\n<style scoped>\n    .dataframe tbody tr th:only-of-type {\n        vertical-align: middle;\n    }\n\n    .dataframe tbody tr th {\n        vertical-align: top;\n    }\n\n    .dataframe thead th {\n        text-align: right;\n    }\n</style>\n<table border=\"1\" class=\"dataframe\">\n  <thead>\n    <tr style=\"text-align: right;\">\n      <th></th>\n      <th>hotel_name</th>\n      <th>rating</th>\n      <th>review_count</th>\n      <th>hotel_rank</th>\n      <th>amenities</th>\n      <th>languages</th>\n      <th>hotel_class</th>\n      <th>price</th>\n      <th>best_price_source</th>\n      <th>restraunts_nearby</th>\n      <th>attractions_nearby</th>\n      <th>good_for_walkers_out_of_100</th>\n      <th>city</th>\n      <th>cuisines</th>\n      <th>restaurant_names</th>\n    </tr>\n  </thead>\n  <tbody>\n    <tr>\n      <th>0</th>\n      <td>Hotel Mystays Kameido</td>\n      <td>3.5</td>\n      <td>267</td>\n      <td>1</td>\n      <td>[Parking, Free High Speed Internet (WiFi), Hot...</td>\n      <td>[English, Japanese]</td>\n      <td>[Budget]</td>\n      <td>None</td>\n      <td>None</td>\n      <td>324</td>\n      <td>9</td>\n      <td>82</td>\n      <td>Tokyo</td>\n      <td>{'Mongolian': 1, 'Japanese Fusion': 1, 'Asian'...</td>\n      <td>[Yozen, Yumcha Tavern Hongkongtei Kameido, Mus...</td>\n    </tr>\n    <tr>\n      <th>1</th>\n      <td>Zenriren Yoyogino Yado</td>\n      <td>4.0</td>\n      <td>28</td>\n      <td>1</td>\n      <td>[Hot bath, Shuttle bus service]</td>\n      <td>[Japanese]</td>\n      <td>[]</td>\n      <td>None</td>\n      <td>None</td>\n      <td>490</td>\n      <td>24</td>\n      <td>100</td>\n      <td>Tokyo</td>\n      <td>{'Japanese': 3, 'Grill': 1, 'Asian': 2, 'Healt...</td>\n      <td>[Sakuratei, Street Pasta Company, Cafe Nook, Y...</td>\n    </tr>\n    <tr>\n      <th>2</th>\n      <td>Tokyo Bay Ariake Washington Hotel</td>\n      <td>3.5</td>\n      <td>682</td>\n      <td>3</td>\n      <td>[Paid public parking on-site, Free High Speed ...</td>\n      <td>[English, Japanese]</td>\n      <td>[Family]</td>\n      <td>None</td>\n      <td>None</td>\n      <td>86</td>\n      <td>6</td>\n      <td>96</td>\n      <td>Tokyo</td>\n      <td>{'Dining bars': 2, 'Contemporary': 1}</td>\n      <td>[Georgetown, Seafood Restaurant Mexico, Tokyo ...</td>\n    </tr>\n    <tr>\n      <th>3</th>\n      <td>THE BLOSSOM HIBIYA</td>\n      <td>4.0</td>\n      <td>31</td>\n      <td>8</td>\n      <td>[Free High Speed Internet (WiFi), Fitness Cent...</td>\n      <td>[English, Chinese, Japanese, Korean]</td>\n      <td>[]</td>\n      <td>7282</td>\n      <td>ZenHotels.com</td>\n      <td>3429</td>\n      <td>209</td>\n      <td>100</td>\n      <td>Tokyo</td>\n      <td>{'Japanese Fusion': 1, 'Dining bars': 2, 'Japa...</td>\n      <td>[Masaya Shimbashi Store, Sotoroku, Daisan Haru...</td>\n    </tr>\n    <tr>\n      <th>4</th>\n      <td>Nippon Seinenkan Hotel</td>\n      <td>4.5</td>\n      <td>169</td>\n      <td>4</td>\n      <td>[Paid public parking on-site, Free High Speed ...</td>\n      <td>[English, Japanese]</td>\n      <td>[Family, Modern]</td>\n      <td>None</td>\n      <td>None</td>\n      <td>222</td>\n      <td>33</td>\n      <td>96</td>\n      <td>Tokyo</td>\n      <td>{'Asian': 4, 'Indian': 1, 'Japanese': 4, 'Gril...</td>\n      <td>[Goo ITALIANO, Stadium Cafe, East Wind, Isomiy...</td>\n    </tr>\n  </tbody>\n</table>\n</div>"
     },
     "execution_count": 40,
     "metadata": {},
     "output_type": "execute_result"
    }
   ],
   "source": [
    "def restaurant_names(restaurant_list):\n",
    "    restaurants = []\n",
    "    if type(restaurant_list) == list:\n",
    "        for restaurant in restaurant_list:\n",
    "            restaurants.append(restaurant['name'])\n",
    "    return restaurants\n",
    "\n",
    "\n",
    "df['restaurant_names'] = df.restaurants.apply(restaurant_names)\n",
    "df = df.drop(['restaurants'], axis=1)\n",
    "df.head()"
   ],
   "metadata": {
    "collapsed": false,
    "pycharm": {
     "name": "#%%\n"
    }
   }
  },
  {
   "cell_type": "code",
   "execution_count": 41,
   "outputs": [],
   "source": [
    "def isfloat(num):\n",
    "    if num is None or num is np.nan:\n",
    "        return False\n",
    "    try:\n",
    "        float(num)\n",
    "        return True\n",
    "    except ValueError:\n",
    "        return False\n",
    "\n",
    "\n",
    "def isint(num):\n",
    "    if num is None or num is np.nan:\n",
    "        return False\n",
    "    try:\n",
    "        int(num)\n",
    "        return True\n",
    "    except ValueError:\n",
    "        return False"
   ],
   "metadata": {
    "collapsed": false,
    "pycharm": {
     "name": "#%%\n"
    }
   }
  },
  {
   "cell_type": "code",
   "execution_count": 42,
   "outputs": [
    {
     "name": "stdout",
     "output_type": "stream",
     "text": [
      "<class 'pandas.core.frame.DataFrame'>\n",
      "RangeIndex: 4014 entries, 0 to 4013\n",
      "Data columns (total 15 columns):\n",
      " #   Column                       Non-Null Count  Dtype  \n",
      "---  ------                       --------------  -----  \n",
      " 0   hotel_name                   4014 non-null   object \n",
      " 1   rating                       1557 non-null   float64\n",
      " 2   review_count                 1550 non-null   float64\n",
      " 3   hotel_rank                   1455 non-null   float64\n",
      " 4   amenities                    4014 non-null   object \n",
      " 5   languages                    4014 non-null   object \n",
      " 6   hotel_class                  4014 non-null   object \n",
      " 7   price                        55 non-null     float64\n",
      " 8   best_price_source            55 non-null     object \n",
      " 9   restraunts_nearby            3575 non-null   float64\n",
      " 10  attractions_nearby           3575 non-null   float64\n",
      " 11  good_for_walkers_out_of_100  3575 non-null   float64\n",
      " 12  city                         4014 non-null   object \n",
      " 13  cuisines                     4014 non-null   object \n",
      " 14  restaurant_names             4014 non-null   object \n",
      "dtypes: float64(7), object(8)\n",
      "memory usage: 470.5+ KB\n"
     ]
    }
   ],
   "source": [
    "df.rating = df.rating.apply(lambda x: float(x) if isfloat(x) else np.nan)\n",
    "df.review_count = df.review_count.apply(lambda x: int(x) if isint(x) else np.nan)\n",
    "df.hotel_rank = df.hotel_rank.apply(lambda x: int(x) if isint(x) else np.nan)\n",
    "df.price = df.price.apply(lambda x: float(x) if isfloat(x) else np.nan)\n",
    "df.restraunts_nearby = df.restraunts_nearby.apply(lambda x: int(x) if isint(x) else np.nan)\n",
    "df.attractions_nearby = df.attractions_nearby.apply(lambda x: int(x) if isint(x) else np.nan)\n",
    "df.good_for_walkers_out_of_100 = df.good_for_walkers_out_of_100.apply(lambda x: int(x) if isint(x) else np.nan)\n",
    "df.info()"
   ],
   "metadata": {
    "collapsed": false,
    "pycharm": {
     "name": "#%%\n"
    }
   }
  },
  {
   "cell_type": "code",
   "execution_count": 43,
   "outputs": [
    {
     "data": {
      "text/plain": "                          hotel_name  rating  review_count  hotel_rank  \\\n0              Hotel Mystays Kameido     3.5         267.0         1.0   \n1             Zenriren Yoyogino Yado     4.0          28.0         1.0   \n2  Tokyo Bay Ariake Washington Hotel     3.5         682.0         3.0   \n3                 THE BLOSSOM HIBIYA     4.0          31.0         8.0   \n4             Nippon Seinenkan Hotel     4.5         169.0         4.0   \n\n                                           amenities  \\\n0  [Parking, Free High Speed Internet (WiFi), Hot...   \n1                    [Hot bath, Shuttle bus service]   \n2  [Paid public parking on-site, Free High Speed ...   \n3  [Free High Speed Internet (WiFi), Fitness Cent...   \n4  [Paid public parking on-site, Free High Speed ...   \n\n                              languages       hotel_class   price  \\\n0                   [English, Japanese]          [Budget]     NaN   \n1                            [Japanese]                []     NaN   \n2                   [English, Japanese]          [Family]     NaN   \n3  [English, Chinese, Japanese, Korean]                []  7282.0   \n4                   [English, Japanese]  [Family, Modern]     NaN   \n\n  best_price_source  restraunts_nearby  attractions_nearby  \\\n0              None              324.0                 9.0   \n1              None              490.0                24.0   \n2              None               86.0                 6.0   \n3     ZenHotels.com             3429.0               209.0   \n4              None              222.0                33.0   \n\n   good_for_walkers_out_of_100   city  \\\n0                         82.0  Tokyo   \n1                        100.0  Tokyo   \n2                         96.0  Tokyo   \n3                        100.0  Tokyo   \n4                         96.0  Tokyo   \n\n                                            cuisines  \\\n0  {'Mongolian': 1, 'Japanese Fusion': 1, 'Asian'...   \n1  {'Japanese': 3, 'Grill': 1, 'Asian': 2, 'Healt...   \n2              {'Dining bars': 2, 'Contemporary': 1}   \n3  {'Japanese Fusion': 1, 'Dining bars': 2, 'Japa...   \n4  {'Asian': 4, 'Indian': 1, 'Japanese': 4, 'Gril...   \n\n                                    restaurant_names  \n0  [Yozen, Yumcha Tavern Hongkongtei Kameido, Mus...  \n1  [Sakuratei, Street Pasta Company, Cafe Nook, Y...  \n2  [Georgetown, Seafood Restaurant Mexico, Tokyo ...  \n3  [Masaya Shimbashi Store, Sotoroku, Daisan Haru...  \n4  [Goo ITALIANO, Stadium Cafe, East Wind, Isomiy...  ",
      "text/html": "<div>\n<style scoped>\n    .dataframe tbody tr th:only-of-type {\n        vertical-align: middle;\n    }\n\n    .dataframe tbody tr th {\n        vertical-align: top;\n    }\n\n    .dataframe thead th {\n        text-align: right;\n    }\n</style>\n<table border=\"1\" class=\"dataframe\">\n  <thead>\n    <tr style=\"text-align: right;\">\n      <th></th>\n      <th>hotel_name</th>\n      <th>rating</th>\n      <th>review_count</th>\n      <th>hotel_rank</th>\n      <th>amenities</th>\n      <th>languages</th>\n      <th>hotel_class</th>\n      <th>price</th>\n      <th>best_price_source</th>\n      <th>restraunts_nearby</th>\n      <th>attractions_nearby</th>\n      <th>good_for_walkers_out_of_100</th>\n      <th>city</th>\n      <th>cuisines</th>\n      <th>restaurant_names</th>\n    </tr>\n  </thead>\n  <tbody>\n    <tr>\n      <th>0</th>\n      <td>Hotel Mystays Kameido</td>\n      <td>3.5</td>\n      <td>267.0</td>\n      <td>1.0</td>\n      <td>[Parking, Free High Speed Internet (WiFi), Hot...</td>\n      <td>[English, Japanese]</td>\n      <td>[Budget]</td>\n      <td>NaN</td>\n      <td>None</td>\n      <td>324.0</td>\n      <td>9.0</td>\n      <td>82.0</td>\n      <td>Tokyo</td>\n      <td>{'Mongolian': 1, 'Japanese Fusion': 1, 'Asian'...</td>\n      <td>[Yozen, Yumcha Tavern Hongkongtei Kameido, Mus...</td>\n    </tr>\n    <tr>\n      <th>1</th>\n      <td>Zenriren Yoyogino Yado</td>\n      <td>4.0</td>\n      <td>28.0</td>\n      <td>1.0</td>\n      <td>[Hot bath, Shuttle bus service]</td>\n      <td>[Japanese]</td>\n      <td>[]</td>\n      <td>NaN</td>\n      <td>None</td>\n      <td>490.0</td>\n      <td>24.0</td>\n      <td>100.0</td>\n      <td>Tokyo</td>\n      <td>{'Japanese': 3, 'Grill': 1, 'Asian': 2, 'Healt...</td>\n      <td>[Sakuratei, Street Pasta Company, Cafe Nook, Y...</td>\n    </tr>\n    <tr>\n      <th>2</th>\n      <td>Tokyo Bay Ariake Washington Hotel</td>\n      <td>3.5</td>\n      <td>682.0</td>\n      <td>3.0</td>\n      <td>[Paid public parking on-site, Free High Speed ...</td>\n      <td>[English, Japanese]</td>\n      <td>[Family]</td>\n      <td>NaN</td>\n      <td>None</td>\n      <td>86.0</td>\n      <td>6.0</td>\n      <td>96.0</td>\n      <td>Tokyo</td>\n      <td>{'Dining bars': 2, 'Contemporary': 1}</td>\n      <td>[Georgetown, Seafood Restaurant Mexico, Tokyo ...</td>\n    </tr>\n    <tr>\n      <th>3</th>\n      <td>THE BLOSSOM HIBIYA</td>\n      <td>4.0</td>\n      <td>31.0</td>\n      <td>8.0</td>\n      <td>[Free High Speed Internet (WiFi), Fitness Cent...</td>\n      <td>[English, Chinese, Japanese, Korean]</td>\n      <td>[]</td>\n      <td>7282.0</td>\n      <td>ZenHotels.com</td>\n      <td>3429.0</td>\n      <td>209.0</td>\n      <td>100.0</td>\n      <td>Tokyo</td>\n      <td>{'Japanese Fusion': 1, 'Dining bars': 2, 'Japa...</td>\n      <td>[Masaya Shimbashi Store, Sotoroku, Daisan Haru...</td>\n    </tr>\n    <tr>\n      <th>4</th>\n      <td>Nippon Seinenkan Hotel</td>\n      <td>4.5</td>\n      <td>169.0</td>\n      <td>4.0</td>\n      <td>[Paid public parking on-site, Free High Speed ...</td>\n      <td>[English, Japanese]</td>\n      <td>[Family, Modern]</td>\n      <td>NaN</td>\n      <td>None</td>\n      <td>222.0</td>\n      <td>33.0</td>\n      <td>96.0</td>\n      <td>Tokyo</td>\n      <td>{'Asian': 4, 'Indian': 1, 'Japanese': 4, 'Gril...</td>\n      <td>[Goo ITALIANO, Stadium Cafe, East Wind, Isomiy...</td>\n    </tr>\n  </tbody>\n</table>\n</div>"
     },
     "execution_count": 43,
     "metadata": {},
     "output_type": "execute_result"
    }
   ],
   "source": [
    "df.head()"
   ],
   "metadata": {
    "collapsed": false,
    "pycharm": {
     "name": "#%%\n"
    }
   }
  },
  {
   "cell_type": "code",
   "execution_count": 44,
   "outputs": [],
   "source": [
    "# filters\n",
    "def set_amenity_filter(dFrame, amenity_list):\n",
    "    mask = dFrame.amenities.apply(lambda x: any(item for item in amenity_list if item in x))\n",
    "    return dFrame[mask]\n",
    "\n",
    "\n",
    "def set_language_filter(dFrame, language_list):\n",
    "    mask = dFrame.languages.apply(lambda x: any(item for item in language_list if item in x))\n",
    "    return dFrame[mask]\n",
    "\n",
    "\n",
    "def set_class_filter(dFrame, class_list):\n",
    "    mask = dFrame.hotel_class.apply(lambda x: any(item for item in class_list if item in x))\n",
    "    return dFrame[mask]\n",
    "\n",
    "\n",
    "def set_cuisine_filter(dFrame, cuisine_list):\n",
    "    mask = dFrame.cuisines.apply(lambda x: any(item for item in cuisine_list if item in x.keys()))\n",
    "    return dFrame[mask]\n",
    "\n",
    "\n",
    "def set_rating_filter(dFrame, min_rating):\n",
    "    return dFrame[dFrame.rating >= min_rating]\n",
    "\n",
    "\n",
    "def set_review_filter(dFrame, min_reviews):\n",
    "    return dFrame[dFrame.review_count >= min_reviews]\n",
    "\n",
    "\n",
    "def set_rank_filter(dFrame, max_rank):\n",
    "    return dFrame[dFrame.hotel_rank <= max_rank]\n",
    "\n",
    "\n",
    "def set_price_filter(dFrame, max_price):\n",
    "    return dFrame[dFrame.price <= max_price]\n",
    "\n",
    "\n",
    "def set_restraunts_nearby_filter(dFrame, min_restraunts_nearby):\n",
    "    return dFrame[dFrame.restraunts_nearby >= min_restraunts_nearby]\n",
    "\n",
    "\n",
    "def set_attractions_nearby_filter(dFrame, min_attractions_nearby):\n",
    "    return dFrame[dFrame.attractions_nearby >= min_attractions_nearby]\n",
    "\n",
    "\n",
    "def set_good_for_walkers_out_of_100_filter(dFrame, min_good_for_walkers_out_of_100):\n",
    "    return dFrame[dFrame.good_for_walkers_out_of_100 <= min_good_for_walkers_out_of_100]\n",
    "\n",
    "\n",
    "def set_city_filter(dFrame, cities):\n",
    "    return dFrame[dFrame.city.isin(cities)]"
   ],
   "metadata": {
    "collapsed": false,
    "pycharm": {
     "name": "#%%\n"
    }
   }
  },
  {
   "cell_type": "code",
   "execution_count": 45,
   "outputs": [],
   "source": [
    "# sorting df\n",
    "def sort_df(dFrame):\n",
    "    result = dFrame.sort_values(by=['price'],ascending=True)\n",
    "    result = result.sort_values(by=['hotel_rank'],ascending=True)\n",
    "    result = result.sort_values(by=['rating'],ascending=False)\n",
    "    return result"
   ],
   "metadata": {
    "collapsed": false,
    "pycharm": {
     "name": "#%%\n"
    }
   }
  },
  {
   "cell_type": "code",
   "execution_count": 46,
   "outputs": [
    {
     "data": {
      "text/plain": "                                     hotel_name  rating  review_count  \\\n3677     Oyo Home Docklands 2 Bedroom Apartment     5.0           1.0   \n1566                  London Property Apartment     5.0           1.0   \n1378                         From Scratch Tokyo     5.0           1.0   \n1577                      The Marylebone Suites     5.0           1.0   \n1571  Central London Apartment - Great Location     5.0           1.0   \n...                                         ...     ...           ...   \n4003                             K Space Inn 14     NaN           NaN   \n4004                   Shipping Container Hotel     NaN           NaN   \n4005            ZEN Rooms People's Park Complex     NaN           NaN   \n4006                                 Rest House     NaN           NaN   \n4007                        HG Kampung Glamping     NaN           NaN   \n\n      hotel_rank                                          amenities  \\\n3677       864.0                                      [Kitchenette]   \n1566       385.0                                                 []   \n1378         7.0  [Bar / lounge, Baggage storage, Non-smoking ho...   \n1577       380.0                                                 []   \n1571       381.0                                                 []   \n...          ...                                                ...   \n4003         NaN                                                 []   \n4004         NaN                                                 []   \n4005         NaN                                                 []   \n4006         NaN  [Free public parking nearby, Street parking, F...   \n4007         NaN                                                 []   \n\n                languages hotel_class  price best_price_source  \\\n3677               [None]          []    NaN              None   \n1566               [None]          []    NaN              None   \n1378  [English, Japanese]          []    NaN              None   \n1577               [None]          []    NaN              None   \n1571               [None]          []    NaN              None   \n...                   ...         ...    ...               ...   \n4003               [None]          []    NaN              None   \n4004               [None]          []    NaN              None   \n4005               [None]          []    NaN              None   \n4006   [English, Chinese]          []    NaN              None   \n4007               [None]          []    NaN              None   \n\n      restraunts_nearby  attractions_nearby  good_for_walkers_out_of_100  \\\n3677               78.0                33.0                         84.0   \n1566              165.0                26.0                        100.0   \n1378              114.0                15.0                         74.0   \n1577               93.0                19.0                        100.0   \n1571              525.0               112.0                        100.0   \n...                 ...                 ...                          ...   \n4003              662.0               108.0                        100.0   \n4004               77.0                 2.0                         75.0   \n4005              651.0               105.0                        100.0   \n4006              101.0                 6.0                         63.0   \n4007               11.0                 5.0                         53.0   \n\n           city cuisines restaurant_names  \n3677     London       {}               []  \n1566     London       {}               []  \n1378      Tokyo       {}               []  \n1577     London       {}               []  \n1571     London       {}               []  \n...         ...      ...              ...  \n4003  Singapore       {}               []  \n4004  Singapore       {}               []  \n4005  Singapore       {}               []  \n4006  Singapore       {}               []  \n4007  Singapore       {}               []  \n\n[4014 rows x 15 columns]",
      "text/html": "<div>\n<style scoped>\n    .dataframe tbody tr th:only-of-type {\n        vertical-align: middle;\n    }\n\n    .dataframe tbody tr th {\n        vertical-align: top;\n    }\n\n    .dataframe thead th {\n        text-align: right;\n    }\n</style>\n<table border=\"1\" class=\"dataframe\">\n  <thead>\n    <tr style=\"text-align: right;\">\n      <th></th>\n      <th>hotel_name</th>\n      <th>rating</th>\n      <th>review_count</th>\n      <th>hotel_rank</th>\n      <th>amenities</th>\n      <th>languages</th>\n      <th>hotel_class</th>\n      <th>price</th>\n      <th>best_price_source</th>\n      <th>restraunts_nearby</th>\n      <th>attractions_nearby</th>\n      <th>good_for_walkers_out_of_100</th>\n      <th>city</th>\n      <th>cuisines</th>\n      <th>restaurant_names</th>\n    </tr>\n  </thead>\n  <tbody>\n    <tr>\n      <th>3677</th>\n      <td>Oyo Home Docklands 2 Bedroom Apartment</td>\n      <td>5.0</td>\n      <td>1.0</td>\n      <td>864.0</td>\n      <td>[Kitchenette]</td>\n      <td>[None]</td>\n      <td>[]</td>\n      <td>NaN</td>\n      <td>None</td>\n      <td>78.0</td>\n      <td>33.0</td>\n      <td>84.0</td>\n      <td>London</td>\n      <td>{}</td>\n      <td>[]</td>\n    </tr>\n    <tr>\n      <th>1566</th>\n      <td>London Property Apartment</td>\n      <td>5.0</td>\n      <td>1.0</td>\n      <td>385.0</td>\n      <td>[]</td>\n      <td>[None]</td>\n      <td>[]</td>\n      <td>NaN</td>\n      <td>None</td>\n      <td>165.0</td>\n      <td>26.0</td>\n      <td>100.0</td>\n      <td>London</td>\n      <td>{}</td>\n      <td>[]</td>\n    </tr>\n    <tr>\n      <th>1378</th>\n      <td>From Scratch Tokyo</td>\n      <td>5.0</td>\n      <td>1.0</td>\n      <td>7.0</td>\n      <td>[Bar / lounge, Baggage storage, Non-smoking ho...</td>\n      <td>[English, Japanese]</td>\n      <td>[]</td>\n      <td>NaN</td>\n      <td>None</td>\n      <td>114.0</td>\n      <td>15.0</td>\n      <td>74.0</td>\n      <td>Tokyo</td>\n      <td>{}</td>\n      <td>[]</td>\n    </tr>\n    <tr>\n      <th>1577</th>\n      <td>The Marylebone Suites</td>\n      <td>5.0</td>\n      <td>1.0</td>\n      <td>380.0</td>\n      <td>[]</td>\n      <td>[None]</td>\n      <td>[]</td>\n      <td>NaN</td>\n      <td>None</td>\n      <td>93.0</td>\n      <td>19.0</td>\n      <td>100.0</td>\n      <td>London</td>\n      <td>{}</td>\n      <td>[]</td>\n    </tr>\n    <tr>\n      <th>1571</th>\n      <td>Central London Apartment - Great Location</td>\n      <td>5.0</td>\n      <td>1.0</td>\n      <td>381.0</td>\n      <td>[]</td>\n      <td>[None]</td>\n      <td>[]</td>\n      <td>NaN</td>\n      <td>None</td>\n      <td>525.0</td>\n      <td>112.0</td>\n      <td>100.0</td>\n      <td>London</td>\n      <td>{}</td>\n      <td>[]</td>\n    </tr>\n    <tr>\n      <th>...</th>\n      <td>...</td>\n      <td>...</td>\n      <td>...</td>\n      <td>...</td>\n      <td>...</td>\n      <td>...</td>\n      <td>...</td>\n      <td>...</td>\n      <td>...</td>\n      <td>...</td>\n      <td>...</td>\n      <td>...</td>\n      <td>...</td>\n      <td>...</td>\n      <td>...</td>\n    </tr>\n    <tr>\n      <th>4003</th>\n      <td>K Space Inn 14</td>\n      <td>NaN</td>\n      <td>NaN</td>\n      <td>NaN</td>\n      <td>[]</td>\n      <td>[None]</td>\n      <td>[]</td>\n      <td>NaN</td>\n      <td>None</td>\n      <td>662.0</td>\n      <td>108.0</td>\n      <td>100.0</td>\n      <td>Singapore</td>\n      <td>{}</td>\n      <td>[]</td>\n    </tr>\n    <tr>\n      <th>4004</th>\n      <td>Shipping Container Hotel</td>\n      <td>NaN</td>\n      <td>NaN</td>\n      <td>NaN</td>\n      <td>[]</td>\n      <td>[None]</td>\n      <td>[]</td>\n      <td>NaN</td>\n      <td>None</td>\n      <td>77.0</td>\n      <td>2.0</td>\n      <td>75.0</td>\n      <td>Singapore</td>\n      <td>{}</td>\n      <td>[]</td>\n    </tr>\n    <tr>\n      <th>4005</th>\n      <td>ZEN Rooms People's Park Complex</td>\n      <td>NaN</td>\n      <td>NaN</td>\n      <td>NaN</td>\n      <td>[]</td>\n      <td>[None]</td>\n      <td>[]</td>\n      <td>NaN</td>\n      <td>None</td>\n      <td>651.0</td>\n      <td>105.0</td>\n      <td>100.0</td>\n      <td>Singapore</td>\n      <td>{}</td>\n      <td>[]</td>\n    </tr>\n    <tr>\n      <th>4006</th>\n      <td>Rest House</td>\n      <td>NaN</td>\n      <td>NaN</td>\n      <td>NaN</td>\n      <td>[Free public parking nearby, Street parking, F...</td>\n      <td>[English, Chinese]</td>\n      <td>[]</td>\n      <td>NaN</td>\n      <td>None</td>\n      <td>101.0</td>\n      <td>6.0</td>\n      <td>63.0</td>\n      <td>Singapore</td>\n      <td>{}</td>\n      <td>[]</td>\n    </tr>\n    <tr>\n      <th>4007</th>\n      <td>HG Kampung Glamping</td>\n      <td>NaN</td>\n      <td>NaN</td>\n      <td>NaN</td>\n      <td>[]</td>\n      <td>[None]</td>\n      <td>[]</td>\n      <td>NaN</td>\n      <td>None</td>\n      <td>11.0</td>\n      <td>5.0</td>\n      <td>53.0</td>\n      <td>Singapore</td>\n      <td>{}</td>\n      <td>[]</td>\n    </tr>\n  </tbody>\n</table>\n<p>4014 rows × 15 columns</p>\n</div>"
     },
     "execution_count": 46,
     "metadata": {},
     "output_type": "execute_result"
    }
   ],
   "source": [
    "sort_df(df)"
   ],
   "metadata": {
    "collapsed": false,
    "pycharm": {
     "name": "#%%\n"
    }
   }
  },
  {
   "cell_type": "code",
   "execution_count": 51,
   "outputs": [],
   "source": [
    "# get filter data\n",
    "def get_all_amenities(dFrame):\n",
    "    amenities = {}\n",
    "    for index, row in dFrame.iterrows():\n",
    "        for amenity in row['amenities']:\n",
    "            if amenity in amenities.keys():\n",
    "                amenities[amenity] += 1\n",
    "            else:\n",
    "                amenities[amenity] = 1\n",
    "    return amenities\n",
    "\n",
    "def get_all_languages(dFrame):\n",
    "    languages = {}\n",
    "    for index, row in dFrame.iterrows():\n",
    "        for language in row['languages']:\n",
    "            if language is not None and language != 'None':\n",
    "                if language in languages:\n",
    "                    languages[language] += 1\n",
    "                else:\n",
    "                    languages[language] = 1\n",
    "    # sorting in descending order\n",
    "    languages = sorted(languages.items(), key=lambda x: x[1], reverse=True)\n",
    "    return languages\n",
    "\n",
    "def get_all_classes(dFrame):\n",
    "    classes = {}\n",
    "    for index, row in dFrame.iterrows():\n",
    "        for hotel_class in row['hotel_class']:\n",
    "            if hotel_class in classes:\n",
    "                classes[hotel_class] += 1\n",
    "            else:\n",
    "                classes[hotel_class] = 1\n",
    "    # sorting in descending order\n",
    "    classes = sorted(classes.items(), key=lambda x: x[1], reverse=True)\n",
    "    return classes\n",
    "\n",
    "def get_all_cuisines(dFrame):\n",
    "    cuisines = {}\n",
    "    for index, row in dFrame.iterrows():\n",
    "        for cuisine, count in row['cuisines'].items():\n",
    "            if cuisine in cuisines.keys():\n",
    "                cuisines[cuisine] +=1\n",
    "            else:\n",
    "                cuisines[cuisine] =1\n",
    "    # sorting in descending order\n",
    "    cuisines = sorted(cuisines.items(), key=lambda x: x[1], reverse=True)\n",
    "    return cuisines\n",
    "\n",
    "def get_all_restaurants(dFrame):\n",
    "    restaurants = {}\n",
    "    for index, row in dFrame.iterrows():\n",
    "        for restaurant in row['restaurant_names']:\n",
    "            if restaurant in restaurants:\n",
    "                restaurants[restaurant] +=1\n",
    "            else:\n",
    "                restaurants[restaurant] = 1\n",
    "    # sorting in descending order\n",
    "    restaurants = sorted(restaurants.items(), key=lambda x: x[1], reverse=True)\n",
    "    return restaurants"
   ],
   "metadata": {
    "collapsed": false,
    "pycharm": {
     "name": "#%%\n"
    }
   }
  },
  {
   "cell_type": "code",
   "execution_count": 56,
   "outputs": [
    {
     "data": {
      "text/plain": "38"
     },
     "execution_count": 56,
     "metadata": {},
     "output_type": "execute_result"
    }
   ],
   "source": [
    "int(df.attractions_nearby.mean())"
   ],
   "metadata": {
    "collapsed": false,
    "pycharm": {
     "name": "#%%\n"
    }
   }
  },
  {
   "cell_type": "code",
   "execution_count": 57,
   "outputs": [
    {
     "data": {
      "text/plain": "                                     hotel_name  rating  review_count  \\\n3677     Oyo Home Docklands 2 Bedroom Apartment     5.0           1.0   \n1566                  London Property Apartment     5.0           1.0   \n1378                         From Scratch Tokyo     5.0           1.0   \n1577                      The Marylebone Suites     5.0           1.0   \n1571  Central London Apartment - Great Location     5.0           1.0   \n...                                         ...     ...           ...   \n4003                             K Space Inn 14     NaN           NaN   \n4004                   Shipping Container Hotel     NaN           NaN   \n4005            ZEN Rooms People's Park Complex     NaN           NaN   \n4006                                 Rest House     NaN           NaN   \n4007                        HG Kampung Glamping     NaN           NaN   \n\n      hotel_rank                                          amenities  \\\n3677       864.0                                      [Kitchenette]   \n1566       385.0                                                 []   \n1378         7.0  [Bar / lounge, Baggage storage, Non-smoking ho...   \n1577       380.0                                                 []   \n1571       381.0                                                 []   \n...          ...                                                ...   \n4003         NaN                                                 []   \n4004         NaN                                                 []   \n4005         NaN                                                 []   \n4006         NaN  [Free public parking nearby, Street parking, F...   \n4007         NaN                                                 []   \n\n                languages hotel_class  price best_price_source  \\\n3677               [None]          []    NaN              None   \n1566               [None]          []    NaN              None   \n1378  [English, Japanese]          []    NaN              None   \n1577               [None]          []    NaN              None   \n1571               [None]          []    NaN              None   \n...                   ...         ...    ...               ...   \n4003               [None]          []    NaN              None   \n4004               [None]          []    NaN              None   \n4005               [None]          []    NaN              None   \n4006   [English, Chinese]          []    NaN              None   \n4007               [None]          []    NaN              None   \n\n      restraunts_nearby  attractions_nearby  good_for_walkers_out_of_100  \\\n3677               78.0                33.0                         84.0   \n1566              165.0                26.0                        100.0   \n1378              114.0                15.0                         74.0   \n1577               93.0                19.0                        100.0   \n1571              525.0               112.0                        100.0   \n...                 ...                 ...                          ...   \n4003              662.0               108.0                        100.0   \n4004               77.0                 2.0                         75.0   \n4005              651.0               105.0                        100.0   \n4006              101.0                 6.0                         63.0   \n4007               11.0                 5.0                         53.0   \n\n           city cuisines restaurant_names  \n3677     London       {}               []  \n1566     London       {}               []  \n1378      Tokyo       {}               []  \n1577     London       {}               []  \n1571     London       {}               []  \n...         ...      ...              ...  \n4003  Singapore       {}               []  \n4004  Singapore       {}               []  \n4005  Singapore       {}               []  \n4006  Singapore       {}               []  \n4007  Singapore       {}               []  \n\n[4014 rows x 15 columns]",
      "text/html": "<div>\n<style scoped>\n    .dataframe tbody tr th:only-of-type {\n        vertical-align: middle;\n    }\n\n    .dataframe tbody tr th {\n        vertical-align: top;\n    }\n\n    .dataframe thead th {\n        text-align: right;\n    }\n</style>\n<table border=\"1\" class=\"dataframe\">\n  <thead>\n    <tr style=\"text-align: right;\">\n      <th></th>\n      <th>hotel_name</th>\n      <th>rating</th>\n      <th>review_count</th>\n      <th>hotel_rank</th>\n      <th>amenities</th>\n      <th>languages</th>\n      <th>hotel_class</th>\n      <th>price</th>\n      <th>best_price_source</th>\n      <th>restraunts_nearby</th>\n      <th>attractions_nearby</th>\n      <th>good_for_walkers_out_of_100</th>\n      <th>city</th>\n      <th>cuisines</th>\n      <th>restaurant_names</th>\n    </tr>\n  </thead>\n  <tbody>\n    <tr>\n      <th>3677</th>\n      <td>Oyo Home Docklands 2 Bedroom Apartment</td>\n      <td>5.0</td>\n      <td>1.0</td>\n      <td>864.0</td>\n      <td>[Kitchenette]</td>\n      <td>[None]</td>\n      <td>[]</td>\n      <td>NaN</td>\n      <td>None</td>\n      <td>78.0</td>\n      <td>33.0</td>\n      <td>84.0</td>\n      <td>London</td>\n      <td>{}</td>\n      <td>[]</td>\n    </tr>\n    <tr>\n      <th>1566</th>\n      <td>London Property Apartment</td>\n      <td>5.0</td>\n      <td>1.0</td>\n      <td>385.0</td>\n      <td>[]</td>\n      <td>[None]</td>\n      <td>[]</td>\n      <td>NaN</td>\n      <td>None</td>\n      <td>165.0</td>\n      <td>26.0</td>\n      <td>100.0</td>\n      <td>London</td>\n      <td>{}</td>\n      <td>[]</td>\n    </tr>\n    <tr>\n      <th>1378</th>\n      <td>From Scratch Tokyo</td>\n      <td>5.0</td>\n      <td>1.0</td>\n      <td>7.0</td>\n      <td>[Bar / lounge, Baggage storage, Non-smoking ho...</td>\n      <td>[English, Japanese]</td>\n      <td>[]</td>\n      <td>NaN</td>\n      <td>None</td>\n      <td>114.0</td>\n      <td>15.0</td>\n      <td>74.0</td>\n      <td>Tokyo</td>\n      <td>{}</td>\n      <td>[]</td>\n    </tr>\n    <tr>\n      <th>1577</th>\n      <td>The Marylebone Suites</td>\n      <td>5.0</td>\n      <td>1.0</td>\n      <td>380.0</td>\n      <td>[]</td>\n      <td>[None]</td>\n      <td>[]</td>\n      <td>NaN</td>\n      <td>None</td>\n      <td>93.0</td>\n      <td>19.0</td>\n      <td>100.0</td>\n      <td>London</td>\n      <td>{}</td>\n      <td>[]</td>\n    </tr>\n    <tr>\n      <th>1571</th>\n      <td>Central London Apartment - Great Location</td>\n      <td>5.0</td>\n      <td>1.0</td>\n      <td>381.0</td>\n      <td>[]</td>\n      <td>[None]</td>\n      <td>[]</td>\n      <td>NaN</td>\n      <td>None</td>\n      <td>525.0</td>\n      <td>112.0</td>\n      <td>100.0</td>\n      <td>London</td>\n      <td>{}</td>\n      <td>[]</td>\n    </tr>\n    <tr>\n      <th>...</th>\n      <td>...</td>\n      <td>...</td>\n      <td>...</td>\n      <td>...</td>\n      <td>...</td>\n      <td>...</td>\n      <td>...</td>\n      <td>...</td>\n      <td>...</td>\n      <td>...</td>\n      <td>...</td>\n      <td>...</td>\n      <td>...</td>\n      <td>...</td>\n      <td>...</td>\n    </tr>\n    <tr>\n      <th>4003</th>\n      <td>K Space Inn 14</td>\n      <td>NaN</td>\n      <td>NaN</td>\n      <td>NaN</td>\n      <td>[]</td>\n      <td>[None]</td>\n      <td>[]</td>\n      <td>NaN</td>\n      <td>None</td>\n      <td>662.0</td>\n      <td>108.0</td>\n      <td>100.0</td>\n      <td>Singapore</td>\n      <td>{}</td>\n      <td>[]</td>\n    </tr>\n    <tr>\n      <th>4004</th>\n      <td>Shipping Container Hotel</td>\n      <td>NaN</td>\n      <td>NaN</td>\n      <td>NaN</td>\n      <td>[]</td>\n      <td>[None]</td>\n      <td>[]</td>\n      <td>NaN</td>\n      <td>None</td>\n      <td>77.0</td>\n      <td>2.0</td>\n      <td>75.0</td>\n      <td>Singapore</td>\n      <td>{}</td>\n      <td>[]</td>\n    </tr>\n    <tr>\n      <th>4005</th>\n      <td>ZEN Rooms People's Park Complex</td>\n      <td>NaN</td>\n      <td>NaN</td>\n      <td>NaN</td>\n      <td>[]</td>\n      <td>[None]</td>\n      <td>[]</td>\n      <td>NaN</td>\n      <td>None</td>\n      <td>651.0</td>\n      <td>105.0</td>\n      <td>100.0</td>\n      <td>Singapore</td>\n      <td>{}</td>\n      <td>[]</td>\n    </tr>\n    <tr>\n      <th>4006</th>\n      <td>Rest House</td>\n      <td>NaN</td>\n      <td>NaN</td>\n      <td>NaN</td>\n      <td>[Free public parking nearby, Street parking, F...</td>\n      <td>[English, Chinese]</td>\n      <td>[]</td>\n      <td>NaN</td>\n      <td>None</td>\n      <td>101.0</td>\n      <td>6.0</td>\n      <td>63.0</td>\n      <td>Singapore</td>\n      <td>{}</td>\n      <td>[]</td>\n    </tr>\n    <tr>\n      <th>4007</th>\n      <td>HG Kampung Glamping</td>\n      <td>NaN</td>\n      <td>NaN</td>\n      <td>NaN</td>\n      <td>[]</td>\n      <td>[None]</td>\n      <td>[]</td>\n      <td>NaN</td>\n      <td>None</td>\n      <td>11.0</td>\n      <td>5.0</td>\n      <td>53.0</td>\n      <td>Singapore</td>\n      <td>{}</td>\n      <td>[]</td>\n    </tr>\n  </tbody>\n</table>\n<p>4014 rows × 15 columns</p>\n</div>"
     },
     "execution_count": 57,
     "metadata": {},
     "output_type": "execute_result"
    }
   ],
   "source": [
    "sort_df(df)"
   ],
   "metadata": {
    "collapsed": false,
    "pycharm": {
     "name": "#%%\n"
    }
   }
  },
  {
   "cell_type": "code",
   "execution_count": 74,
   "outputs": [
    {
     "data": {
      "text/plain": "                          hotel_name  rating   price  review_count  hotel_rank\n0              Hotel Mystays Kameido     3.5     0.0           267           1\n1             Zenriren Yoyogino Yado     4.0     0.0            28           1\n2  Tokyo Bay Ariake Washington Hotel     3.5     0.0           682           3\n3                 THE BLOSSOM HIBIYA     4.0  7282.0            31           8\n4             Nippon Seinenkan Hotel     4.5     0.0           169           4",
      "text/html": "<div>\n<style scoped>\n    .dataframe tbody tr th:only-of-type {\n        vertical-align: middle;\n    }\n\n    .dataframe tbody tr th {\n        vertical-align: top;\n    }\n\n    .dataframe thead th {\n        text-align: right;\n    }\n</style>\n<table border=\"1\" class=\"dataframe\">\n  <thead>\n    <tr style=\"text-align: right;\">\n      <th></th>\n      <th>hotel_name</th>\n      <th>rating</th>\n      <th>price</th>\n      <th>review_count</th>\n      <th>hotel_rank</th>\n    </tr>\n  </thead>\n  <tbody>\n    <tr>\n      <th>0</th>\n      <td>Hotel Mystays Kameido</td>\n      <td>3.5</td>\n      <td>0.0</td>\n      <td>267</td>\n      <td>1</td>\n    </tr>\n    <tr>\n      <th>1</th>\n      <td>Zenriren Yoyogino Yado</td>\n      <td>4.0</td>\n      <td>0.0</td>\n      <td>28</td>\n      <td>1</td>\n    </tr>\n    <tr>\n      <th>2</th>\n      <td>Tokyo Bay Ariake Washington Hotel</td>\n      <td>3.5</td>\n      <td>0.0</td>\n      <td>682</td>\n      <td>3</td>\n    </tr>\n    <tr>\n      <th>3</th>\n      <td>THE BLOSSOM HIBIYA</td>\n      <td>4.0</td>\n      <td>7282.0</td>\n      <td>31</td>\n      <td>8</td>\n    </tr>\n    <tr>\n      <th>4</th>\n      <td>Nippon Seinenkan Hotel</td>\n      <td>4.5</td>\n      <td>0.0</td>\n      <td>169</td>\n      <td>4</td>\n    </tr>\n  </tbody>\n</table>\n</div>"
     },
     "execution_count": 74,
     "metadata": {},
     "output_type": "execute_result"
    }
   ],
   "source": [
    "new_df = df.filter(['hotel_name', 'rating', 'price', 'review_count' ,'hotel_rank'], axis=1)\n",
    "new_df['review_count'] = new_df['review_count'].replace(np.nan, 0)\n",
    "new_df['hotel_rank'] = new_df['hotel_rank'].replace(np.nan, 0)\n",
    "new_df['price'] = new_df['price'].replace(np.nan, 0)\n",
    "new_df['review_count'] = new_df['review_count'].astype(dtype=int,errors ='ignore')\n",
    "new_df['hotel_rank'] = new_df['hotel_rank'].astype(dtype=int, errors='ignore')\n",
    "new_df.head()"
   ],
   "metadata": {
    "collapsed": false,
    "pycharm": {
     "name": "#%%\n"
    }
   }
  },
  {
   "cell_type": "code",
   "execution_count": 76,
   "outputs": [
    {
     "data": {
      "text/plain": "[('Japanese', 51),\n ('Asian', 44),\n ('Pub', 44),\n ('Bar', 41),\n ('Grill', 38),\n ('Seafood', 33),\n ('Japanese Fusion', 32),\n ('Healthy', 29),\n ('Barbecue', 29),\n ('Dining bars', 28),\n ('BarPub', 27),\n ('Italian', 25),\n ('Cafe', 21),\n ('Central-Italian', 18),\n ('Sushi', 18),\n ('Brew Pub', 18),\n ('Tuscan', 17),\n ('Medicinal foods', 16),\n ('Spanish', 16),\n ('Diner', 16),\n ('Chinese', 15),\n ('Indian', 15),\n ('Kappo', 15),\n ('International', 15),\n ('Wine Bar', 13),\n ('Steakhouse', 10),\n ('European', 9),\n ('Kaiseki', 9),\n ('Mediterranean', 8),\n ('South American', 7),\n ('Japanese sweets parlour', 7),\n ('Soups', 7),\n ('Fusion', 6),\n ('British', 6),\n ('BarPubDining bars', 5),\n ('Thai', 5),\n ('Latin', 5),\n ('Portuguese', 5),\n ('French', 5),\n ('Beijing cuisine', 4),\n ('Brew PubPub', 4),\n ('PubGastropub', 4),\n ('Indonesian', 4),\n ('Pizza', 4),\n ('Contemporary', 3),\n ('Beer restaurants', 3),\n ('Bangladeshi', 3),\n ('Brazilian', 3),\n ('Singaporean', 3),\n ('KaisekiJapanese Fusion', 3),\n ('Nepalese', 3),\n ('PubBar', 3),\n ('Neapolitan', 3),\n ('Middle Eastern', 3),\n ('African', 3),\n ('Mongolian', 2),\n ('Gastropub', 2),\n ('Peruvian', 2),\n ('PubBeer restaurants', 2),\n ('Brew PubPubDining barsBeer restaurants', 2),\n ('Brew PubPubBeer restaurants', 2),\n ('KaisekiKappo', 2),\n ('PubWine Bar', 2),\n ('Egyptian', 2),\n ('Fast food', 2),\n ('Caribbean', 2),\n ('Sri Lankan', 2),\n ('Lebanese', 2),\n ('GrillPubHokkaido cuisine', 1),\n ('BarPubBrew Pub', 1),\n ('Southern-Italian', 1),\n ('Brew PubBar', 1),\n ('Kyushu cuisine', 1),\n ('PubKaiseki', 1),\n ('BarWine Bar', 1),\n ('GastropubDining bars', 1),\n ('DinerJapanese Fusion', 1),\n ('GrillKyushu cuisine', 1),\n ('Beer restaurantsBarPub', 1),\n ('PubGastropubDining bars', 1),\n ('GrillWine BarDining bars', 1),\n ('PubJapanese Fusion', 1),\n ('Brew PubGrillJapanese Fusion', 1),\n ('GrillWine Bar', 1),\n ('GrillDining bars', 1),\n ('GrillContemporary', 1),\n ('GrillPub', 1),\n ('Swiss', 1),\n ('Southwestern', 1),\n ('KaisekiShojin', 1),\n ('BarDining bars', 1),\n ('BarPubWine Bar', 1),\n ('American', 1),\n ('PubGrill', 1),\n ('Central European', 1),\n ('Central AsianUzbek', 1),\n ('Israeli', 1),\n ('DinerBalti', 1),\n ('BarGrill', 1),\n ('Greek', 1),\n ('Belgian', 1),\n ('Balti', 1),\n ('Street Food', 1),\n ('BaltiBangladeshi', 1),\n ('Arabic', 1),\n ('GrillSingaporean', 1)]"
     },
     "execution_count": 76,
     "metadata": {},
     "output_type": "execute_result"
    }
   ],
   "source": [
    "get_all_cuisines(df)"
   ],
   "metadata": {
    "collapsed": false,
    "pycharm": {
     "name": "#%%\n"
    }
   }
  },
  {
   "cell_type": "code",
   "execution_count": null,
   "outputs": [],
   "source": [],
   "metadata": {
    "collapsed": false,
    "pycharm": {
     "name": "#%%\n"
    }
   }
  }
 ],
 "metadata": {
  "kernelspec": {
   "display_name": "Python 3",
   "language": "python",
   "name": "python3"
  },
  "language_info": {
   "codemirror_mode": {
    "name": "ipython",
    "version": 3
   },
   "file_extension": ".py",
   "mimetype": "text/x-python",
   "name": "python",
   "nbconvert_exporter": "python",
   "pygments_lexer": "ipython3",
   "version": "3.8.3"
  }
 },
 "nbformat": 4,
 "nbformat_minor": 4
}